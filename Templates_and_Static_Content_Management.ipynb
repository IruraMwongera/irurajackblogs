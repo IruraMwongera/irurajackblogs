{
  "nbformat": 4,
  "nbformat_minor": 0,
  "metadata": {
    "colab": {
      "provenance": []
    },
    "kernelspec": {
      "name": "python3",
      "display_name": "Python 3"
    },
    "language_info": {
      "name": "python"
    }
  },
  "cells": [
    {
      "cell_type": "markdown",
      "source": [
        "# __Templates and Static Content Management.__"
      ],
      "metadata": {
        "id": "5KxYCcsAXrvK"
      }
    },
    {
      "cell_type": "markdown",
      "source": [
        "### This concept page introduces Django templates and the management of static content within Django projects. It covers the creation and utilization of templates for rendering dynamic web pages, as well as the handling of static files such as CSS, JavaScript, and images."
      ],
      "metadata": {
        "id": "E-IHMWI0Xvef"
      }
    },
    {
      "cell_type": "markdown",
      "source": [
        "## Topics\n",
        "- ### Django Templates\n",
        "- ### Template Language\n",
        "- ### Template Inheritance\n",
        "- ### Static Files Management"
      ],
      "metadata": {
        "id": "caIL-MlgX5xZ"
      }
    },
    {
      "cell_type": "markdown",
      "source": [
        "## Objectives\n",
        "- ### Understand the role of templates in generating dynamic web content\n",
        "- ### Learn the syntax and features of Django’s template language\n",
        "- ### Explore template inheritance and its benefits for code reuse and organization\n",
        "- ### Master the management of static files in Django projects, including CSS, - ### JavaScript, and images"
      ],
      "metadata": {
        "id": "If__AoB1YKy3"
      }
    },
    {
      "cell_type": "markdown",
      "source": [
        "## __Django Templates.__"
      ],
      "metadata": {
        "id": "CmYLffv9YV80"
      }
    },
    {
      "cell_type": "markdown",
      "source": [
        "### In Django, templates are text files that define the structure and presentation of data for web pages. They separate the presentation logic from the application logic, allowing developers to create reusable and maintainable code. Templates provide a way to generate dynamic HTML by interpolating data from the application’s views and models."
      ],
      "metadata": {
        "id": "pwZunK7oYjBt"
      }
    },
    {
      "cell_type": "markdown",
      "source": [
        "## __Template Language.__"
      ],
      "metadata": {
        "id": "Zaed2ghLYvoM"
      }
    },
    {
      "cell_type": "markdown",
      "source": [
        "### Django’s template language provides a set of tags, filters, and variables for manipulating and displaying dynamic data within templates. Templates can access and display data passed from views using variable interpolation ({{ variable }}) and can execute loops and conditional statements using template tags ({% tag %}).\n",
        "\n",
        "### Tags such as {% for %}, {% if %}, and {% include %} allow for control flow and template inclusion, while filters like {{ value|date }} and {{ value|truncatechars:30 }} modify the displayed data."
      ],
      "metadata": {
        "id": "tbokgKLdY4rE"
      }
    },
    {
      "cell_type": "code",
      "source": [
        "\"\"\"\n",
        "<!-- book_list.html -->\n",
        "<h1>Book List</h1>\n",
        "<ul>\n",
        "{% for book in book_list %}\n",
        "  <li>{{ book.title }} by {{ book.author }}</li>\n",
        "{% endfor %}\n",
        "</ul>\n",
        "\"\"\""
      ],
      "metadata": {
        "id": "cz6Osl2hZL-V"
      },
      "execution_count": null,
      "outputs": []
    },
    {
      "cell_type": "markdown",
      "source": [
        "## __Template Inheritance.__"
      ],
      "metadata": {
        "id": "ZdJC7z7gZXQd"
      }
    },
    {
      "cell_type": "markdown",
      "source": [
        "### Template inheritance is a powerful feature in Django that allows you to create a base template with common elements and extend it with child templates for specific pages. This promotes code reuse and consistency across your web application."
      ],
      "metadata": {
        "id": "15XM3owlZaXh"
      }
    },
    {
      "cell_type": "code",
      "source": [
        "\"\"\"\n",
        "<!-- base.html -->\n",
        "<html>\n",
        "  <head>\n",
        "    <title>{% block title %}My Site{% endblock %}</title>\n",
        "  </head>\n",
        "  <body>\n",
        "    {% block content %}{% endblock %}\n",
        "  </body>\n",
        "</html>\n",
        "\n",
        "<!-- book_list.html -->\n",
        "{% extends 'base.html' %}\n",
        "{% block title %}Book List{% endblock %}\n",
        "{% block content %}\n",
        "  <h1>Book List</h1>\n",
        "  <ul>\n",
        "    {% for book in book_list %}\n",
        "      <li>{{ book.title }} by {{ book.author }}</li>\n",
        "    {% endfor %}\n",
        "    </ul>\n",
        "{% endblock %}\n",
        "\"\"\""
      ],
      "metadata": {
        "id": "dgkSzCvMZhWV"
      },
      "execution_count": null,
      "outputs": []
    },
    {
      "cell_type": "markdown",
      "source": [
        "## __Template Tags and Filters.__"
      ],
      "metadata": {
        "id": "6uRM1EG_Znj8"
      }
    },
    {
      "cell_type": "markdown",
      "source": [
        "### Django provides a rich set of built-in template tags and filters for common tasks like looping, conditional rendering, URL generation, and string formatting. You can also create custom template tags and filters to extend the fun"
      ],
      "metadata": {
        "id": "CLo244EcZxKG"
      }
    },
    {
      "cell_type": "code",
      "source": [
        "\"\"\"\n",
        "<a href=\"{% url 'book-detail' book.id %}\">{{ book.title|truncatechars:30 }}</a>\n",
        "\"\"\""
      ],
      "metadata": {
        "colab": {
          "base_uri": "https://localhost:8080/",
          "height": 35
        },
        "id": "lPgO_yGwaJg6",
        "outputId": "f162fcc5-bb02-4b49-9567-22f918b24a96"
      },
      "execution_count": null,
      "outputs": [
        {
          "output_type": "execute_result",
          "data": {
            "text/plain": [
              "'\\n<a href=\"{% url \\'book-detail\\' book.id %}\">{{ book.title|truncatechars:30 }}</a>\\n'"
            ],
            "application/vnd.google.colaboratory.intrinsic+json": {
              "type": "string"
            }
          },
          "metadata": {},
          "execution_count": 1
        }
      ]
    },
    {
      "cell_type": "markdown",
      "source": [
        "## __Static Files Management__"
      ],
      "metadata": {
        "id": "7YLHci2VagTU"
      }
    },
    {
      "cell_type": "markdown",
      "source": [
        "### Django provides built-in tools for managing static files such as CSS, JavaScript, and images. Static files are typically stored in the static directory within Django apps and are served directly by the web server in production for improved performance."
      ],
      "metadata": {
        "id": "Tp7zVhSOapZK"
      }
    },
    {
      "cell_type": "code",
      "source": [
        "\"\"\"\n",
        "<!-- base.html -->\n",
        "<!DOCTYPE html>\n",
        "<html lang=\"en\">\n",
        "<head>\n",
        "    <meta charset=\"UTF-8\">\n",
        "    <title>{% block title %}My Site{% endblock %}</title>\n",
        "    <link rel=\"stylesheet\" href=\"{% static 'css/style.css' %}\">\n",
        "</head>\n",
        "<body>\n",
        "    <!-- Content -->\n",
        "    <script src=\"{% static 'js/script.js' %}\"></script>\n",
        "</body>\n",
        "</html>\n",
        "\"\"\""
      ],
      "metadata": {
        "id": "1QAjo-T_a0dy"
      },
      "execution_count": null,
      "outputs": []
    },
    {
      "cell_type": "markdown",
      "source": [
        "### In this example, {% static %} template tag is used to include static files like CSS and JavaScript in the HTML template. These files are stored in the static directory of the app and are referenced using the {% static %} tag."
      ],
      "metadata": {
        "id": "-exNTocba6lx"
      }
    },
    {
      "cell_type": "markdown",
      "source": [
        "Django Templates\n",
        "https://docs.djangoproject.com/en/5.2/topics/templates/"
      ],
      "metadata": {
        "id": "Eg9Km8tda-Up"
      }
    },
    {
      "cell_type": "markdown",
      "source": [
        "Template Syntax\n",
        "https://docs.djangoproject.com/en/5.2/ref/templates/language/"
      ],
      "metadata": {
        "id": "v1Bjl1jDbVgT"
      }
    },
    {
      "cell_type": "markdown",
      "source": [
        "Template Inheritance\n",
        "https://docs.djangoproject.com/en/5.2/ref/templates/language/#template-inheritance\n"
      ],
      "metadata": {
        "id": "I8pd4hJibWnn"
      }
    },
    {
      "cell_type": "markdown",
      "source": [
        "Built-in Template Tags and Filters\n",
        "https://docs.djangoproject.com/en/5.2/ref/templates/builtins/\n"
      ],
      "metadata": {
        "id": "HYf83wXmbgOZ"
      }
    },
    {
      "cell_type": "markdown",
      "source": [
        "Managing Static Files\n",
        "https://docs.djangoproject.com/en/5.2/howto/static-files/\n"
      ],
      "metadata": {
        "id": "SFTCRWosboll"
      }
    }
  ]
}