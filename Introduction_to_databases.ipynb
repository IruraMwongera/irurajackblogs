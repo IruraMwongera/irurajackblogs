{
  "nbformat": 4,
  "nbformat_minor": 0,
  "metadata": {
    "colab": {
      "provenance": []
    },
    "kernelspec": {
      "name": "python3",
      "display_name": "Python 3"
    },
    "language_info": {
      "name": "python"
    }
  },
  "cells": [
    {
      "cell_type": "markdown",
      "source": [],
      "metadata": {
        "id": "hJlmEa0bvOWB"
      }
    },
    {
      "cell_type": "markdown",
      "source": [
        "# __Introduction to Relational Databases.__"
      ],
      "metadata": {
        "id": "5pzKIb9QuZ2A"
      }
    },
    {
      "cell_type": "markdown",
      "source": [
        "## __What is a Database__\n",
        "\n",
        "\n",
        "- ## A database is an organized collection of data that is stored and managed in a way that allows efficient retrieval, manipulation, and maintenance of information.\n",
        "\n",
        "- ### Databases are essential components of modern information systems, enabling efficient storage, organization, and retrieval of data. They serve as centralized repositories for managing and manipulating data used by applications, organizations, or individuals. Understanding the concept of a database is crucial for anyone working with data-driven applications or systems.\n",
        "\n",
        "- ## Databases provide a number of advantages in the storage, organization and management of data. The following some of the main ones.\n",
        "- ## Efficient Data Management: Databases allow for efficient storage, retrieval, and manipulation of data, enabling organizations to manage large volumes of information effectively.\n",
        "- ## Data Integrity: With mechanisms such as transactions and constraints, databases ensure the accuracy and consistency of data.\n",
        "- ## Data Security: Databases provide security features to control access to sensitive information and protect against unauthorized access.\n",
        "## __Examples of Databases.__\n",
        "\n",
        "- ## Relational Databases (e.g., MySQL, PostgreSQL, Oracle): Organize data into tables with predefined schema and support SQL (Structured Query Language) for querying and manipulation.\n",
        "- ## NoSQL Databases (e.g., MongoDB, Cassandra): Designed to handle unstructured or semi-structured data and provide flexible schema.\n",
        "## __Use Cases.__\n",
        "\n",
        "- ## E-commerce: Storing product information, customer details, and order history.\n",
        "- ## Banking: Managing customer accounts, transactions, and financial records.\n",
        "- ## Healthcare: Storing patient records, medical history, and diagnostic information.\n"
      ],
      "metadata": {
        "id": "a5XEwoAYupfe"
      }
    },
    {
      "cell_type": "markdown",
      "source": [
        "# __Database Management System (DBMS).__\n",
        "- ## A Database Management System (DBMS) is a software system designed to create, manage, and interact with databases. It acts as an intermediary between the database and the applications or users, providing a structured and organized way to store, retrieve, and manipulate data. Understanding the role and functionality of a DBMS is essential for effectively working with databases.\n",
        "\n",
        "- ## DBMS provides a set of tools and interfaces for creating, modifying, and querying databases, as well as managing data access, security, backup, and recovery processes. It handles tasks such as defining the database structure (schema), creating and modifying tables, inserting, updating, and deleting data, and enforcing data integrity rules.\n",
        "\n",
        "## __Main uses of DBMS.__\n",
        "\n",
        "- ## Handles tasks such as defining the database structure (schema), creating and modifying tables, inserting, updating, and deleting data, and enforcing data integrity rules.\n",
        "- ## Translates high-level queries (e.g., SQL - Structured Query Language) into low-level operations that interact directly with the physical storage of data on disk or in memory.\n",
        "- ## Manages concurrent access to data, ensuring that multiple users or applications can access and modify data simultaneously without causing conflicts or data corruption.\n",
        "- ## Popular examples of DBMS include MySQL, PostgreSQL, Oracle, Microsoft SQL Server, and MongoDB."
      ],
      "metadata": {
        "id": "2z6upLYVwJPE"
      }
    },
    {
      "cell_type": "markdown",
      "source": [
        "# __Types of Databases.__"
      ],
      "metadata": {
        "id": "GUG69vpX0h-U"
      }
    },
    {
      "cell_type": "markdown",
      "source": [
        "## __Topics__\n",
        "- ### SQL - Relational Databases\n",
        "- ### NoSQL - Non-Relational Databases"
      ],
      "metadata": {
        "id": "GYmcdgtR1BJ2"
      }
    },
    {
      "cell_type": "markdown",
      "source": [
        "# __SQL Databases__\n",
        "##  QL (Structured Query Language) databases, also known as relational databases, are based on the relational model introduced by E.F. Codd in 1970. They store data in tables with predefined schema and use SQL for querying and manipulation. Data is organized into tables with rows (records) and columns (fields). Tables can be related to each other through foreign keys and join operations.\n",
        "\n",
        "## SQL databases enforce a strict schema, meaning that the structure of the data (tables, columns, and data types) must be defined in advance and they use Structured Query Language (SQL) for data manipulation and retrieval. SQL databases are well-suited for applications that require complex querying, data integrity, and transactions, such as financial systems, e-commerce platforms, and content management systems.***\n",
        "\n",
        "## __Characteristics:__\n",
        "\n",
        "- ## Structured Data: Data is organized into predefined structures with strict schema.\n",
        "- ## ACID Transactions: SQL databases support ACID (Atomicity, Consistency, Isolation, Durability) transactions to maintain data integrity.\n",
        "- ## Data Integrity: Enforces data integrity through constraints such as primary keys, foreign keys, and unique constraints.\n",
        "## __Examples of Databases.__\n",
        "\n",
        "- ## MySQL: An open-source relational database management system (RDBMS) widely used in web development.\n",
        "- ## PostgreSQL: A powerful open-source object-relational database system known for its robustness and extensibility.\n",
        "- ## Oracle: A commercial RDBMS commonly used in enterprise applications."
      ],
      "metadata": {
        "id": "dbryooHn1NAh"
      }
    },
    {
      "cell_type": "markdown",
      "source": [
        "# __NoSQL Databases__\n",
        "## NoSQL (Not only SQL) databases are non-relational databases that store and retrieve data in a way that differs from the tabular structure used in relational databases. They are designed to handle unstructured or semi-structured data and provide flexible schemas. NoSQL databases can be categorized into different types, including key-value stores, document-oriented databases, column-family stores, and graph databases.\n",
        "\n",
        "## NoSQL databases are designed to scale horizontally by distributing data across multiple servers or clusters, making them suitable for handling large volumes of data and high-traffic applications. They often sacrifice some of the ACID properties in favor of higher availability, partition tolerance, and eventual consistency.\n",
        "\n",
        "## __Characteristics:__\n",
        "\n",
        "- ## Schema Flexibility: NoSQL databases support flexible schemas, allowing for easier adaptation to evolving data models.\n",
        "- ## Scalability: Designed for horizontal scalability, enabling distributed storage and processing across multiple nodes.\n",
        "- ## Variety of Data Models: Support various data models such as document, key-value, columnar, and graph.\n",
        "## __Examples:__\n",
        "\n",
        "- ## MongoDB: A popular document-oriented NoSQL database that stores data in flexible JSON-like documents.\n",
        "- ## Cassandra: A distributed NoSQL database designed for scalability and high availability, commonly used in large-scale distributed systems.\n",
        "- ## Redis: An in-memory data store that supports various data structures like strings, lists, sets, and hashes."
      ],
      "metadata": {
        "id": "I5uq95VWFXM_"
      }
    },
    {
      "cell_type": "markdown",
      "source": [
        "# __Introduction to SQL.__"
      ],
      "metadata": {
        "id": "9tHQsL-VHXfR"
      }
    },
    {
      "cell_type": "markdown",
      "source": [
        "# __Concept Overview.__\n",
        "## __Topics.__\n",
        "- ## Introduction to Relational Database Concepts\n",
        "- ## Introduction to SQL\n",
        "- ## SQL Syntax and Structure\n",
        "- ## Basic SQL Operations\n",
        "- ## Installing MySQL"
      ],
      "metadata": {
        "id": "axUVq_V0HoUF"
      }
    },
    {
      "cell_type": "markdown",
      "source": [
        "# __Introduction to Relational Database Concepts.__"
      ],
      "metadata": {
        "id": "fhQuovfKtVxa"
      }
    },
    {
      "cell_type": "markdown",
      "source": [
        "## __Tables.__\n",
        "- ## A table is a fundamental component of a relational database, which stores data in a structured format.\n",
        "- ## Tables consist of rows (records) and columns (fields).\n",
        "- ## Each table represents a specific entity or concept, such as “Customers,” “Orders,” or “Products.”\n",
        "Tables are defined with a schema that specifies the names of columns, data types, and constraints."
      ],
      "metadata": {
        "id": "yq5BiTBEtrBp"
      }
    },
    {
      "cell_type": "markdown",
      "source": [
        "## __Rows.__\n",
        "- ## Rows, also known as records, represent individual instances or occurrences of the entity represented by the table.\n",
        "- ## Each row in a table contains a unique set of values for the columns defined in the table’s schema.\n",
        "- ## For example, in a “Customers” table, each row would represent a single customer with their respective data (name, address, email, etc.).\n"
      ],
      "metadata": {
        "id": "N_oik-ZNt8OB"
      }
    },
    {
      "cell_type": "markdown",
      "source": [
        "## __Columns.__\n",
        "- ## Columns, also known as fields, define the attributes or characteristics of the entity represented by the table.\n",
        "- ## Each column has a name and a specific data type (e.g., text, numeric, date, etc.) that defines the type of data it can store.\n",
        "- ## Columns often have constraints, such as “NOT NULL” to ensure that a value is always provided, or “UNIQUE” to prevent duplicate values.\n",
        "- ## For example, in a “Customers” table, columns might include “CustomerID,” “FirstName,” “LastName,” “Email,” and “Phone.”"
      ],
      "metadata": {
        "id": "r9FEF8v7umNT"
      }
    },
    {
      "cell_type": "markdown",
      "source": [
        "# __Relationships.__\n",
        "- ## Relational databases allow tables to be related to each other through the use of primary keys and foreign keys.\n",
        "- ## A primary key is a column or a combination of columns that uniquely identifies each row in a table.\n",
        "- ## A foreign key is a column or a combination of columns that references the primary key of another table, establishing a relationship between the two tables.\n",
        "Relationships enable data to be efficiently queried and combined from multiple tables, ensuring data integrity and eliminating redundancy."
      ],
      "metadata": {
        "id": "4ZSSTFm5u_a-"
      }
    },
    {
      "cell_type": "markdown",
      "source": [
        "# __Introduction to SQL.__\n",
        "## SQL (Structured Query Language) is a programming language designed for managing and manipulating relational databases. It serves as the standard language for interacting with SQL databases, such as MySQL, PostgreSQL, Oracle, and Microsoft SQL Server. SQL provides a standardized way to perform various operations on databases, including creating, modifying, and querying data. It uses a structured, English-like syntax, making it relatively easy to learn and understand, even for non-programmers\n",
        "\n",
        "## SQL is a declarative language, meaning that you specify what data you want to retrieve or manipulate, rather than providing step-by-step instructions on how to do it. It is widely adopted and supported by various database management systems (DBMS), ensuring portability and compatibility across different platforms. SQL is essential for data analysts, database administrators, and developers working with relational databases and data-driven applications."
      ],
      "metadata": {
        "id": "DWHJKmI4vW7H"
      }
    },
    {
      "cell_type": "markdown",
      "source": [
        "# __SQL Syntax and Structure.__\n",
        "## SQL follows a specific syntax and structure, consisting of various statements and clauses. Understanding the syntax and structure is crucial for writing correct and efficient SQL queries.\n",
        "\n",
        "## SQL statements can be categorized into several types, including:\n",
        "\n",
        "- ## __Data Definition Language (DDL)__: Used for creating, modifying, and deleting database objects like tables and indexes (e.g., CREATE, ALTER, DROP).\n",
        "- ## __Data Manipulation Language (DML)__: Used for inserting, updating, and deleting data within tables (e.g., INSERT, UPDATE, DELETE).\n",
        "- ## __Data Query Language (DQL)__: Used for retrieving data from tables (e.g., SELECT).\n",
        "- ## __Data Control Language (DCL)__: Used for managing user access and permissions (e.g., GRANT, REVOKE)."
      ],
      "metadata": {
        "id": "ymTdr0PGvoNl"
      }
    },
    {
      "cell_type": "markdown",
      "source": [
        "# __SQL Data Types.__\n",
        "## SQL supports various data types to store different kinds of data in a database. Here are some common SQL data types:\n",
        "\n",
        "- ## __Numeric Types__: Used to store numbers. Examples: INTEGER, SMALLINT, BIGINT, DECIMAL, NUMERIC, FLOAT.\n",
        "- ## __Character Types__: Used to store text data. Examples: CHAR, VARCHAR, TEXT.\n",
        "- ## __Date and Time Types__: Used to store date and time values. Examples: DATE, TIME, DATETIME, TIMESTAMP.\n",
        "- ## __Boolean Type__: Used to store logical values (true or false). Example: BOOLEAN.\n",
        "## Data types are important because they define the kind of data that can be stored in a column and ensure data integrity by preventing invalid data from being inserted."
      ],
      "metadata": {
        "id": "YIrWwYoHwyrl"
      }
    },
    {
      "cell_type": "markdown",
      "source": [
        "# __Basic SQL Operations.__"
      ],
      "metadata": {
        "id": "J66q69hixrd6"
      }
    },
    {
      "cell_type": "markdown",
      "source": [
        "## __Creating a Table.__"
      ],
      "metadata": {
        "id": "4NOOC9U_xvR0"
      }
    },
    {
      "cell_type": "code",
      "source": [
        "\"\"\"\n",
        "CREATE TABLE Employees (\n",
        "  EmployeeID INT PRIMARY KEY,\n",
        "  FirstName VARCHAR(50) NOT NULL,\n",
        "  LastName VARCHAR(50) NOT NULL,\n",
        "  Email VARCHAR(100) UNIQUE,\n",
        "  HireDate DATE\n",
        ");\n",
        "\"\"\"\n"
      ],
      "metadata": {
        "colab": {
          "base_uri": "https://localhost:8080/",
          "height": 35
        },
        "id": "G1RqZ5Gjyqbi",
        "outputId": "e7fba19c-291f-4338-f90b-b30ee3dabc54"
      },
      "execution_count": null,
      "outputs": [
        {
          "output_type": "execute_result",
          "data": {
            "text/plain": [
              "'\\nCREATE TABLE Employees (\\n  EmployeeID INT PRIMARY KEY,\\n  FirstName VARCHAR(50) NOT NULL,\\n  LastName VARCHAR(50) NOT NULL,\\n  Email VARCHAR(100) UNIQUE,\\n  HireDate DATE\\n);\\n'"
            ],
            "application/vnd.google.colaboratory.intrinsic+json": {
              "type": "string"
            }
          },
          "metadata": {},
          "execution_count": 2
        }
      ]
    },
    {
      "cell_type": "markdown",
      "source": [
        "## This statement creates a new table named “Employees” with columns for EmployeeID (as the primary key), FirstName, LastName, Email (with a unique constraint), and HireDate. The data types for each column are specified, and constraints like NOT NULL and UNIQUE are applied."
      ],
      "metadata": {
        "id": "S8IDKUQPzd_U"
      }
    },
    {
      "cell_type": "markdown",
      "source": [
        "# __Inserting Data into a Table.__"
      ],
      "metadata": {
        "id": "V6R5z-Cyzp24"
      }
    },
    {
      "cell_type": "code",
      "source": [
        "\"\"\"\n",
        "INSERT INTO Employees (EmployeeID, FirstName, LastName, Email, HireDate)\n",
        "VALUES (1, 'John', 'Doe', 'john.doe@example.com', '2022-05-15');\n",
        "\n",
        "INSERT INTO Employees (EmployeeID, FirstName, LastName, Email, HireDate)\n",
        "VALUES (2, 'Jane', 'Smith', 'jane.smith@example.com', '2021-08-22'),\n",
        "       (3, 'Michael', 'Johnson', 'michael.johnson@example.com', '2023-02-01');\n",
        "\"\"\""
      ],
      "metadata": {
        "colab": {
          "base_uri": "https://localhost:8080/",
          "height": 52
        },
        "id": "QZcFakaz0Bks",
        "outputId": "d8177647-2cab-45b2-e875-32e0662107db"
      },
      "execution_count": null,
      "outputs": [
        {
          "output_type": "execute_result",
          "data": {
            "text/plain": [
              "\"\\nINSERT INTO Employees (EmployeeID, FirstName, LastName, Email, HireDate)\\nVALUES (1, 'John', 'Doe', 'john.doe@example.com', '2022-05-15');\\n\\nINSERT INTO Employees (EmployeeID, FirstName, LastName, Email, HireDate)\\nVALUES (2, 'Jane', 'Smith', 'jane.smith@example.com', '2021-08-22'),\\n       (3, 'Michael', 'Johnson', 'michael.johnson@example.com', '2023-02-01');\\n\""
            ],
            "application/vnd.google.colaboratory.intrinsic+json": {
              "type": "string"
            }
          },
          "metadata": {},
          "execution_count": 4
        }
      ]
    },
    {
      "cell_type": "markdown",
      "source": [
        "## These statements insert new records (rows) into the “Employees” table. The first statement inserts a single record, while the second statement demonstrates how to insert multiple records in one statement by separating the value sets with commas."
      ],
      "metadata": {
        "id": "AExXz_-30ShZ"
      }
    },
    {
      "cell_type": "markdown",
      "source": [
        "# __Selecting Data from a Table.__"
      ],
      "metadata": {
        "id": "U4x-a-up0Y-X"
      }
    },
    {
      "cell_type": "code",
      "source": [
        "\"\"\"\n",
        "SELECT * FROM Employees;\n",
        "\"\"\""
      ],
      "metadata": {
        "colab": {
          "base_uri": "https://localhost:8080/",
          "height": 35
        },
        "id": "0XWdslWb0hKI",
        "outputId": "f2cee2dc-d63d-48ab-8224-246d1f165848"
      },
      "execution_count": null,
      "outputs": [
        {
          "output_type": "execute_result",
          "data": {
            "text/plain": [
              "'\\nSELECT * FROM Employees;\\n'"
            ],
            "application/vnd.google.colaboratory.intrinsic+json": {
              "type": "string"
            }
          },
          "metadata": {},
          "execution_count": 5
        }
      ]
    },
    {
      "cell_type": "markdown",
      "source": [
        "## This statement retrieves all columns and rows from the “Employees” table."
      ],
      "metadata": {
        "id": "V6buRVTh1Ej2"
      }
    },
    {
      "cell_type": "code",
      "source": [
        "\"\"\"\n",
        "SELECT FirstName, LastName, Email FROM Employees;\n",
        "\"\"\""
      ],
      "metadata": {
        "colab": {
          "base_uri": "https://localhost:8080/",
          "height": 35
        },
        "id": "5dKp5N_N1TPr",
        "outputId": "ee2444e2-f6d1-49e2-c2ea-833844c14b9e"
      },
      "execution_count": null,
      "outputs": [
        {
          "output_type": "execute_result",
          "data": {
            "text/plain": [
              "'\\nSELECT FirstName, LastName, Email FROM Employees;\\n'"
            ],
            "application/vnd.google.colaboratory.intrinsic+json": {
              "type": "string"
            }
          },
          "metadata": {},
          "execution_count": 8
        }
      ]
    },
    {
      "cell_type": "markdown",
      "source": [
        "## This statement retrieves only the FirstName, LastName, and Email columns from the “Employees” table."
      ],
      "metadata": {
        "id": "TFREUPsv1gSB"
      }
    },
    {
      "cell_type": "markdown",
      "source": [
        "# __Installing MySQL.__"
      ],
      "metadata": {
        "id": "MNBkY3aR15X8"
      }
    },
    {
      "cell_type": "markdown",
      "source": [
        "## __Installing on Windows.__\n",
        "## __Download MySQL.__\n",
        "## Download MySQL installer from https://dev.mysql.com/downloads/installer/ and execute it. On this page you can select the version you would like to install. You can choose the web installer or the offline installer."
      ],
      "metadata": {
        "id": "BCMye2sC2Epd"
      }
    },
    {
      "cell_type": "markdown",
      "source": [
        "![My Screenshot](https://raw.githubusercontent.com/IruraMwongera/irurajackblogs/main/Screenshot%202025-06-24%20151308.png)\n"
      ],
      "metadata": {
        "id": "J6pJh6lF6Mpf"
      }
    },
    {
      "cell_type": "markdown",
      "source": [
        "![My Screenshot](https://raw.githubusercontent.com/IruraMwongera/irurajackblogs/main/Screenshot%202025-06-24%20151840.png)\n"
      ],
      "metadata": {
        "id": "pAUi9VPu65Y4"
      }
    },
    {
      "cell_type": "markdown",
      "source": [
        "![My Screenshot](https://raw.githubusercontent.com/IruraMwongera/irurajackblogs/main/Screenshot%202025-06-24%20153434.png)\n",
        "\n",
        "\n",
        "\n"
      ],
      "metadata": {
        "id": "WdwwFKfi8Gr-"
      }
    },
    {
      "cell_type": "markdown",
      "source": [
        "![My Screenshot](https://raw.githubusercontent.com/IruraMwongera/irurajackblogs/main/Screenshot%202025-06-24%20153954.png)"
      ],
      "metadata": {
        "id": "bhG725qY8EFP"
      }
    },
    {
      "cell_type": "markdown",
      "source": [
        "![My Screenshot](https://raw.githubusercontent.com/IruraMwongera/irurajackblogs/main/Screenshot%202025-06-24%20154425.png)"
      ],
      "metadata": {
        "id": "tM6iZ2zT-Rm_"
      }
    },
    {
      "cell_type": "markdown",
      "source": [
        "![My Screenshot](https://raw.githubusercontent.com/IruraMwongera/irurajackblogs/main/Screenshot%202025-06-24%20154745.png)"
      ],
      "metadata": {
        "id": "be_2OG9b_DLe"
      }
    },
    {
      "cell_type": "markdown",
      "source": [
        "![My Screenshot](https://raw.githubusercontent.com/IruraMwongera/irurajackblogs/main/Screenshot%202025-06-24%20155101.png)"
      ],
      "metadata": {
        "id": "dG8MF8my_1EN"
      }
    },
    {
      "cell_type": "markdown",
      "source": [
        "![My Screenshot](https://raw.githubusercontent.com/IruraMwongera/irurajackblogs/main/Screenshot%202025-06-24%20155550.png)"
      ],
      "metadata": {
        "id": "qmQRBRM8A_BA"
      }
    },
    {
      "cell_type": "markdown",
      "source": [
        "# __Installing MySQL on Linux.__"
      ],
      "metadata": {
        "id": "iEW0W_qIBWqa"
      }
    },
    {
      "cell_type": "markdown",
      "source": [
        "## Below instruction is for __Ubuntu__ distribution."
      ],
      "metadata": {
        "id": "pkIYczerBggj"
      }
    },
    {
      "cell_type": "markdown",
      "source": [
        "### 1. Update the package index"
      ],
      "metadata": {
        "id": "5_j4HlN9BsbX"
      }
    },
    {
      "cell_type": "code",
      "source": [
        "\"\"\"\n",
        "suo apt update\n",
        "\"\"\""
      ],
      "metadata": {
        "colab": {
          "base_uri": "https://localhost:8080/",
          "height": 35
        },
        "id": "PkuqYhj5BzDQ",
        "outputId": "56937494-113d-42fc-f057-24fb628252af"
      },
      "execution_count": null,
      "outputs": [
        {
          "output_type": "execute_result",
          "data": {
            "text/plain": [
              "'\\nsuo apt update\\n'"
            ],
            "application/vnd.google.colaboratory.intrinsic+json": {
              "type": "string"
            }
          },
          "metadata": {},
          "execution_count": 15
        }
      ]
    },
    {
      "cell_type": "markdown",
      "source": [
        "### 2.Install __mysql-server.__"
      ],
      "metadata": {
        "id": "csonX4AQCF0N"
      }
    },
    {
      "cell_type": "code",
      "source": [
        "\"\"\"\n",
        "sudo apt install mysql-server\n",
        "\"\"\""
      ],
      "metadata": {
        "colab": {
          "base_uri": "https://localhost:8080/",
          "height": 35
        },
        "id": "dI5T9joXCcji",
        "outputId": "1f17b6ec-0f52-4cdd-f1d3-9327756032f0"
      },
      "execution_count": null,
      "outputs": [
        {
          "output_type": "execute_result",
          "data": {
            "text/plain": [
              "'\\nsudo apt install mysql-server\\n'"
            ],
            "application/vnd.google.colaboratory.intrinsic+json": {
              "type": "string"
            }
          },
          "metadata": {},
          "execution_count": 16
        }
      ]
    },
    {
      "cell_type": "markdown",
      "source": [
        "### 3. Ensure the server is running - it should start automatically but to make sure it is running execute the below command"
      ],
      "metadata": {
        "id": "hgFoC3dwClBI"
      }
    },
    {
      "cell_type": "code",
      "source": [
        "\"\"\"\n",
        "sudo systemctl start mysql.service\n",
        "\"\"\""
      ],
      "metadata": {
        "colab": {
          "base_uri": "https://localhost:8080/",
          "height": 35
        },
        "id": "U9zPHzzCC0z4",
        "outputId": "9169d877-264c-4306-f581-e32a9296bd3c"
      },
      "execution_count": null,
      "outputs": [
        {
          "output_type": "execute_result",
          "data": {
            "text/plain": [
              "'\\nsudo systemctl start mysql.service\\n'"
            ],
            "application/vnd.google.colaboratory.intrinsic+json": {
              "type": "string"
            }
          },
          "metadata": {},
          "execution_count": 17
        }
      ]
    },
    {
      "cell_type": "markdown",
      "source": [
        "### 4. Run MySQL"
      ],
      "metadata": {
        "id": "BZJrA0lMC79X"
      }
    },
    {
      "cell_type": "code",
      "source": [
        "\"\"\"\n",
        "sudo mysql\n",
        "\"\"\""
      ],
      "metadata": {
        "colab": {
          "base_uri": "https://localhost:8080/",
          "height": 35
        },
        "id": "EmL_57xaDFM_",
        "outputId": "2dcb7fce-f532-4289-add2-d34b94816f1a"
      },
      "execution_count": null,
      "outputs": [
        {
          "output_type": "execute_result",
          "data": {
            "text/plain": [
              "'\\nsudo mysql\\n'"
            ],
            "application/vnd.google.colaboratory.intrinsic+json": {
              "type": "string"
            }
          },
          "metadata": {},
          "execution_count": 18
        }
      ]
    },
    {
      "cell_type": "markdown",
      "source": [
        "### 5. Setup password for root user. Copy paste the below command and change the password string to your password"
      ],
      "metadata": {
        "id": "kNFVDandDNqn"
      }
    },
    {
      "cell_type": "code",
      "source": [
        "\"\"\"\n",
        "sudo mysql\n",
        "\n",
        "mysql > ALTER USER 'root'@'localhost' IDENTIFIED WITH mysql_native_password BY 'password';\n",
        "\"\"\""
      ],
      "metadata": {
        "colab": {
          "base_uri": "https://localhost:8080/",
          "height": 35
        },
        "id": "5Kp0uSg6DVZB",
        "outputId": "77c0512b-53d9-4363-d911-0c023b4dd8c5"
      },
      "execution_count": null,
      "outputs": [
        {
          "output_type": "execute_result",
          "data": {
            "text/plain": [
              "\"\\nsudo mysql\\n\\nmysql > ALTER USER 'root'@'localhost' IDENTIFIED WITH mysql_native_password BY 'password';\\n\""
            ],
            "application/vnd.google.colaboratory.intrinsic+json": {
              "type": "string"
            }
          },
          "metadata": {},
          "execution_count": 19
        }
      ]
    },
    {
      "cell_type": "markdown",
      "source": [
        "![My Screenshot](https://raw.githubusercontent.com/IruraMwongera/irurajackblogs/main/Screenshot%202025-06-24%20160929.png)"
      ],
      "metadata": {
        "id": "S7C-SNm0EEFW"
      }
    },
    {
      "cell_type": "markdown",
      "source": [
        "### 6. Access MySQL with your password with the following command and enter your password when asked.\n",
        "\n"
      ],
      "metadata": {
        "id": "7WE_tWElERde"
      }
    },
    {
      "cell_type": "code",
      "source": [
        "\"\"\"\n",
        "mysql -u root -p\n",
        "\"\"\""
      ],
      "metadata": {
        "colab": {
          "base_uri": "https://localhost:8080/",
          "height": 35
        },
        "id": "7Cg3FIM2EemX",
        "outputId": "80647526-cf15-4713-bcd1-cca6d9ef0f14"
      },
      "execution_count": null,
      "outputs": [
        {
          "output_type": "execute_result",
          "data": {
            "text/plain": [
              "'\\nmysql -u root -p\\n'"
            ],
            "application/vnd.google.colaboratory.intrinsic+json": {
              "type": "string"
            }
          },
          "metadata": {},
          "execution_count": 20
        }
      ]
    }
  ]
}