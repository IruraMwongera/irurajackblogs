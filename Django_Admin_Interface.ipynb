{
  "nbformat": 4,
  "nbformat_minor": 0,
  "metadata": {
    "colab": {
      "provenance": []
    },
    "kernelspec": {
      "name": "python3",
      "display_name": "Python 3"
    },
    "language_info": {
      "name": "python"
    }
  },
  "cells": [
    {
      "cell_type": "markdown",
      "source": [
        "# __Django Admin Interface.__"
      ],
      "metadata": {
        "id": "3J0NfnBIvtyl"
      }
    },
    {
      "cell_type": "markdown",
      "source": [
        "## Topics\n",
        "- ### Introduction to the Django Admin Interface\n",
        "- ### Configuring the Admin Interface\n",
        "- ### Customizing the Admin Interface"
      ],
      "metadata": {
        "id": "XombbMzUv6dd"
      }
    },
    {
      "cell_type": "markdown",
      "source": [
        "## Objectives\n",
        "- ### Understand the purpose and benefits of the Django Admin interface\n",
        "- ### Learn how to set up and configure the Admin interface for your models\n",
        "- ### Customize the Admin interface by adding custom views, filters, and actions\n",
        "- ### Manage users and permissions within the Admin interface"
      ],
      "metadata": {
        "id": "bXQO3JwxwDOy"
      }
    },
    {
      "cell_type": "markdown",
      "source": [
        "## __Introduction to the Django Admin Interface.__"
      ],
      "metadata": {
        "id": "5isWKGl1wPUv"
      }
    },
    {
      "cell_type": "markdown",
      "source": [
        "### The Django Admin interface is a built-in feature that provides a web-based user interface for managing the data in your application. It automatically generates a set of pages for creating, editing, and deleting records based on the models defined in your project. The Admin interface is designed to be easy to use and highly customizable, allowing you to tailor it to your specific requirements."
      ],
      "metadata": {
        "id": "ATxk3JP3wVMy"
      }
    },
    {
      "cell_type": "markdown",
      "source": [
        "## __Configuring the Admin Interface.__"
      ],
      "metadata": {
        "id": "wR8GMdNgwZxJ"
      }
    },
    {
      "cell_type": "markdown",
      "source": [
        "## To set up the Django Admin interface for your project, you need to follow these steps:"
      ],
      "metadata": {
        "id": "lugk-_Ozwmx-"
      }
    },
    {
      "cell_type": "markdown",
      "source": [
        "## 1. First to make sure you don’t have any unmigrated changes run these commands"
      ],
      "metadata": {
        "id": "NqD7H1m7wscg"
      }
    },
    {
      "cell_type": "code",
      "source": [
        "\"\"\"\n",
        "python manage.py makemigrations python manage.py migrate\n",
        "\"\"\""
      ],
      "metadata": {
        "id": "aCe2bXD0wzrj"
      },
      "execution_count": null,
      "outputs": []
    },
    {
      "cell_type": "markdown",
      "source": [
        "## 2. Create an admin user account by running the"
      ],
      "metadata": {
        "id": "lvM9zOj8w7le"
      }
    },
    {
      "cell_type": "code",
      "source": [
        "\"\"\"\n",
        " python manage.py createsuperuser\n",
        "\"\"\""
      ],
      "metadata": {
        "id": "RqTfYK9dxH0O"
      },
      "execution_count": null,
      "outputs": []
    },
    {
      "cell_type": "markdown",
      "source": [
        "### It will provide a username, email (optional) and password."
      ],
      "metadata": {
        "id": "0WQADiA9xUV2"
      }
    },
    {
      "cell_type": "markdown",
      "source": [
        "### 3. Register your models with the Admin interface by adding them to the __admin.py__ file in your app."
      ],
      "metadata": {
        "id": "jUe9teDzxY_D"
      }
    },
    {
      "cell_type": "markdown",
      "source": [
        "### 4. Customize the behavior and appearance of the Admin interface for each registered model (optional)."
      ],
      "metadata": {
        "id": "g1YH1lINxtcc"
      }
    },
    {
      "cell_type": "markdown",
      "source": [
        "![Screenshot](https://github.com/IruraMwongera/irurajackblogs/blob/main/Screenshot%202025-07-17%20172719.png?raw=true)"
      ],
      "metadata": {
        "id": "qge1z9s_x6j1"
      }
    },
    {
      "cell_type": "markdown",
      "source": [
        "## __Registering Models__"
      ],
      "metadata": {
        "id": "RTE0utvGyxZ5"
      }
    },
    {
      "cell_type": "markdown",
      "source": [
        "### To register models, we add them to the [admin.py](http://admin.py) file. Here’s an example of registering a __Book__ model"
      ],
      "metadata": {
        "id": "-RFmRrb2zEAb"
      }
    },
    {
      "cell_type": "code",
      "source": [
        "\"\"\"\n",
        "from django.contrib import admin\n",
        "from .models import Book\n",
        "\n",
        "admin.site.register(Book)\n",
        "\"\"\""
      ],
      "metadata": {
        "id": "esXSdhaDzjMn"
      },
      "execution_count": null,
      "outputs": []
    },
    {
      "cell_type": "markdown",
      "source": [
        "### After registering your models, run the below commands and you can access the Admin interface by navigating to /admin URL in your Django application."
      ],
      "metadata": {
        "id": "t30K-lizzlcU"
      }
    },
    {
      "cell_type": "code",
      "source": [
        "\"\"\"\n",
        "python manage.py makemigrations\n",
        "python manage.py migrate\n",
        "\"\"\""
      ],
      "metadata": {
        "id": "XeXvM0B-zz2q"
      },
      "execution_count": null,
      "outputs": []
    },
    {
      "cell_type": "markdown",
      "source": [
        "### Now, run your app and visit the admin site again. You will see that your model is not present. You can use this interface to create, update and delete items for a specific table."
      ],
      "metadata": {
        "id": "u46ARnLhz6Vf"
      }
    },
    {
      "cell_type": "markdown",
      "source": [
        "![Screenshot](https://github.com/IruraMwongera/irurajackblogs/blob/main/Screenshot%202025-07-17%20173605.png?raw=true)"
      ],
      "metadata": {
        "id": "3Sf16mo9z8Q5"
      }
    },
    {
      "cell_type": "markdown",
      "source": [
        "![screenshot](https://github.com/IruraMwongera/irurajackblogs/blob/main/Screenshot%202025-07-17%20174019.png?raw=true)"
      ],
      "metadata": {
        "id": "w2pW7WVw0mF9"
      }
    },
    {
      "cell_type": "markdown",
      "source": [
        "![screenshot](https://github.com/IruraMwongera/irurajackblogs/blob/main/Screenshot%202025-07-17%20174358.png?raw=true)"
      ],
      "metadata": {
        "id": "KErvhcB01iF4"
      }
    },
    {
      "cell_type": "markdown",
      "source": [
        "![screenshot](https://github.com/IruraMwongera/irurajackblogs/blob/main/Screenshot%202025-07-17%20174607.png?raw=true)"
      ],
      "metadata": {
        "id": "Rq8Cj4ri2O-o"
      }
    },
    {
      "cell_type": "markdown",
      "source": [
        "# __Customizing the Admin Interface__"
      ],
      "metadata": {
        "id": "h5s4BFpM2tCu"
      }
    },
    {
      "cell_type": "markdown",
      "source": [
        "### The Django Admin interface offers a range of customization options to adapt it to your application’s needs. You can customize the appearance and behavior of the Admin interface for each registered model by defining custom ModelAdmin classes."
      ],
      "metadata": {
        "id": "5hnfvUvy275Y"
      }
    },
    {
      "cell_type": "markdown",
      "source": [
        "## __Some common customizations include:__"
      ],
      "metadata": {
        "id": "l8jnP_GZ3AUB"
      }
    },
    {
      "cell_type": "markdown",
      "source": [
        "- ### Defining list displays to control which fields are displayed in the list view\n",
        "- ### Adding search functionality and filtering options\n",
        "- ### Customizing form layouts and field ordering\n",
        "- ### Adding custom views, actions, and filters\n",
        "- ### Integrating third-party libraries for advanced functionalities"
      ],
      "metadata": {
        "id": "BjJasHqZ3HXv"
      }
    },
    {
      "cell_type": "markdown",
      "source": [
        "## Example of a custom BookAdmin class that customizes the list display and adds a search functionality:"
      ],
      "metadata": {
        "id": "cumxUfCW3TPK"
      }
    },
    {
      "cell_type": "code",
      "source": [
        "\"\"\"\n",
        "from django.contrib import admin\n",
        "from .models import Book\n",
        "\n",
        "class BookAdmin(admin.ModelAdmin):\n",
        "    list_display = ('title', 'author', 'published_date')\n",
        "    search_fields = ('title', 'author')\n",
        "\n",
        "admin.site.register(Book, BookAdmin)\n",
        "\"\"\""
      ],
      "metadata": {
        "id": "Bk8a_L9u3cen"
      },
      "execution_count": null,
      "outputs": []
    },
    {
      "cell_type": "markdown",
      "source": [
        "## __References__"
      ],
      "metadata": {
        "id": "3WhEUEin3hyq"
      }
    },
    {
      "cell_type": "markdown",
      "source": [
        "The Django Admin Site https://docs.djangoproject.com/en/5.2/ref/contrib/admin/"
      ],
      "metadata": {
        "id": "vmcEMaf23msA"
      }
    },
    {
      "cell_type": "markdown",
      "source": [
        "Writing your first Django app https://docs.djangoproject.com/en/5.0/intro/tutorial07/\n"
      ],
      "metadata": {
        "id": "3AouVjV63uGk"
      }
    },
    {
      "cell_type": "markdown",
      "source": [
        "Customizing the Django Admin https://developer.mozilla.org/en-US/docs/Learn_web_development/Extensions/Server-side/Django/Admin_site\n"
      ],
      "metadata": {
        "id": "OlOBmVIh33t9"
      }
    }
  ]
}