{
  "nbformat": 4,
  "nbformat_minor": 0,
  "metadata": {
    "colab": {
      "provenance": []
    },
    "kernelspec": {
      "name": "python3",
      "display_name": "Python 3"
    },
    "language_info": {
      "name": "python"
    }
  },
  "cells": [
    {
      "cell_type": "markdown",
      "source": [
        "# __User Authentication Basics.__"
      ],
      "metadata": {
        "id": "L9OBExHQgOLu"
      }
    },
    {
      "cell_type": "markdown",
      "source": [
        "### This concept page introduces the basics of implementing user authentication in Django applications. It covers the built-in authentication system, user registration, login and logout functionalities, user permissions and groups, and various authentication-related components provided by Django."
      ],
      "metadata": {
        "id": "2_iHkP1WgWPr"
      }
    },
    {
      "cell_type": "markdown",
      "source": [
        "## Topics\n",
        "- ### Django’s Built-in Authentication System\n",
        "- ### User Registration\n",
        "- ### User Login and Logout\n",
        "- ### Password Management\n",
        "- ### Authentication Views and URLs"
      ],
      "metadata": {
        "id": "sz_nlxdbgbOb"
      }
    },
    {
      "cell_type": "markdown",
      "source": [
        "## Objectives\n",
        "- ### Understand the purpose and components of Django’s authentication system\n",
        "- ### Learn how to register new users and create user accounts\n",
        "- ### Implement user login and logout functionalities\n",
        "- ### Manage user passwords securely\n",
        "- ### Utilize Django’s built-in authentication views and URLs"
      ],
      "metadata": {
        "id": "DdeZL1U3gs76"
      }
    },
    {
      "cell_type": "markdown",
      "source": [
        "## __Django’s Built-in Authentication System.__"
      ],
      "metadata": {
        "id": "ybqovFahg57U"
      }
    },
    {
      "cell_type": "markdown",
      "source": [
        "### Django comes with a built-in authentication system that provides a set of models, views, and utilities for handling user authentication. Here’s a breakdown of the core components:"
      ],
      "metadata": {
        "id": "pAppIiuThHB6"
      }
    },
    {
      "cell_type": "markdown",
      "source": [
        "## __1. User Model__"
      ],
      "metadata": {
        "id": "o4wFyPT4h5ob"
      }
    },
    {
      "cell_type": "markdown",
      "source": [
        "### The User model serves as the foundation for representing a user within the authentication system. It stores essential user information such as username, password (hashed for security), email address, and other relevant user-related data."
      ],
      "metadata": {
        "id": "vGeITRtEiH96"
      }
    },
    {
      "cell_type": "code",
      "source": [
        "\"\"\"\n",
        "from django.contrib.auth.models import User\n",
        "\n",
        "# Create a new user\n",
        "user = User.objects.create_user('john', 'john@example.com', 'password123')\n",
        "\n",
        "# Retrieve a user based on username\n",
        "user = User.objects.get(username='john')\n",
        "\"\"\""
      ],
      "metadata": {
        "id": "NMJvr3e9iUHo"
      },
      "execution_count": null,
      "outputs": []
    },
    {
      "cell_type": "markdown",
      "source": [
        "## __2. Authentication Middleware__"
      ],
      "metadata": {
        "id": "oB-UDvtjiWi8"
      }
    },
    {
      "cell_type": "markdown",
      "source": [
        "### Django incorporates authentication middleware that seamlessly associates users with incoming requests and grants access to the authenticated user within views and templates."
      ],
      "metadata": {
        "id": "qs1J9Qy4ieaP"
      }
    },
    {
      "cell_type": "markdown",
      "source": [
        "## __3. Authentication Backends__"
      ],
      "metadata": {
        "id": "cRO-cBqSik0m"
      }
    },
    {
      "cell_type": "markdown",
      "source": [
        "### Authentication backends handle the process of verifying user credentials. Django provides several built-in authentication backends, with the most common being ModelBackend for authentication against the default User model."
      ],
      "metadata": {
        "id": "j1_YVZAgiuyV"
      }
    },
    {
      "cell_type": "markdown",
      "source": [
        "# __User Registration__"
      ],
      "metadata": {
        "id": "vPlqrMMPi4_g"
      }
    },
    {
      "cell_type": "markdown",
      "source": [
        "### User registration is the process of creating new user accounts in your application. Django provides the UserCreationFormform and the CreateViewclass-based view to handle user registration."
      ],
      "metadata": {
        "id": "g1xyNsYujLFm"
      }
    },
    {
      "cell_type": "code",
      "source": [
        "\"\"\"\n",
        "from django.contrib.auth.forms import UserCreationForm\n",
        "from django.urls import reverse_lazy\n",
        "from django.views.generic import CreateView\n",
        "\n",
        "class SignUpView(CreateView):\n",
        "    form_class = UserCreationForm\n",
        "    success_url = reverse_lazy('login')\n",
        "    template_name = 'registration/signup.html'\n",
        "\"\"\""
      ],
      "metadata": {
        "id": "M8ew4IDgjX8k"
      },
      "execution_count": null,
      "outputs": []
    },
    {
      "cell_type": "markdown",
      "source": [
        "### In this example, the SignUpView uses the UserCreationForm to handle user registration. When a new user is registered, they are redirected to the login page using the success_url attribute."
      ],
      "metadata": {
        "id": "lCrfm-o2jbay"
      }
    },
    {
      "cell_type": "markdown",
      "source": [
        "# __User Login and Logout.__"
      ],
      "metadata": {
        "id": "sgY2Z1Q8jhI-"
      }
    },
    {
      "cell_type": "markdown",
      "source": [
        "### Django’s authentication system provides built-in views and utilities for handling user login and logout processes."
      ],
      "metadata": {
        "id": "K12JYXGxj4Ki"
      }
    },
    {
      "cell_type": "markdown",
      "source": [
        "## __User Login.__"
      ],
      "metadata": {
        "id": "h-OGbsN7j8Uj"
      }
    },
    {
      "cell_type": "code",
      "source": [
        "\"\"\"\n",
        "from django.contrib.auth.views import LoginView\n",
        "from django.urls import path\n",
        "\n",
        "urlpatterns = [\n",
        "    path('login/', LoginView.as_view(template_name='registration/login.html'), name='login'),\n",
        "]\n",
        "\"\"\""
      ],
      "metadata": {
        "id": "_uJE7D0pkIl8"
      },
      "execution_count": null,
      "outputs": []
    },
    {
      "cell_type": "markdown",
      "source": [
        "### The LogoutView class-based view is used to handle user logout. When a user logs out, they are redirected to the default URL specified by the LOGIN_REDIRECT_URL setting."
      ],
      "metadata": {
        "id": "oGxgtrh1kO4_"
      }
    },
    {
      "cell_type": "markdown",
      "source": [
        "# __Customizing Authentication Views__"
      ],
      "metadata": {
        "id": "BeqafBLHkZn2"
      }
    },
    {
      "cell_type": "markdown",
      "source": [
        "### You have the flexibility to customize these views by overriding their attributes or providing custom templates that align with your application’s design aesthetic. Additionally, you can leverage the login_required decorator or the PermissionRequiredMixin to restrict access to specific views or functionalities based on user permissions or group memberships."
      ],
      "metadata": {
        "id": "3o3nvekJkf8e"
      }
    },
    {
      "cell_type": "code",
      "source": [
        "\"\"\"\n",
        "from django.contrib.auth.decorators import login_required\n",
        "\n",
        "@login_required\n",
        "def profile_view(request):\n",
        "    # This view can only be accessed by authenticated users\n",
        "    return render(request, 'profile.html')\n",
        "\"\"\""
      ],
      "metadata": {
        "id": "RM1fmLSsksVT"
      },
      "execution_count": null,
      "outputs": []
    },
    {
      "cell_type": "markdown",
      "source": [
        "# __Password Management__"
      ],
      "metadata": {
        "id": "XAbENpWMkw3B"
      }
    },
    {
      "cell_type": "markdown",
      "source": [
        "###Django includes features for managing user passwords securely, such as password hashing, password validators, and password reset functionality."
      ],
      "metadata": {
        "id": "a4pBaiNZk2zE"
      }
    },
    {
      "cell_type": "markdown",
      "source": [
        "###  1. __Password Hashing:__ Django automatically hashes user passwords using the PBKDF2 algorithm before storing them in the database. This ensures that passwords are not stored in plain text, improving security.\n",
        "###  2. __Password Reset:__ Django provides built-in views and utilities for handling password reset functionality. Users can request a password reset, and Django will send them an email with a link to reset their password.\n",
        "###  3. __Password Validators:__ Django includes several built-in password validators that enforce password policies. You can use these validators or create custom ones to meet your application’s password requirements."
      ],
      "metadata": {
        "id": "_aPiELK9lRqf"
      }
    },
    {
      "cell_type": "code",
      "source": [
        "\"\"\"\n",
        "# settings.py\n",
        "AUTH_PASSWORD_VALIDATORS = [\n",
        "    {\n",
        "        'NAME': 'django.contrib.auth.password_validation.UserAttributeSimilarityValidator',\n",
        "    },\n",
        "    {\n",
        "        'NAME': 'django.contrib.auth.password_validation.MinimumLengthValidator',\n",
        "        'OPTIONS': {\n",
        "            'min_length': 9,\n",
        "        }\n",
        "    },\n",
        "    {\n",
        "        'NAME': 'django.contrib.auth.password_validation.CommonPasswordValidator',\n",
        "    },\n",
        "    {\n",
        "        'NAME': 'django.contrib.auth.password_validation.NumericPasswordValidator',\n",
        "    },\n",
        "]\n",
        "\"\"\""
      ],
      "metadata": {
        "id": "kLF9ASEwmIGE"
      },
      "execution_count": null,
      "outputs": []
    },
    {
      "cell_type": "markdown",
      "source": [
        "# __Authentication Views and URLs__"
      ],
      "metadata": {
        "id": "9q6ze-Z_mKdl"
      }
    },
    {
      "cell_type": "markdown",
      "source": [
        "### Django provides several built-in views and URLs related to user authentication, including login, logout, password reset, and password change views."
      ],
      "metadata": {
        "id": "t4ZPBx_gmQM8"
      }
    },
    {
      "cell_type": "markdown",
      "source": [
        "## __Login and Logout Views__"
      ],
      "metadata": {
        "id": "hHJqgh9kmeXR"
      }
    },
    {
      "cell_type": "code",
      "source": [
        "\"\"\"\n",
        "pythonCopy codefrom django.contrib.auth.views import LoginView, LogoutView\n",
        "from django.urls import path\n",
        "\n",
        "urlpatterns = [\n",
        "    path('login/', LoginView.as_view(template_name='registration/login.html'), name='login'),\n",
        "    path('logout/', LogoutView.as_view(), name='logout'),\n",
        "]\n",
        "\"\"\""
      ],
      "metadata": {
        "id": "bL7L4123mmUi"
      },
      "execution_count": null,
      "outputs": []
    },
    {
      "cell_type": "markdown",
      "source": [
        "## __Password Reset Views__"
      ],
      "metadata": {
        "id": "F9PMHBAkmtYQ"
      }
    },
    {
      "cell_type": "code",
      "source": [
        "\"\"\"\n",
        "pythonCopy codefrom django.contrib.auth import views as auth_views\n",
        "from django.urls import path\n",
        "\n",
        "urlpatterns = [\n",
        "    path('password_reset/', auth_views.PasswordResetView.as_view(), name='password_reset'),\n",
        "    path('password_reset/done/', auth_views.PasswordResetDoneView.as_view(), name='password_reset_done'),\n",
        "    path('reset/<uidb64>/<token>/', auth_views.PasswordResetConfirmView.as_view(), name='password_reset_confirm'),\n",
        "    path('reset/done/', auth_views.PasswordResetCompleteView.as_view(), name='password_reset_complete'),\n",
        "]\n",
        "\"\"\""
      ],
      "metadata": {
        "id": "l1JbNUe4m3qv"
      },
      "execution_count": null,
      "outputs": []
    },
    {
      "cell_type": "markdown",
      "source": [
        "## __Password Change View__"
      ],
      "metadata": {
        "id": "-JDlccU0m6dk"
      }
    },
    {
      "cell_type": "code",
      "source": [
        "\"\"\"\n",
        "pythonCopy codefrom django.contrib.auth import views as auth_views\n",
        "from django.urls import path\n",
        "\n",
        "urlpatterns = [\n",
        "    path('password_change/', auth_views.PasswordChangeView.as_view(), name='password_change'),\n",
        "    path('password_change/done/', auth_views.PasswordChangeDoneView.as_view(), name='password_change_done'),\n",
        "]\n",
        "\"\"\""
      ],
      "metadata": {
        "id": "Qg3yAFbqm_-o"
      },
      "execution_count": null,
      "outputs": []
    },
    {
      "cell_type": "markdown",
      "source": [
        "### You can customize these views by overriding their attributes or providing custom templates."
      ],
      "metadata": {
        "id": "QpTk6q60nNGG"
      }
    },
    {
      "cell_type": "markdown",
      "source": [
        "# __Full Example__"
      ],
      "metadata": {
        "id": "fD0NCjT_nPcA"
      }
    },
    {
      "cell_type": "markdown",
      "source": [
        "## __Step 1:__ Enable Django Auth App"
      ],
      "metadata": {
        "id": "uOr8Bi1dnW8D"
      }
    },
    {
      "cell_type": "markdown",
      "source": [
        "### Check that the django.contrib.auth and django.contrib.contenttypes apps are in the list of installed apps, if not add them. You can do this by opening [settings.py](http://settings.py) and updating INSTALLED_APPS\n"
      ],
      "metadata": {
        "id": "CNhqNyErng7X"
      }
    },
    {
      "cell_type": "code",
      "source": [
        "\"\"\"\n",
        "INSTALLED_APPS = [\n",
        "    ...\n",
        "    'django.contrib.auth',\n",
        "    'django.contrib.contenttypes',\n",
        "    ...\n",
        "]\n",
        "\"\"\""
      ],
      "metadata": {
        "id": "Yo7InFhQnrSG"
      },
      "execution_count": null,
      "outputs": []
    },
    {
      "cell_type": "markdown",
      "source": [
        "### Next make sure the following middlewares are present."
      ],
      "metadata": {
        "id": "JXovbeQknt0w"
      }
    },
    {
      "cell_type": "code",
      "source": [
        "\"\"\"\n",
        "MIDDLEWARE = [\n",
        "        ...,\n",
        "    'django.middleware.security.SecurityMiddleware',\n",
        "    'django.contrib.auth.middleware.AuthenticationMiddleware',\n",
        "    ...\n",
        "]\n",
        "\"\"\""
      ],
      "metadata": {
        "id": "QYda0A19n4xb"
      },
      "execution_count": null,
      "outputs": []
    },
    {
      "cell_type": "markdown",
      "source": [
        "## __Step 2__: Setting Up Urls & Redirects"
      ],
      "metadata": {
        "id": "8TRk7IRHn9Ip"
      }
    },
    {
      "cell_type": "markdown",
      "source": [
        "### Open the [urls.py](http://urls.py) file and add the required accounts urls as shown bellow"
      ],
      "metadata": {
        "id": "DTEBbpl8oDtI"
      }
    },
    {
      "cell_type": "code",
      "source": [
        "\"\"\"\n",
        "from django.urls import path, include\n",
        "\n",
        "urlpatterns = [\n",
        "    ...,\n",
        "\n",
        "    path('accounts/', include('django.contrib.auth.urls')),\n",
        "    path('accounts/profile/',\n",
        "             TemplateView.as_view(template_name='accounts/profile.html'),\n",
        "             name='profile'),\n",
        "    path(\"signup/\", SignUpView.as_view(), name=\"templates/registration/signup\"),\n",
        "        ...\n",
        "]\n",
        "\"\"\""
      ],
      "metadata": {
        "id": "3djI5hyDoINF"
      },
      "execution_count": null,
      "outputs": []
    },
    {
      "cell_type": "markdown",
      "source": [
        "### Here we setup the accounts path which contains the login, logout, password change … etc routes except the signup and profile routes. These are separately added\n",
        "\n",
        "### Next, update the redirect constant variables to redirect to the profile page. Open the [settings.py](http://settings.py) file and update it as bellow"
      ],
      "metadata": {
        "id": "n1OETDACoNFS"
      }
    },
    {
      "cell_type": "code",
      "source": [
        "\"\"\"\n",
        "LOGIN_REDIRECT_URL = \"/accounts/profile\"\n",
        "LOGOUT_REDIRECT_URL = \"/accounts/profile\"\n",
        "\"\"\""
      ],
      "metadata": {
        "id": "4JVZabChocxL"
      },
      "execution_count": null,
      "outputs": []
    },
    {
      "cell_type": "markdown",
      "source": [
        "## __Step 3__: Adding Template Files"
      ],
      "metadata": {
        "id": "EtHNdXOEofNb"
      }
    },
    {
      "cell_type": "markdown",
      "source": [
        "### First create a templates folder at the root of the project and update the TEMPLATES constant in the [settings.py](http://settings.py) file as follows."
      ],
      "metadata": {
        "id": "CCrwcJG4om8k"
      }
    },
    {
      "cell_type": "code",
      "source": [
        "\"\"\"\n",
        "TEMPLATES = [\n",
        "    {\n",
        "        ...\n",
        "        'DIRS': [ BASE_DIR / \"templates\" ],\n",
        "          ...\n",
        "    },\n",
        "]\n",
        "\"\"\""
      ],
      "metadata": {
        "id": "8YjCeEgloyAz"
      },
      "execution_count": null,
      "outputs": []
    },
    {
      "cell_type": "markdown",
      "source": [
        "### The following will be the expected folder structure. Assuming you have an app named myapp this can be any app including a dedicated accounts app if you like to separate account related code in to a separate app."
      ],
      "metadata": {
        "id": "9Qj-KxnUo09d"
      }
    },
    {
      "cell_type": "code",
      "source": [
        "\"\"\"\n",
        "├── db.sqlite3\n",
        "├── manage.py\n",
        "├── myapp\n",
        "│   ├── admin.py\n",
        "│   ├── apps.py\n",
        "│   ├── models.py\n",
        "│   ├── urls.py\n",
        "│   └── views.py\n",
        "├── mysite\n",
        "│   ├── __init__.py\n",
        "│   ├── settings.py\n",
        "│   ├── urls.py\n",
        "│   └── wsgi.py\n",
        "└── templates\n",
        "    ├── profile.html\n",
        "    ├── accounts\n",
        "    │   └── profile.html\n",
        "    └── registration\n",
        "        └── login.html\n",
        "        └── signup.html\n",
        "\"\"\""
      ],
      "metadata": {
        "id": "lOiNfo0cpCJE"
      },
      "execution_count": null,
      "outputs": []
    },
    {
      "cell_type": "markdown",
      "source": [
        "## __profile.html__"
      ],
      "metadata": {
        "id": "Wl0JNfqepOu0"
      }
    },
    {
      "cell_type": "code",
      "source": [
        "\"\"\"\n",
        "{% if user.is_authenticated %} You are logged in as {{ user }}.\n",
        "<form action=\"{% url 'logout' %}\" method=\"post\">\n",
        "    {% csrf_token %}\n",
        "    <button type=\"submit\">Log Out</button>\n",
        "</form>\n",
        "{% else %} You are not logged in.\n",
        "<a href=\"{% url 'login' %}\">Click here to log in.</a>\n",
        "{% endif %}\n",
        "\"\"\""
      ],
      "metadata": {
        "id": "ejZ9YdPGpVhn"
      },
      "execution_count": null,
      "outputs": []
    },
    {
      "cell_type": "markdown",
      "source": [
        "## __login.html__"
      ],
      "metadata": {
        "id": "6QdbjEY4paQT"
      }
    },
    {
      "cell_type": "code",
      "source": [
        "\"\"\"\n",
        "{% if form.errors %}\n",
        "<p>Your username and password didn't match. Please try again.</p>\n",
        "{% endif %}\n",
        "\n",
        "<form method=\"post\" action=\"{% url 'login' %}\">\n",
        "    {% csrf_token %} {{ form.as_p }}\n",
        "\n",
        "    <input type=\"submit\" value=\"login\" />\n",
        "</form>\n",
        "\"\"\""
      ],
      "metadata": {
        "id": "P7DRhF-LpkQF"
      },
      "execution_count": null,
      "outputs": []
    },
    {
      "cell_type": "markdown",
      "source": [
        "## __signup.html__"
      ],
      "metadata": {
        "id": "apS9EoO7pm2U"
      }
    },
    {
      "cell_type": "code",
      "source": [
        "\"\"\"\n",
        "{% block title %}Sign Up{% endblock %} {% block content %}\n",
        "<h2>Sign up</h2>\n",
        "<form method=\"post\">\n",
        "    {% csrf_token %} {{ form }}\n",
        "    <button type=\"submit\">Sign Up</button>\n",
        "</form>\n",
        "{% endblock %}\n",
        "\"\"\""
      ],
      "metadata": {
        "id": "oQf9ibu9ptjK"
      },
      "execution_count": null,
      "outputs": []
    },
    {
      "cell_type": "markdown",
      "source": [
        "## __Step 4__: Adding Signup View"
      ],
      "metadata": {
        "id": "1IDfCqGcpyAC"
      }
    },
    {
      "cell_type": "markdown",
      "source": [
        "###The next thing to do is adding a signup view. These view can be add to your existing app or to a dedicated app for handling accounts. In our case we will add this to our myapp app [views.py](http://views.py) file"
      ],
      "metadata": {
        "id": "ED-_5uoyp9lq"
      }
    },
    {
      "cell_type": "code",
      "source": [
        "\"\"\"\n",
        "from django.contrib.auth.forms import UserCreationForm\n",
        "from django.urls import reverse_lazy\n",
        "from django.views.generic import CreateView\n",
        "\n",
        "class SignUpView(CreateView):\n",
        "    form_class = UserCreationForm\n",
        "    success_url = reverse_lazy(\"login\")\n",
        "    template_name = \"registration/signup.html\"\n",
        "\"\"\""
      ],
      "metadata": {
        "id": "KBlHHB43qI3h"
      },
      "execution_count": null,
      "outputs": []
    },
    {
      "cell_type": "markdown",
      "source": [
        "## __Step 5__: Migrating Your Changes and Running Your Project"
      ],
      "metadata": {
        "id": "MvUobwtaqLjl"
      }
    },
    {
      "cell_type": "markdown",
      "source": [
        "### The last thing to do is migrate your changes and run your project"
      ],
      "metadata": {
        "id": "oKaeObpLqSG8"
      }
    },
    {
      "cell_type": "code",
      "source": [
        "\"\"\"\n",
        "python manage.py makemigrations\n",
        "python manage.py migrate\n",
        "python manage.py runserver\n",
        "\"\"\""
      ],
      "metadata": {
        "id": "-_pbE4v2qjkv"
      },
      "execution_count": null,
      "outputs": []
    },
    {
      "cell_type": "markdown",
      "source": [
        "## References"
      ],
      "metadata": {
        "id": "e-7p1vX-qmds"
      }
    },
    {
      "cell_type": "markdown",
      "source": [
        "Django Authentication System\n",
        "https://docs.djangoproject.com/en/5.2/topics/auth/\n"
      ],
      "metadata": {
        "id": "TmdFczlcqrj2"
      }
    },
    {
      "cell_type": "markdown",
      "source": [
        "User Authentication in Django\n",
        "https://docs.djangoproject.com/en/5.2/topics/auth/default/\n"
      ],
      "metadata": {
        "id": "c7mOJyByq09Q"
      }
    },
    {
      "cell_type": "markdown",
      "source": [
        "Authentication Views\n",
        "https://docs.djangoproject.com/en/5.2/topics/auth/default/#authentication-views\n"
      ],
      "metadata": {
        "id": "cGUywQ-Jq-92"
      }
    },
    {
      "cell_type": "markdown",
      "source": [
        "Password Management\n",
        "https://docs.djangoproject.com/en/5.2/topics/auth/passwords/\n"
      ],
      "metadata": {
        "id": "V9SDMNkarHV2"
      }
    },
    {
      "cell_type": "markdown",
      "source": [
        "Permissions and Authorization\n",
        "https://docs.djangoproject.com/en/5.2/topics/auth/default/#permissions-and-authorization\n"
      ],
      "metadata": {
        "id": "VtZPlNv8rPX9"
      }
    },
    {
      "cell_type": "markdown",
      "source": [
        "Django Login, Logout, Signup, Password Change, and Password Reset\n",
        "https://learndjango.com/tutorials/django-login-and-logout-tutorial#create-a-homepage\n"
      ],
      "metadata": {
        "id": "lBXLqldxrYZ_"
      }
    }
  ]
}