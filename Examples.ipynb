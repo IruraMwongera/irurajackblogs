{
  "nbformat": 4,
  "nbformat_minor": 0,
  "metadata": {
    "colab": {
      "provenance": []
    },
    "kernelspec": {
      "name": "python3",
      "display_name": "Python 3"
    },
    "language_info": {
      "name": "python"
    }
  },
  "cells": [
    {
      "cell_type": "markdown",
      "source": [
        "# __1. SAMPLE__"
      ],
      "metadata": {
        "id": "2nbYg15Zhds2"
      }
    },
    {
      "cell_type": "markdown",
      "source": [
        "![screenshot](https://github.com/IruraMwongera/irurajackblogs/blob/main/Screenshot%202025-07-17%20204503.png?raw=true)"
      ],
      "metadata": {
        "id": "Q3bpjHX1fyFT"
      }
    },
    {
      "cell_type": "markdown",
      "source": [
        "![screenshot](https://github.com/IruraMwongera/irurajackblogs/blob/main/Screenshot%202025-07-17%20204737.png?raw=true)"
      ],
      "metadata": {
        "id": "Zj_F0JsBgRa8"
      }
    },
    {
      "cell_type": "markdown",
      "source": [
        "![screenshot](https://github.com/IruraMwongera/irurajackblogs/blob/main/Screenshot%202025-07-17%20204957.png?raw=true)"
      ],
      "metadata": {
        "id": "tqVCv3iTgWq3"
      }
    },
    {
      "cell_type": "markdown",
      "source": [
        "# __How my app models.py looks.__"
      ],
      "metadata": {
        "id": "dNHgeJ1Am76_"
      }
    },
    {
      "cell_type": "code",
      "source": [
        "\"\"\"\n",
        "from django.db import models\n",
        "\n",
        "class Author(models.Model):\n",
        "    name = models.CharField(max_length=100)\n",
        "\n",
        "    def __str__(self):\n",
        "        return self.name\n",
        "\n",
        "class Book(models.Model):\n",
        "    title = models.CharField(max_length=200)\n",
        "    author = models.ForeignKey(Author, on_delete=models.CASCADE)\n",
        "\n",
        "    def __str__(self):\n",
        "        return self.title\n",
        "\n",
        "class Library(models.Model):\n",
        "    name = models.CharField(max_length=100, unique=True)  # Prevent duplicates\n",
        "    books = models.ManyToManyField(Book)\n",
        "\n",
        "    def __str__(self):\n",
        "        return self.name\n",
        "\n",
        "class Librarian(models.Model):\n",
        "    name = models.CharField(max_length=100)\n",
        "    library = models.OneToOneField(Library, on_delete=models.CASCADE)\n",
        "\n",
        "    def __str__(self):\n",
        "        return self.name\n",
        "\"\"\""
      ],
      "metadata": {
        "id": "M6aXqjh9nDgA"
      },
      "execution_count": null,
      "outputs": []
    },
    {
      "cell_type": "markdown",
      "source": [
        "# __After Knowing how the models.py looks we can start aswering questions.__"
      ],
      "metadata": {
        "id": "KELdkvO3nSsu"
      }
    },
    {
      "cell_type": "markdown",
      "source": [
        "## __1. Implement Function-based View:__"
      ],
      "metadata": {
        "id": "U5uC-WpLgycw"
      }
    },
    {
      "cell_type": "markdown",
      "source": [
        "- ### Create a function-based view in __relationship_app/views.py__ that lists all books stored in the database.\n",
        "- ### This view should render a simple text list of book titles and their authors."
      ],
      "metadata": {
        "id": "PJ2aSPmNhHSW"
      }
    },
    {
      "cell_type": "code",
      "source": [
        "\"\"\"\n",
        "from django.shortcuts import render\n",
        "from .models import Book\n",
        "\n",
        "def list_books(request):\n",
        "    books = Book.objects.all()\n",
        "    return render(request, 'relationship_app/list_books.html', {'books': books})\n",
        "\n",
        "\"\"\""
      ],
      "metadata": {
        "id": "YFu3pF4rhwqA"
      },
      "execution_count": null,
      "outputs": []
    },
    {
      "cell_type": "markdown",
      "source": [
        "### __2. Implement Class-based View:__"
      ],
      "metadata": {
        "id": "RSXJm2T3h49S"
      }
    },
    {
      "cell_type": "markdown",
      "source": [
        "- Create a class-based view in __relationship_app/views.py__ that displays details for a specific library, listing all books available in that library.\n",
        "- Utilize Django’s ListView or DetailView to structure this class-based view."
      ],
      "metadata": {
        "id": "yEBzfK1jiIRv"
      }
    },
    {
      "cell_type": "code",
      "source": [
        "\"\"\"\n",
        "# Class-Based View: Library Detail View\n",
        "\n",
        "from django.views.generic.detail import DetailView\n",
        "from .models import Library\n",
        "\n",
        "class LibraryDetailView(DetailView):\n",
        "    model = Library\n",
        "    template_name = 'relationship_app/library_detail.html'\n",
        "    context_object_name = 'library'\n",
        "\"\"\"\n"
      ],
      "metadata": {
        "id": "fEa9vcvwiRwT"
      },
      "execution_count": null,
      "outputs": []
    },
    {
      "cell_type": "markdown",
      "source": [
        "### __3. Configure URL Patterns:__"
      ],
      "metadata": {
        "id": "08RTuFSDidD-"
      }
    },
    {
      "cell_type": "markdown",
      "source": [
        "- Edit __relationship_app/urls.py__ to include URL patterns that route to the newly created views. Make sure to link both the function-based and class-based views."
      ],
      "metadata": {
        "id": "T-WlvEvNis0w"
      }
    },
    {
      "cell_type": "code",
      "source": [
        "\"\"\"\n",
        "from django.urls import path\n",
        "from .views import list_books, LibraryDetailView\n",
        "\n",
        "urlpatterns = [\n",
        "    path('books/', list_books, name='list_books'),\n",
        "    path('library/<int:pk>/', LibraryDetailView.as_view(), name='library_detail'),\n",
        "]\n",
        "\"\"\""
      ],
      "metadata": {
        "id": "MPhf7Wvli1Nc"
      },
      "execution_count": null,
      "outputs": []
    },
    {
      "cell_type": "markdown",
      "source": [
        "### __4. Create Templates (Optional for Display):__"
      ],
      "metadata": {
        "id": "J4B4m9lyi_L1"
      }
    },
    {
      "cell_type": "markdown",
      "source": [
        "- ###  For a more structured output, using the code below as templates for each view to render the information in HTML format instead of plain text."
      ],
      "metadata": {
        "id": "lPSBAnyNjJsR"
      }
    },
    {
      "cell_type": "markdown",
      "source": [
        "## __Template for Listing Books (list_books.html):__"
      ],
      "metadata": {
        "id": "FxeDHzrYjVOX"
      }
    },
    {
      "cell_type": "markdown",
      "source": [
        "### This template will be used by the function-based view to display a list of all books."
      ],
      "metadata": {
        "id": "Lwww1jSjjff3"
      }
    },
    {
      "cell_type": "code",
      "source": [
        "\"\"\"\n",
        "<!-- list_books.html -->\n",
        "<!DOCTYPE html>\n",
        "<html lang=\"en\">\n",
        "<head>\n",
        "    <meta charset=\"UTF-8\">\n",
        "    <title>List of Books</title>\n",
        "</head>\n",
        "<body>\n",
        "    <h1>Books Available:</h1>\n",
        "    <ul>\n",
        "        {% for book in books %}\n",
        "        <li>{{ book.title }} by {{ book.author.name }}</li>\n",
        "        {% endfor %}\n",
        "    </ul>\n",
        "</body>\n",
        "</html>\n",
        "\"\"\""
      ],
      "metadata": {
        "id": "rNYLIUNIj1uH"
      },
      "execution_count": null,
      "outputs": []
    },
    {
      "cell_type": "markdown",
      "source": [
        "## __Template for Displaying Library Details (library_detail.html):__"
      ],
      "metadata": {
        "id": "UojLsz5gkEOv"
      }
    },
    {
      "cell_type": "markdown",
      "source": [
        "### This template will be used by the class-based view to show details of a specific library, including all books available in that library."
      ],
      "metadata": {
        "id": "Idu1mfBmkHO9"
      }
    },
    {
      "cell_type": "code",
      "source": [
        "\"\"\"\n",
        "<!-- library_detail.html -->\n",
        "<!DOCTYPE html>\n",
        "<html lang=\"en\">\n",
        "<head>\n",
        "    <meta charset=\"UTF-8\">\n",
        "    <title>Library Detail</title>\n",
        "</head>\n",
        "<body>\n",
        "    <h1>Library: {{ library.name }}</h1>\n",
        "    <h2>Books in Library:</h2>\n",
        "    <ul>\n",
        "        {% for book in library.books.all %}\n",
        "        <li>{{ book.title }} by {{ book.author.name }} (Published {{ book.publication_year }})</li>\n",
        "        {% endfor %}\n",
        "    </ul>\n",
        "</body>\n",
        "</html>\n",
        "\"\"\""
      ],
      "metadata": {
        "id": "LEa9XnUCkOm4"
      },
      "execution_count": null,
      "outputs": []
    },
    {
      "cell_type": "markdown",
      "source": [
        "## 5. Register you models on __relationship_app/admin.py__"
      ],
      "metadata": {
        "id": "o1O5rtf1khBF"
      }
    },
    {
      "cell_type": "code",
      "source": [
        "\"\"\"\n",
        "# Register your models here.\n",
        "\n",
        "from django.contrib import admin\n",
        "from.models import Book, Author, Library, Librarian\n",
        "\n",
        "admin.site.register(Book)\n",
        "admin.site.register(Author)\n",
        "admin.site.register(Library)\n",
        "admin.site.register(Librarian)\n",
        "\n",
        "\"\"\""
      ],
      "metadata": {
        "id": "Mxh6Eg5slAKS"
      },
      "execution_count": null,
      "outputs": []
    },
    {
      "cell_type": "markdown",
      "source": [
        "### __6. Register URLs in Main Project__"
      ],
      "metadata": {
        "id": "ATEXKcbllzyu"
      }
    },
    {
      "cell_type": "code",
      "source": [
        "\"\"\"\n",
        "from django.contrib import admin\n",
        "from django.urls import path, include\n",
        "\n",
        "urlpatterns = [\n",
        "    path('admin/', admin.site.urls),\n",
        "    path('', include('relationship_app.urls')),\n",
        "]\n",
        "\"\"\""
      ],
      "metadata": {
        "id": "71Yuf8m1mezn"
      },
      "execution_count": null,
      "outputs": []
    },
    {
      "cell_type": "markdown",
      "source": [
        "# __2. SAMPLE__"
      ],
      "metadata": {
        "id": "EAih3VBFjiaq"
      }
    },
    {
      "cell_type": "markdown",
      "source": [
        "![screnshot](https://github.com/IruraMwongera/irurajackblogs/blob/main/Screenshot%202025-07-18%20110314.png?raw=true)"
      ],
      "metadata": {
        "id": "yD5UYdgBjouo"
      }
    },
    {
      "cell_type": "markdown",
      "source": [
        "![screenshot](https://github.com/IruraMwongera/irurajackblogs/blob/main/Screenshot%202025-07-18%20110622.png?raw=true)"
      ],
      "metadata": {
        "id": "vgcBdZpgkVcr"
      }
    },
    {
      "cell_type": "markdown",
      "source": [
        "![screenshot](https://github.com/IruraMwongera/irurajackblogs/blob/main/Screenshot%202025-07-18%20110929.png?raw=true)"
      ],
      "metadata": {
        "id": "hzCTZQeElGEc"
      }
    },
    {
      "cell_type": "markdown",
      "source": [
        "![screenshot](https://github.com/IruraMwongera/irurajackblogs/blob/main/Screenshot%202025-07-18%20111148.png?raw=true)"
      ],
      "metadata": {
        "id": "GczUJJFAlkiU"
      }
    },
    {
      "cell_type": "markdown",
      "source": [
        "## __Solutions__"
      ],
      "metadata": {
        "id": "da_SlwoimNO8"
      }
    },
    {
      "cell_type": "markdown",
      "source": [
        "## __1. Setup User Authentication Views:__"
      ],
      "metadata": {
        "id": "pJqWDlOumSjK"
      }
    },
    {
      "cell_type": "markdown",
      "source": [
        "## Utilize Django’s built-in views and forms for handling user authentication. You will need to create views for user login, logout, and registration."
      ],
      "metadata": {
        "id": "aCgbKEFMm0w7"
      }
    },
    {
      "cell_type": "markdown",
      "source": [
        "## __views.py__"
      ],
      "metadata": {
        "id": "-QZhhJQlrS6m"
      }
    },
    {
      "cell_type": "code",
      "source": [
        "\"\"\"\n",
        "from django.shortcuts import render, redirect\n",
        "from django.contrib.auth import login\n",
        "from django.contrib.auth.forms import UserCreationForm\n",
        "from .models import Book, Library  # import your models if needed\n",
        "from django.views.generic.detail import DetailView\n",
        "\n",
        "def list_books(request):\n",
        "    books = Book.objects.all()\n",
        "    return render(request, 'relationship_app/book_list.html', {'books': books})\n",
        "\n",
        "class LibraryDetailView(DetailView):\n",
        "    model = Library\n",
        "    template_name = 'relationship_app/library_detail.html'\n",
        "    context_object_name = 'library'\n",
        "\n",
        "def register(request):\n",
        "    if request.method == 'POST':\n",
        "        form = UserCreationForm(request.POST)\n",
        "        if form.is_valid():\n",
        "            user = form.save()\n",
        "            login(request, user)\n",
        "            return redirect('home')\n",
        "    else:\n",
        "        form = UserCreationForm()\n",
        "    return render(request, 'relationship_app/register.html', {'form': form})\n",
        "\"\"\""
      ],
      "metadata": {
        "id": "d3eKq8LSmoOO"
      },
      "execution_count": null,
      "outputs": []
    },
    {
      "cell_type": "markdown",
      "source": [
        "## __urls.py__"
      ],
      "metadata": {
        "id": "QUPvTylBsEn6"
      }
    },
    {
      "cell_type": "code",
      "source": [
        "\"\"\"\n",
        "from django.urls import path\n",
        "from django.contrib.auth.views import LoginView, LogoutView\n",
        "from . import views\n",
        "from django.contrib.auth import login\n",
        "from django.contrib.auth import logout\n",
        "from django.contrib.auth.forms import UserCreationForm\n",
        "from django.contrib.auth.forms import AuthenticationForm\n",
        "\n",
        "urlpatterns = [\n",
        "    path('', views.list_books, name='home'),\n",
        "    path('books/', views.list_books, name='list_books'),\n",
        "    path('library/<int:pk>/', views.LibraryDetailView.as_view(), name='library_detail'),\n",
        "\n",
        "    path('register/', views.register, name='register'),  # renamed for checker\n",
        "    path('login/', LoginView.as_view(template_name='relationship_app/login.html'), name='login'),\n",
        "    path('logout/', LogoutView.as_view(template_name='relationship_app/logout.html'), name='logout'),\n",
        "]\n",
        "\n",
        "\"\"\""
      ],
      "metadata": {
        "id": "J5zvwBl0sKcI"
      },
      "execution_count": null,
      "outputs": []
    },
    {
      "cell_type": "markdown",
      "source": [
        "## __2.Create Templates for Authentication:__"
      ],
      "metadata": {
        "id": "Wz88a5GOm7Zh"
      }
    },
    {
      "cell_type": "markdown",
      "source": [
        "## Provide HTML templates for each authentication action (login, logout, and registration). Templates will be provided, allowing you to focus on backend integrations. Below is the recommended templates structure:"
      ],
      "metadata": {
        "id": "lx-y8T_WnHZF"
      }
    },
    {
      "cell_type": "markdown",
      "source": [
        "## __HTML Templates:__"
      ],
      "metadata": {
        "id": "sgm51gQAnl71"
      }
    },
    {
      "cell_type": "markdown",
      "source": [
        "## __login.html__"
      ],
      "metadata": {
        "id": "NECw4fD4nqME"
      }
    },
    {
      "cell_type": "code",
      "source": [
        "\"\"\"\n",
        "<!-- login.html -->\n",
        "{% load static %}\n",
        "<!DOCTYPE html>\n",
        "<html lang=\"en\">\n",
        "<head>\n",
        "    <meta charset=\"UTF-8\">\n",
        "    <title>Login</title>\n",
        "    <link rel=\"stylesheet\" href=\"{% static 'css/styles.css' %}\">\n",
        "</head>\n",
        "<body>\n",
        "    <h1>Login</h1>\n",
        "    <form method=\"post\">\n",
        "        {% csrf_token %}\n",
        "        {{ form.as_p }}\n",
        "        <button type=\"submit\">Login</button>\n",
        "    </form>\n",
        "    <a href=\"{% url 'register' %}\">Register</a>\n",
        "</body>\n",
        "</html>\n",
        "\"\"\""
      ],
      "metadata": {
        "id": "apTPWA3-n08K"
      },
      "execution_count": null,
      "outputs": []
    },
    {
      "cell_type": "markdown",
      "source": [
        "## __logout.html__"
      ],
      "metadata": {
        "id": "JsX3VXuEoCAe"
      }
    },
    {
      "cell_type": "code",
      "source": [
        "\"\"\"\n",
        "<!-- logout.html -->\n",
        "{% load static %}\n",
        "<!DOCTYPE html>\n",
        "<html lang=\"en\">\n",
        "<head>\n",
        "    <meta charset=\"UTF-8\">\n",
        "    <title>Logout</title>\n",
        "</head>\n",
        "<body>\n",
        "    <h1>You have been logged out</h1>\n",
        "    <a href=\"{% url 'login' %}\">Login again</a>\n",
        "</body>\n",
        "</html>\n",
        "\"\"\""
      ],
      "metadata": {
        "id": "r6W52PAxoEgI"
      },
      "execution_count": null,
      "outputs": []
    },
    {
      "cell_type": "markdown",
      "source": [
        "## __register.html__"
      ],
      "metadata": {
        "id": "NGkl2e2Cobd3"
      }
    },
    {
      "cell_type": "code",
      "source": [
        "\"\"\"\n",
        "<!-- register.html -->\n",
        "{% load static %}\n",
        "<!DOCTYPE html>\n",
        "<html lang=\"en\">\n",
        "<head>\n",
        "    <meta charset=\"UTF-8\">\n",
        "    <title>Register</title>\n",
        "    <link rel=\"stylesheet\" href=\"{% static 'css/styles.css' %}\">\n",
        "</head>\n",
        "<body>\n",
        "    <h1>Register</h1>\n",
        "    <form method=\"post\">\n",
        "        {% csrf_token %}\n",
        "        {{ form.as_p }}\n",
        "        <button type=\"submit\">Register</button>\n",
        "    </form>\n",
        "    <p>Already have an account? <a href=\"{% url 'login' %}\">Login here</a>.</p>\n",
        "</body>\n",
        "</html>\n",
        "\"\"\""
      ],
      "metadata": {
        "id": "qMRYMiieooOM"
      },
      "execution_count": null,
      "outputs": []
    },
    {
      "cell_type": "markdown",
      "source": [
        "## __Test Authentication Functionality:__"
      ],
      "metadata": {
        "id": "OWBILtp8shJq"
      }
    },
    {
      "cell_type": "markdown",
      "source": [
        "## Ensure that users can register, log in, and log out."
      ],
      "metadata": {
        "id": "acbwrtb9soMi"
      }
    },
    {
      "cell_type": "markdown",
      "source": [
        "## __After Running the Development Server__"
      ],
      "metadata": {
        "id": "Q_qZMzvKtlKx"
      }
    },
    {
      "cell_type": "code",
      "source": [
        "\"\"\"\n",
        "python manage.py runserver\n",
        "\"\"\""
      ],
      "metadata": {
        "id": "31mTckSIttQJ"
      },
      "execution_count": null,
      "outputs": []
    },
    {
      "cell_type": "markdown",
      "source": [
        "## Visit:\n",
        "\n",
        "- Admin: http://127.0.0.1:8000/admin/\n",
        "\n",
        "- Register: http://127.0.0.1:8000/register/\n",
        "\n",
        "- Login: http://127.0.0.1:8000/login/\n",
        "\n",
        "- Logout: http://127.0.0.1:8000/logout/\n",
        "\n",
        "- Books: http://127.0.0.1:8000/books/\n",
        "\n",
        "- Library Detail: Try http://127.0.0.1:8000/library/1/ (assuming a library with ID 1 exists)"
      ],
      "metadata": {
        "id": "9nq5IufZt2Tp"
      }
    },
    {
      "cell_type": "markdown",
      "source": [
        "# __3.SAMPLE__"
      ],
      "metadata": {
        "id": "rjdWnMpHuOz8"
      }
    },
    {
      "cell_type": "markdown",
      "source": [
        "![screenshot](https://github.com/IruraMwongera/irurajackblogs/blob/main/Screenshot%202025-07-18%20125610.png?raw=true)"
      ],
      "metadata": {
        "id": "kLxlWlNm-Adh"
      }
    },
    {
      "cell_type": "markdown",
      "source": [
        "![screenshot](https://github.com/IruraMwongera/irurajackblogs/blob/main/Screenshot%202025-07-18%20125909.png?raw=true)"
      ],
      "metadata": {
        "id": "4FgkIY8J-E-n"
      }
    },
    {
      "cell_type": "markdown",
      "source": [
        "# __Solutions__"
      ],
      "metadata": {
        "id": "y6r9kiMG-sgX"
      }
    },
    {
      "cell_type": "markdown",
      "source": [
        "## __1. Extend the User Model with a UserProfile__"
      ],
      "metadata": {
        "id": "w5KlIHoS-yj-"
      }
    },
    {
      "cell_type": "markdown",
      "source": [
        "## Create a UserProfile model that includes a role field with predefined roles. This model should be linked to Django’s built-in User model with a one-to-one relationship."
      ],
      "metadata": {
        "id": "XKlu0dOZ_DHN"
      }
    },
    {
      "cell_type": "markdown",
      "source": [
        "- ## __Fields Required:__\n",
        "- ### __user:__ OneToOneField linked to Django’s User.\n",
        "- ### __role:__ CharField with choices for ‘Admin’, ‘Librarian’, and ‘Member’.\n",
        "- ## __Automatic Creation:__ Use Django signals to automatically create a UserProfile when a new user is registered."
      ],
      "metadata": {
        "id": "cBGOgDhC_I1u"
      }
    },
    {
      "cell_type": "markdown",
      "source": [
        "## Updated __models.py__"
      ],
      "metadata": {
        "id": "omWaoNyP_1bp"
      }
    },
    {
      "cell_type": "code",
      "source": [
        "\"\"\"\n",
        "from django.db import models\n",
        "from django.contrib.auth.models import User\n",
        "from django.db.models.signals import post_save\n",
        "from django.dispatch import receiver\n",
        "\n",
        "class Author(models.Model):\n",
        "    name = models.CharField(max_length=100)\n",
        "\n",
        "    def __str__(self):\n",
        "        return self.name\n",
        "\n",
        "class Book(models.Model):\n",
        "    title = models.CharField(max_length=200)\n",
        "    author = models.ForeignKey(Author, on_delete=models.CASCADE)\n",
        "\n",
        "    def __str__(self):\n",
        "        return self.title\n",
        "\n",
        "class Library(models.Model):\n",
        "    name = models.CharField(max_length=100, unique=True)  # Prevent duplicates\n",
        "    books = models.ManyToManyField(Book)\n",
        "\n",
        "    def __str__(self):\n",
        "        return self.name\n",
        "\n",
        "class Librarian(models.Model):\n",
        "    name = models.CharField(max_length=100)\n",
        "    library = models.OneToOneField(Library, on_delete=models.CASCADE)\n",
        "\n",
        "    def __str__(self):\n",
        "        return self.name\n",
        "\n",
        "\n",
        "class UserProfile(models.Model):\n",
        "    ROLE_CHOICES = (\n",
        "        ('Admin', 'Admin'),\n",
        "        ('Librarian', 'Librarian'),\n",
        "        ('Member', 'Member'),\n",
        "    )\n",
        "\n",
        "    user = models.OneToOneField(User, on_delete=models.CASCADE)\n",
        "    role = models.CharField(max_length=20, choices=ROLE_CHOICES)\n",
        "\n",
        "    def __str__(self):\n",
        "        return f\"{self.user.username} - {self.role}\"\n",
        "\n",
        "# Automatically create a UserProfile when a User is created\n",
        "@receiver(post_save, sender=User)\n",
        "def create_user_profile(sender, instance, created, **kwargs):\n",
        "    if created:\n",
        "        UserProfile.objects.create(user=instance)\n",
        "\"\"\""
      ],
      "metadata": {
        "id": "bG43TXeV_-ly"
      },
      "execution_count": null,
      "outputs": []
    },
    {
      "cell_type": "markdown",
      "source": [
        "## __2: Set Up Role-Based Views__"
      ],
      "metadata": {
        "id": "UkLDxHhQAKxV"
      }
    },
    {
      "cell_type": "markdown",
      "source": [
        "## Create three separate views to manage content access based on user roles:"
      ],
      "metadata": {
        "id": "nW8c3zSkAZsl"
      }
    },
    {
      "cell_type": "markdown",
      "source": [
        "## __Views to Implement:__\n",
        "\n",
        "- ### An __‘Admin’__ view that only users with the ‘Admin’ role can access, the name of the file should be admin_view\n",
        "- ### A __‘Librarian’__ view accessible only to users identified as ‘Librarians’. The file should be named librarian_view\n",
        "- ### A __‘Member’__ view for users with the ‘Member’ role, the name of the file should be member_view.\n",
        "## __Access Control:__\n",
        "\n",
        "- ### Utilize the __@user_passes_test__ decorator to check the user’s role before granting access to each view."
      ],
      "metadata": {
        "id": "6aA3MmPlAlPm"
      }
    },
    {
      "cell_type": "markdown",
      "source": [
        "## Updated __views.py__"
      ],
      "metadata": {
        "id": "3B8quBnzBOt5"
      }
    },
    {
      "cell_type": "code",
      "source": [
        "\"\"\"\n",
        "from django.shortcuts import render, redirect\n",
        "from django.contrib.auth import login\n",
        "from django.contrib.auth.forms import UserCreationForm\n",
        "from .models import Book, Library  # import your models if needed\n",
        "from django.views.generic.detail import DetailView\n",
        "from django.contrib.auth.decorators import login_required, user_passes_test\n",
        "from .models import UserProfile\n",
        "\n",
        "\n",
        "def list_books(request):\n",
        "    books = Book.objects.all()\n",
        "    return render(request, 'relationship_app/book_list.html', {'books': books})\n",
        "\n",
        "class LibraryDetailView(DetailView):\n",
        "    model = Library\n",
        "    template_name = 'relationship_app/library_detail.html'\n",
        "    context_object_name = 'library'\n",
        "\n",
        "def register(request):\n",
        "    if request.method == 'POST':\n",
        "        form = UserCreationForm(request.POST)\n",
        "        if form.is_valid():\n",
        "            user = form.save()\n",
        "            login(request, user)\n",
        "            return redirect('home')\n",
        "    else:\n",
        "        form = UserCreationForm()\n",
        "    return render(request, 'relationship_app/register.html', {'form': form})\n",
        "\n",
        "# Role check helpers\n",
        "def is_admin(user):\n",
        "    return hasattr(user, 'userprofile') and user.userprofile.role == 'Admin'\n",
        "\n",
        "def is_librarian(user):\n",
        "    return hasattr(user, 'userprofile') and user.userprofile.role == 'Librarian'\n",
        "\n",
        "def is_member(user):\n",
        "    return hasattr(user, 'userprofile') and user.userprofile.role == 'Member'\n",
        "\n",
        "# Role-based views\n",
        "@login_required\n",
        "@user_passes_test(is_admin)\n",
        "def admin_view(request):\n",
        "    return render(request, 'relationship_app/admin_view.html')\n",
        "\n",
        "@login_required\n",
        "@user_passes_test(is_librarian)\n",
        "def librarian_view(request):\n",
        "    return render(request, 'relationship_app/librarian_view.html')\n",
        "\n",
        "@login_required\n",
        "@user_passes_test(is_member)\n",
        "def member_view(request):\n",
        "    return render(request, 'relationship_app/member_view.html')\n",
        "\"\"\""
      ],
      "metadata": {
        "id": "_DXsPZpHBnDo"
      },
      "execution_count": null,
      "outputs": []
    },
    {
      "cell_type": "markdown",
      "source": [
        "## __3. Configuring URL Patterns__"
      ],
      "metadata": {
        "id": "ywFsP2hQBp2U"
      }
    },
    {
      "cell_type": "markdown",
      "source": [
        "### Define URL patterns that will route to the newly created role-specific views. Ensure that each URL is correctly linked to its respective view and that the URLs are named for easy reference."
      ],
      "metadata": {
        "id": "K2Cazq82B7qs"
      }
    },
    {
      "cell_type": "markdown",
      "source": [
        "## __URLs to Define:__\n",
        "- ### A URL for the ‘Admin’ view.\n",
        "- ### A URL for the ‘Librarian’ view.\n",
        "- ### A URL for the ‘Member’ view."
      ],
      "metadata": {
        "id": "YAmx1NxACd52"
      }
    },
    {
      "cell_type": "markdown",
      "source": [
        "## Updated __app urls.py__"
      ],
      "metadata": {
        "id": "kjL3Bq0NCwDg"
      }
    },
    {
      "cell_type": "code",
      "source": [
        "\"\"\"\n",
        "from django.urls import path\n",
        "from django.contrib.auth.views import LoginView, LogoutView\n",
        "from . import views\n",
        "from django.contrib.auth import login\n",
        "from django.contrib.auth import logout\n",
        "from django.contrib.auth.forms import UserCreationForm\n",
        "from django.contrib.auth.forms import AuthenticationForm\n",
        "\n",
        "urlpatterns = [\n",
        "    path('', views.list_books, name='home'),\n",
        "    path('books/', views.list_books, name='list_books'),\n",
        "    path('library/<int:pk>/', views.LibraryDetailView.as_view(), name='library_detail'),\n",
        "    path('', views.list_books, name='home'),\n",
        "    path('books/', views.list_books, name='list_books'),\n",
        "    path('library/<int:pk>/', views.LibraryDetailView.as_view(), name='library_detail'),\n",
        "    path('register/', views.register, name='register'),\n",
        "    path('admin-view/', views.admin_view, name='admin_view'),\n",
        "    path('librarian-view/', views.librarian_view, name='librarian_view'),\n",
        "    path('member-view/', views.member_view, name='member_view'),\n",
        "    path('register/', views.register, name='register'),  # renamed for checker\n",
        "    path('login/', LoginView.as_view(template_name='relationship_app/login.html'), name='login'),\n",
        "    path('logout/', LogoutView.as_view(template_name='relationship_app/logout.html'), name='logout'),\n",
        "]\n",
        "\"\"\""
      ],
      "metadata": {
        "id": "1TV4SpWFDGEf"
      },
      "execution_count": null,
      "outputs": []
    },
    {
      "cell_type": "markdown",
      "source": [
        "## Update __account urls.py__"
      ],
      "metadata": {
        "id": "NCB_wdBGDIvX"
      }
    },
    {
      "cell_type": "code",
      "source": [
        "'''\n",
        "\n",
        "\n",
        "\"\"\"\n",
        "URL configuration for LibraryProject project.\n",
        "\n",
        "The `urlpatterns` list routes URLs to views. For more information please see:\n",
        "    https://docs.djangoproject.com/en/5.2/topics/http/urls/\n",
        "Examples:\n",
        "Function views\n",
        "    1. Add an import:  from my_app import views\n",
        "    2. Add a URL to urlpatterns:  path('', views.home, name='home')\n",
        "Class-based views\n",
        "    1. Add an import:  from other_app.views import Home\n",
        "    2. Add a URL to urlpatterns:  path('', Home.as_view(), name='home')\n",
        "Including another URLconf\n",
        "    1. Import the include() function: from django.urls import include, path\n",
        "    2. Add a URL to urlpatterns:  path('blog/', include('blog.urls'))\n",
        "\"\"\"\n",
        "from django.contrib import admin\n",
        "from django.urls import path, include\n",
        "from django.contrib.auth import views as auth_views\n",
        "\n",
        "\n",
        "\n",
        "urlpatterns = [\n",
        "    path('admin/', admin.site.urls),\n",
        "    path('', include('relationship_app.urls')),\n",
        "    path('bookshelf/', include('bookshelf.urls')),\n",
        "    path('login/', auth_views.LoginView.as_view(template_name='relationship_app/login.html'), name='login'),\n",
        "    path('logout/', auth_views.LogoutView.as_view(), name='logout'),\n",
        "]\n",
        "'''"
      ],
      "metadata": {
        "id": "t6iOtHKyDhHB"
      },
      "execution_count": null,
      "outputs": []
    },
    {
      "cell_type": "markdown",
      "source": [
        "## __4. Create Role-Based HTML Templates__"
      ],
      "metadata": {
        "id": "adoQwDmXDnTi"
      }
    },
    {
      "cell_type": "markdown",
      "source": [
        "### For each role, create an HTML template to display relevant content when users access their respective views."
      ],
      "metadata": {
        "id": "k2amZU6SD7fc"
      }
    },
    {
      "cell_type": "markdown",
      "source": [
        "## Templates to Create:\n",
        "\n",
        "- ### __admin_view.html__ for Admin users.\n",
        "- ### __librarian_view.html__ for Librarians.\n",
        "- ### __member_view.html__ for Members."
      ],
      "metadata": {
        "id": "1hkJY5JoD_lJ"
      }
    },
    {
      "cell_type": "markdown",
      "source": [
        "## __admin_view.html__"
      ],
      "metadata": {
        "id": "As8ZgS4OESNy"
      }
    },
    {
      "cell_type": "code",
      "source": [
        "\"\"\"\n",
        "<h1>Welcome Admin!</h1>\n",
        "<p>This page is accessible only to Admin users.</p>\n",
        "\"\"\""
      ],
      "metadata": {
        "id": "wHTu_DoPE7OP"
      },
      "execution_count": null,
      "outputs": []
    },
    {
      "cell_type": "markdown",
      "source": [
        "## __librarian_view.html__"
      ],
      "metadata": {
        "id": "2vr0ur4xFMkl"
      }
    },
    {
      "cell_type": "code",
      "source": [
        "\"\"\"\n",
        "<h1>Welcome Librarian!</h1>\n",
        "<p>This page is accessible only to Librarians.</p>\n",
        "\"\"\"\n"
      ],
      "metadata": {
        "id": "DH_rIrinFqA2"
      },
      "execution_count": null,
      "outputs": []
    },
    {
      "cell_type": "markdown",
      "source": [
        "## __member_view.html__"
      ],
      "metadata": {
        "id": "6F-ETohsFwYk"
      }
    },
    {
      "cell_type": "code",
      "source": [
        "\"\"\"\n",
        "<h1>Welcome Member!</h1>\n",
        "<p>This page is accessible only to Members.</p>\n",
        "\"\"\""
      ],
      "metadata": {
        "id": "6IJDMBFpF7p-"
      },
      "execution_count": null,
      "outputs": []
    },
    {
      "cell_type": "markdown",
      "source": [
        "### __Since you have changed models.py make sure you run migrates__"
      ],
      "metadata": {
        "id": "9Fd5qAewG_JF"
      }
    },
    {
      "cell_type": "code",
      "source": [
        "\"\"\"\n",
        "python manage.py makemigrations\n",
        "python manage.py migrate\n",
        "\"\"\""
      ],
      "metadata": {
        "id": "YZ21H0ZWHIaL"
      },
      "execution_count": null,
      "outputs": []
    },
    {
      "cell_type": "markdown",
      "source": [
        "### __Then run your server__"
      ],
      "metadata": {
        "id": "N1HvfBgrHKuB"
      }
    },
    {
      "cell_type": "code",
      "source": [
        "\"\"\"\n",
        "python manage.py runserver\n",
        "\"\"\""
      ],
      "metadata": {
        "id": "tcZdzIJbHWPa"
      },
      "execution_count": null,
      "outputs": []
    },
    {
      "cell_type": "markdown",
      "source": [
        "### __Visit__"
      ],
      "metadata": {
        "id": "P582fvAmHdLM"
      }
    },
    {
      "cell_type": "code",
      "source": [
        "\"\"\"\n",
        "http://127.0.0.1:8000/admin\n",
        "\"\"\""
      ],
      "metadata": {
        "id": "AqtD9DGAHlS8"
      },
      "execution_count": null,
      "outputs": []
    },
    {
      "cell_type": "markdown",
      "source": [
        "## You should now see:\n",
        "\n",
        "- ### Books\n",
        "\n",
        "- ### Authors\n",
        "\n",
        "- ### Libraries\n",
        "\n",
        "- ### Librarians\n",
        "\n",
        "- ### User Profiles"
      ],
      "metadata": {
        "id": "CSMFfKgjHpPE"
      }
    },
    {
      "cell_type": "markdown",
      "source": [
        "![screenshot](https://github.com/IruraMwongera/irurajackblogs/blob/main/Screenshot%202025-07-18%20134229.png?raw=true)"
      ],
      "metadata": {
        "id": "o3RioQvyIo0b"
      }
    },
    {
      "cell_type": "markdown",
      "source": [
        "### Select on User Profile to add new users."
      ],
      "metadata": {
        "id": "ZFKIolZ_ItoJ"
      }
    },
    {
      "cell_type": "markdown",
      "source": [
        "# __4. SAMPLE__"
      ],
      "metadata": {
        "id": "dfvwXI25I5ef"
      }
    },
    {
      "cell_type": "markdown",
      "source": [
        "![screenshot](https://github.com/IruraMwongera/irurajackblogs/blob/main/Screenshot%202025-07-18%20144420.png?raw=true)"
      ],
      "metadata": {
        "id": "Z8iy5aSsWoYK"
      }
    },
    {
      "cell_type": "markdown",
      "source": [
        "![screenshot](https://github.com/IruraMwongera/irurajackblogs/blob/main/Screenshot%202025-07-18%20144703.png?raw=true)"
      ],
      "metadata": {
        "id": "LyziLTOTW24k"
      }
    },
    {
      "cell_type": "markdown",
      "source": [
        "## __1.Extend the Book Model with Custom Permissions__"
      ],
      "metadata": {
        "id": "E77KukemXV7q"
      }
    },
    {
      "cell_type": "markdown",
      "source": [
        "### Add custom permissions to the Book model to specify who can add, edit, or delete the entries."
      ],
      "metadata": {
        "id": "BummL5mRYJFy"
      }
    },
    {
      "cell_type": "markdown",
      "source": [
        "## Model Changes Required:\n",
        "- ### Inside the __Book__ model, define a nested __Meta__ class.\n",
        "- ### Within this __Meta__ class, specify a __permissions__ tuple that includes permissions like __can_add_book__, __can_change_book__, and __can_delete_book.__"
      ],
      "metadata": {
        "id": "6Kxrn0t_YNnD"
      }
    },
    {
      "cell_type": "markdown",
      "source": [
        "## __Updated models.py__"
      ],
      "metadata": {
        "id": "hR4UytxgY0nX"
      }
    },
    {
      "cell_type": "code",
      "source": [
        "\"\"\"\n",
        "from django.db import models\n",
        "from django.contrib.auth.models import User\n",
        "from django.db.models.signals import post_save\n",
        "from django.dispatch import receiver\n",
        "\n",
        "class Author(models.Model):\n",
        "    name = models.CharField(max_length=100)\n",
        "\n",
        "    def __str__(self):\n",
        "        return self.name\n",
        "\n",
        "class Book(models.Model):\n",
        "    title = models.CharField(max_length=200)\n",
        "    author = models.ForeignKey(Author, on_delete=models.CASCADE)\n",
        "\n",
        "    class Meta:\n",
        "        permissions = [\n",
        "            (\"can_add_book\", \"Can add book\"),\n",
        "            (\"can_change_book\", \"Can change book\"),\n",
        "            (\"can_delete_book\", \"Can delete book\"),\n",
        "        ]\n",
        "\n",
        "    def __str__(self):\n",
        "        return self.title\n",
        "\n",
        "class Library(models.Model):\n",
        "    name = models.CharField(max_length=100, unique=True)  # Prevent duplicates\n",
        "    books = models.ManyToManyField(Book)\n",
        "\n",
        "    def __str__(self):\n",
        "        return self.name\n",
        "\n",
        "class Librarian(models.Model):\n",
        "    name = models.CharField(max_length=100)\n",
        "    library = models.OneToOneField(Library, on_delete=models.CASCADE)\n",
        "\n",
        "    def __str__(self):\n",
        "        return self.name\n",
        "\n",
        "\n",
        "class UserProfile(models.Model):\n",
        "    ROLE_CHOICES = (\n",
        "        ('Admin', 'Admin'),\n",
        "        ('Librarian', 'Librarian'),\n",
        "        ('Member', 'Member'),\n",
        "    )\n",
        "\n",
        "    user = models.OneToOneField(User, on_delete=models.CASCADE)\n",
        "    role = models.CharField(max_length=20, choices=ROLE_CHOICES)\n",
        "\n",
        "    def __str__(self):\n",
        "        return f\"{self.user.username} - {self.role}\"\n",
        "\n",
        "# Automatically create a UserProfile when a User is created\n",
        "@receiver(post_save, sender=User)\n",
        "def create_user_profile(sender, instance, created, **kwargs):\n",
        "    if created:\n",
        "        UserProfile.objects.create(user=instance)\n",
        "\"\"\""
      ],
      "metadata": {
        "id": "O4O8xmN5Y9ai"
      },
      "execution_count": null,
      "outputs": []
    },
    {
      "cell_type": "markdown",
      "source": [
        "## __2.  Update Views to Enforce Permissions__"
      ],
      "metadata": {
        "id": "MQOR4YJhZZ_N"
      }
    },
    {
      "cell_type": "markdown",
      "source": [
        "### Adjust your views to check if a user has the necessary permissions before allowing them to perform create, update, or delete operations."
      ],
      "metadata": {
        "id": "UaQcTCebZgol"
      }
    },
    {
      "cell_type": "markdown",
      "source": [
        "## __Views to Modify:__\n",
        "- ### Use Django’s __permission_required__ decorator to secure views that add, edit, or delete books.\n",
        "- ### For each view, apply the corresponding permission."
      ],
      "metadata": {
        "id": "MuFUiCzPZpIW"
      }
    },
    {
      "cell_type": "markdown",
      "source": [
        "## Updated __views.py__"
      ],
      "metadata": {
        "id": "DUxig79rZ-7i"
      }
    },
    {
      "cell_type": "code",
      "source": [
        "\"\"\"\n",
        "from django.shortcuts import render, redirect\n",
        "from django.contrib.auth import login\n",
        "from django.contrib.auth.forms import UserCreationForm\n",
        "from .models import Book, Library  # import your models if needed\n",
        "from django.views.generic.detail import DetailView\n",
        "from django.contrib.auth.decorators import login_required, user_passes_test\n",
        "from .models import UserProfile\n",
        "from django.contrib.auth.decorators import permission_required\n",
        "from django.shortcuts import get_object_or_404\n",
        "from .forms import BookForm\n",
        "\n",
        "\n",
        "\n",
        "def list_books(request):\n",
        "    books = Book.objects.all()\n",
        "    return render(request, 'relationship_app/book_list.html', {'books': books})\n",
        "\n",
        "class LibraryDetailView(DetailView):\n",
        "    model = Library\n",
        "    template_name = 'relationship_app/library_detail.html'\n",
        "    context_object_name = 'library'\n",
        "\n",
        "def register(request):\n",
        "    if request.method == 'POST':\n",
        "        form = UserCreationForm(request.POST)\n",
        "        if form.is_valid():\n",
        "            user = form.save()\n",
        "            login(request, user)\n",
        "            return redirect('home')\n",
        "    else:\n",
        "        form = UserCreationForm()\n",
        "    return render(request, 'relationship_app/register.html', {'form': form})\n",
        "\n",
        "# Role check helpers\n",
        "def is_admin(user):\n",
        "    return hasattr(user, 'userprofile') and user.userprofile.role == 'Admin'\n",
        "\n",
        "def is_librarian(user):\n",
        "    return hasattr(user, 'userprofile') and user.userprofile.role == 'Librarian'\n",
        "\n",
        "def is_member(user):\n",
        "    return hasattr(user, 'userprofile') and user.userprofile.role == 'Member'\n",
        "\n",
        "# Role-based views\n",
        "@login_required\n",
        "@user_passes_test(is_admin)\n",
        "def admin_view(request):\n",
        "    return render(request, 'relationship_app/admin_view.html')\n",
        "\n",
        "@login_required\n",
        "@user_passes_test(is_librarian)\n",
        "def librarian_view(request):\n",
        "    return render(request, 'relationship_app/librarian_view.html')\n",
        "\n",
        "@login_required\n",
        "@user_passes_test(is_member)\n",
        "def member_view(request):\n",
        "    return render(request, 'relationship_app/member_view.html')\n",
        "\n",
        "\n",
        "@permission_required('relationship_app.can_add_book', raise_exception=True)\n",
        "def add_book(request):\n",
        "    if request.method == 'POST':\n",
        "        form = BookForm(request.POST)\n",
        "        if form.is_valid():\n",
        "            form.save()\n",
        "            return redirect('list_books')\n",
        "    else:\n",
        "        form = BookForm()\n",
        "    return render(request, 'relationship_app/book_form.html', {'form': form, 'action': 'Add'})\n",
        "\n",
        "@permission_required('relationship_app.can_change_book', raise_exception=True)\n",
        "def edit_book(request, pk):\n",
        "    book = get_object_or_404(Book, pk=pk)\n",
        "    if request.method == 'POST':\n",
        "        form = BookForm(request.POST, instance=book)\n",
        "        if form.is_valid():\n",
        "            form.save()\n",
        "            return redirect('list_books')\n",
        "    else:\n",
        "        form = BookForm(instance=book)\n",
        "    return render(request, 'relationship_app/book_form.html', {'form': form, 'action': 'Edit'})\n",
        "\n",
        "@permission_required('relationship_app.can_delete_book', raise_exception=True)\n",
        "def delete_book(request, pk):\n",
        "    book = get_object_or_404(Book, pk=pk)\n",
        "    if request.method == 'POST':\n",
        "        book.delete()\n",
        "        return redirect('list_books')\n",
        "    return render(request, 'relationship_app/book_confirm_delete.html', {'book': book})\n",
        "\n",
        "\"\"\""
      ],
      "metadata": {
        "id": "3rf7WKWDaNo7"
      },
      "execution_count": null,
      "outputs": []
    },
    {
      "cell_type": "markdown",
      "source": [
        "## __3. Define URL Patterns for Secured Views__"
      ],
      "metadata": {
        "id": "mqjIZbppaPeh"
      }
    },
    {
      "cell_type": "markdown",
      "source": [
        "### Ensure that the secured views are accessible through specific URLs. Set up these URLs in your urls.py file and ensure they are properly named for clarity."
      ],
      "metadata": {
        "id": "0wfFM83MaXV7"
      }
    },
    {
      "cell_type": "markdown",
      "source": [
        "## __URLs to Setup:__\n",
        "- ### Create distinct paths for adding, editing, and deleting books.\n",
        "- ### Link each path to its respective view with the appropriate permissions."
      ],
      "metadata": {
        "id": "cwkIqeNZab7g"
      }
    },
    {
      "cell_type": "markdown",
      "source": [
        "## Updated app __urls.py__"
      ],
      "metadata": {
        "id": "f8lnLQkdalxO"
      }
    },
    {
      "cell_type": "code",
      "source": [
        "\"\"\"\n",
        "from django.urls import path\n",
        "from django.contrib.auth.views import LoginView, LogoutView\n",
        "from . import views\n",
        "\n",
        "urlpatterns = [\n",
        "    # Existing ones...\n",
        "    path('', views.list_books, name='home'),\n",
        "    path('books/', views.list_books, name='list_books'),\n",
        "    path('library/<int:pk>/', views.LibraryDetailView.as_view(), name='library_detail'),\n",
        "    path('register/', views.register, name='register'),\n",
        "    path('login/', views.login, name='login'),  # or use LoginView\n",
        "    path('logout/', views.logout, name='logout'),  # or use LogoutView\n",
        "\n",
        "    # Role-specific views\n",
        "    path('admin-view/', views.admin_view, name='admin_view'),\n",
        "    path('librarian-view/', views.librarian_view, name='librarian_view'),\n",
        "    path('member-view/', views.member_view, name='member_view'),\n",
        "\n",
        "    #  Add these to match checker expectations\n",
        "    path('add_book/', views.add_book, name='add_book'),\n",
        "    path('edit_book/<int:pk>/', views.edit_book, name='edit_book'),\n",
        "    path('delete_book/<int:pk>/', views.delete_book, name='delete_book'),\n",
        "\n",
        "    # Optional (if you want to keep books/ prefix too)\n",
        "    # path('books/add/', views.add_book, name='add_book'),\n",
        "    # path('books/edit/<int:pk>/', views.edit_book, name='edit_book'),\n",
        "]\n",
        "\"\"\""
      ],
      "metadata": {
        "id": "H6tR1-rla0jw"
      },
      "execution_count": null,
      "outputs": []
    },
    {
      "cell_type": "markdown",
      "source": [
        "## Updated account __urls.py__"
      ],
      "metadata": {
        "id": "0d3IpCg_a74U"
      }
    },
    {
      "cell_type": "code",
      "source": [
        "'''\n",
        "\"\"\"\n",
        "URL configuration for LibraryProject project.\n",
        "\n",
        "The `urlpatterns` list routes URLs to views. For more information please see:\n",
        "    https://docs.djangoproject.com/en/5.2/topics/http/urls/\n",
        "Examples:\n",
        "Function views\n",
        "    1. Add an import:  from my_app import views\n",
        "    2. Add a URL to urlpatterns:  path('', views.home, name='home')\n",
        "Class-based views\n",
        "    1. Add an import:  from other_app.views import Home\n",
        "    2. Add a URL to urlpatterns:  path('', Home.as_view(), name='home')\n",
        "Including another URLconf\n",
        "    1. Import the include() function: from django.urls import include, path\n",
        "    2. Add a URL to urlpatterns:  path('blog/', include('blog.urls'))\n",
        "\"\"\"\n",
        "from django.contrib import admin\n",
        "from django.urls import path, include\n",
        "\n",
        "urlpatterns = [\n",
        "    path('admin/', admin.site.urls),\n",
        "    path('', include('relationship_app.urls')),     # All views: home, books, add_book, login, etc.\n",
        "    path('bookshelf/', include('bookshelf.urls')),  # If you're using another app\n",
        "]\n",
        "\n",
        "'''"
      ],
      "metadata": {
        "id": "TuT2bo9GbHZG"
      },
      "execution_count": null,
      "outputs": []
    },
    {
      "cell_type": "markdown",
      "source": [
        "## __Note:__Any time you change models.py make sure you apply migrations:"
      ],
      "metadata": {
        "id": "EuV-MMWdbPcT"
      }
    },
    {
      "cell_type": "code",
      "source": [
        "\"\"\"\n",
        "python manage.py makemigrations\n",
        "python manage.py migrate\n",
        "\"\"\""
      ],
      "metadata": {
        "id": "udSDni_LbiT6"
      },
      "execution_count": null,
      "outputs": []
    }
  ]
}