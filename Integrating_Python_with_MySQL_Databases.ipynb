{
  "nbformat": 4,
  "nbformat_minor": 0,
  "metadata": {
    "colab": {
      "provenance": []
    },
    "kernelspec": {
      "name": "python3",
      "display_name": "Python 3"
    },
    "language_info": {
      "name": "python"
    }
  },
  "cells": [
    {
      "cell_type": "markdown",
      "source": [
        "# __Integrating Python with MySQL Databases__"
      ],
      "metadata": {
        "id": "oTae4NqoCbXE"
      }
    },
    {
      "cell_type": "markdown",
      "source": [
        "## __Concept Overview__\n",
        "##Topics\n",
        "- ## __Introduction to mysql-connector-python__\n",
        "- ## Working with Cursors\n",
        "- ## Executing SQL Queries (SELECT, INSERT, UPDATE, DELETE)\n",
        "## A Complete Example"
      ],
      "metadata": {
        "id": "apUXEk4sBv_k"
      }
    },
    {
      "cell_type": "markdown",
      "source": [
        "## __Objectives__\n",
        "- ## Install and use the mysql-connector-python library\n",
        "- ## Establish a connection to a MySQL database server\n",
        "- ## Understand the concept of cursors in database interactions\n",
        "- ## Execute basic SQL queries (SELECT, INSERT, UPDATE, DELETE) using Python"
      ],
      "metadata": {
        "id": "PVV0GPLcCp5Y"
      }
    },
    {
      "cell_type": "markdown",
      "source": [
        "# __Introduction to mysql-connector-python__\n",
        "## mysql-connector-python is a popular library that bridges the gap between Python and MySQL databases. It provides a comprehensive interface for interacting with MySQL servers, allowing you to execute queries, manipulate data, and manage database objects."
      ],
      "metadata": {
        "id": "PCMuDF_iDP1J"
      }
    },
    {
      "cell_type": "markdown",
      "source": [
        "# __Installation__\n",
        "## The recommended way to install __mysql-connector-python__ is using pip, the Python package manager. Open your terminal or command prompt and run the following command, which download and install the library."
      ],
      "metadata": {
        "id": "CKmySl8bDqIB"
      }
    },
    {
      "cell_type": "code",
      "source": [
        "pip install mysql-connector-python"
      ],
      "metadata": {
        "colab": {
          "base_uri": "https://localhost:8080/"
        },
        "id": "AgAOOjUoEAh6",
        "outputId": "96854e74-0270-4fe0-d7fd-b17edd238a0a"
      },
      "execution_count": null,
      "outputs": [
        {
          "output_type": "stream",
          "name": "stdout",
          "text": [
            "Collecting mysql-connector-python\n",
            "  Downloading mysql_connector_python-9.3.0-cp311-cp311-manylinux_2_28_x86_64.whl.metadata (7.2 kB)\n",
            "Downloading mysql_connector_python-9.3.0-cp311-cp311-manylinux_2_28_x86_64.whl (33.9 MB)\n",
            "\u001b[2K   \u001b[90m━━━━━━━━━━━━━━━━━━━━━━━━━━━━━━━━━━━━━━━━\u001b[0m \u001b[32m33.9/33.9 MB\u001b[0m \u001b[31m36.7 MB/s\u001b[0m eta \u001b[36m0:00:00\u001b[0m\n",
            "\u001b[?25hInstalling collected packages: mysql-connector-python\n",
            "Successfully installed mysql-connector-python-9.3.0\n"
          ]
        }
      ]
    },
    {
      "cell_type": "markdown",
      "source": [
        "# __Connecting to MySQL Database__\n",
        "## Once you have mysql-connector-python installed, we can start interacting with your MySQL database server. Here’s an example of how to connect:"
      ],
      "metadata": {
        "id": "G_OqxmLPEM7E"
      }
    },
    {
      "cell_type": "code",
      "source": [
        "\"\"\"\n",
        "import mysql.connector\n",
        "\n",
        "# Replace with your connection details\n",
        "mydb = mysql.connector.connect(\n",
        "    host=\"localhost\",\n",
        "    user=\"yourusername\",\n",
        "    password=\"yourpassword\",\n",
        "    database=\"yourdatabase\"\n",
        ")\n",
        "\n",
        "print(mydb.get_server_info())\n",
        "\"\"\""
      ],
      "metadata": {
        "colab": {
          "base_uri": "https://localhost:8080/",
          "height": 35
        },
        "id": "PcDs-7Q7EVV_",
        "outputId": "43308df6-4c19-4ad2-8e70-eaf6f05a09ee"
      },
      "execution_count": null,
      "outputs": [
        {
          "output_type": "execute_result",
          "data": {
            "text/plain": [
              "'\\nimport mysql.connector\\n\\n# Replace with your connection details\\nmydb = mysql.connector.connect(\\n    host=\"localhost\",\\n    user=\"yourusername\",\\n    password=\"yourpassword\",\\n    database=\"yourdatabase\"\\n)\\n\\nprint(mydb.get_server_info())\\n'"
            ],
            "application/vnd.google.colaboratory.intrinsic+json": {
              "type": "string"
            }
          },
          "metadata": {},
          "execution_count": 2
        }
      ]
    },
    {
      "cell_type": "markdown",
      "source": [
        "## This code snippet imports the library, establishes a connection using the connect method, and retrieves some server information using __get_server_info.__ Remember to replace the connection details with your actual credentials and database name."
      ],
      "metadata": {
        "id": "iwddEdW9ElnV"
      }
    },
    {
      "cell_type": "markdown",
      "source": [],
      "metadata": {
        "id": "x-_SKij1FVuz"
      }
    },
    {
      "cell_type": "markdown",
      "source": [
        "# __Working with Cursors__\n",
        "## Cursors are objects used to execute SQL statements and fetch results from the database. You can create a cursor using the cursor method of the connection object. With the cursor in hand, you can execute various SQL queries. Once you’re finished working with the database, ensure you close the connection to release resources\n",
        "\n",
        "## Examples:"
      ],
      "metadata": {
        "id": "-d8ZJoaMEwMT"
      }
    },
    {
      "cell_type": "code",
      "source": [
        "\"\"\"\n",
        "import mysql.connector\n",
        "\n",
        "# Replace with your connection details\n",
        "mydb = mysql.connector.connect(\n",
        "    host=\"localhost\",\n",
        "    user=\"yourusername\",\n",
        "    password=\"yourpassword\",\n",
        "    database=\"yourdatabase\"\n",
        ")\n",
        "\n",
        "mycursor = mydb.cursor()\n",
        "# Execute SQL statements using the execute() method on the cursor\n",
        "\n",
        "# Close connection to the databasse\n",
        "mycursor.close()\n",
        "mydb.close()\n",
        "\"\"\""
      ],
      "metadata": {
        "colab": {
          "base_uri": "https://localhost:8080/",
          "height": 52
        },
        "id": "8QenyWt-FT4R",
        "outputId": "9878c5eb-4e80-419e-e6ac-a4b9bd0e535e"
      },
      "execution_count": null,
      "outputs": [
        {
          "output_type": "execute_result",
          "data": {
            "text/plain": [
              "'\\nimport mysql.connector\\n\\n# Replace with your connection details\\nmydb = mysql.connector.connect(\\n    host=\"localhost\",\\n    user=\"yourusername\",\\n    password=\"yourpassword\",\\n    database=\"yourdatabase\"\\n)\\n\\nmycursor = mydb.cursor()\\n# Execute SQL statements using the execute() method on the cursor\\n\\n# Close connection to the databasse  \\nmycursor.close()\\nmydb.close()\\n'"
            ],
            "application/vnd.google.colaboratory.intrinsic+json": {
              "type": "string"
            }
          },
          "metadata": {},
          "execution_count": 3
        }
      ]
    },
    {
      "cell_type": "markdown",
      "source": [
        "# __Executing SQL Queries (SELECT, INSERT, UPDATE, DELETE)__"
      ],
      "metadata": {
        "id": "YGsq8K7aFdwp"
      }
    },
    {
      "cell_type": "markdown",
      "source": [
        "## __SELECT__ Retrieve data from a table"
      ],
      "metadata": {
        "id": "YCTGflJ5Fq8y"
      }
    },
    {
      "cell_type": "code",
      "source": [
        "\"\"\"\n",
        "mycursor.execute(\"SELECT * FROM your_table\")\n",
        "myresult = mycursor.fetchall()\n",
        "\n",
        "for row in myresult:\n",
        "  print(row)\n",
        "\"\"\""
      ],
      "metadata": {
        "colab": {
          "base_uri": "https://localhost:8080/",
          "height": 35
        },
        "id": "-ewrfxjJFyIi",
        "outputId": "2915e400-18b8-4e1e-e48b-aa52c9561a56"
      },
      "execution_count": null,
      "outputs": [
        {
          "output_type": "execute_result",
          "data": {
            "text/plain": [
              "'\\nmycursor.execute(\"SELECT * FROM your_table\")\\nmyresult = mycursor.fetchall()\\n\\nfor row in myresult:\\n  print(row)\\n'"
            ],
            "application/vnd.google.colaboratory.intrinsic+json": {
              "type": "string"
            }
          },
          "metadata": {},
          "execution_count": 4
        }
      ]
    },
    {
      "cell_type": "markdown",
      "source": [
        "## __INSERT__ Insert new data into a table"
      ],
      "metadata": {
        "id": "wxdTS35xF8-p"
      }
    },
    {
      "cell_type": "code",
      "source": [
        "\"\"\"\n",
        "sql = \"INSERT INTO your_table (name, email) VALUES (%s, %s)\"\n",
        "val = (\"John\", \"john@example.com\")\n",
        "mycursor.execute(sql, val)\n",
        "mydb.commit()  # Commit the changes\n",
        "\"\"\""
      ],
      "metadata": {
        "colab": {
          "base_uri": "https://localhost:8080/",
          "height": 35
        },
        "id": "NH2EEptAGTmq",
        "outputId": "0b291af3-de9f-4df4-e600-47d90239591b"
      },
      "execution_count": null,
      "outputs": [
        {
          "output_type": "execute_result",
          "data": {
            "text/plain": [
              "'\\nsql = \"INSERT INTO your_table (name, email) VALUES (%s, %s)\"\\nval = (\"John\", \"john@example.com\")\\nmycursor.execute(sql, val)\\nmydb.commit()  # Commit the changes\\n'"
            ],
            "application/vnd.google.colaboratory.intrinsic+json": {
              "type": "string"
            }
          },
          "metadata": {},
          "execution_count": 6
        }
      ]
    },
    {
      "cell_type": "markdown",
      "source": [
        "## __UPDATE__ Modify existing data in a table"
      ],
      "metadata": {
        "id": "-_fOsPq4GfSm"
      }
    },
    {
      "cell_type": "code",
      "source": [
        "\"\"\"\n",
        "sql = \"UPDATE your_table SET name = %s WHERE id = %s\"\n",
        "val = (\"Jane\", 1)\n",
        "mycursor.execute(sql, val)\n",
        "mydb.commit() # Commit the changes\n",
        "\"\"\""
      ],
      "metadata": {
        "colab": {
          "base_uri": "https://localhost:8080/",
          "height": 35
        },
        "id": "6QU7SuMEGn_7",
        "outputId": "7d3507df-6b5b-400a-c81c-99c7d65d88ef"
      },
      "execution_count": null,
      "outputs": [
        {
          "output_type": "execute_result",
          "data": {
            "text/plain": [
              "'\\nsql = \"UPDATE your_table SET name = %s WHERE id = %s\"\\nval = (\"Jane\", 1)\\nmycursor.execute(sql, val)\\nmydb.commit() # Commit the changes\\n'"
            ],
            "application/vnd.google.colaboratory.intrinsic+json": {
              "type": "string"
            }
          },
          "metadata": {},
          "execution_count": 7
        }
      ]
    },
    {
      "cell_type": "markdown",
      "source": [
        "## __DELETE__ Remove data from a table"
      ],
      "metadata": {
        "id": "z3zDFSdAGvEZ"
      }
    },
    {
      "cell_type": "code",
      "source": [
        "\"\"\"\n",
        "sql = \"DELETE FROM your_table WHERE id = %s\"\n",
        "val = (2,)\n",
        "mycursor.execute(sql, val)\n",
        "mydb.commit() # Commit the changes\n",
        "\"\"\""
      ],
      "metadata": {
        "colab": {
          "base_uri": "https://localhost:8080/",
          "height": 35
        },
        "id": "ryT0fo2WG2Ck",
        "outputId": "5ea8e9ca-1fad-4cae-b962-424f52b0e226"
      },
      "execution_count": null,
      "outputs": [
        {
          "output_type": "execute_result",
          "data": {
            "text/plain": [
              "'\\nsql = \"DELETE FROM your_table WHERE id = %s\"\\nval = (2,)\\nmycursor.execute(sql, val)\\nmydb.commit() # Commit the changes\\n'"
            ],
            "application/vnd.google.colaboratory.intrinsic+json": {
              "type": "string"
            }
          },
          "metadata": {},
          "execution_count": 8
        }
      ]
    },
    {
      "cell_type": "markdown",
      "source": [
        "# __A Complete Example__\n",
        "## The below code first establishes a connection to your MySQL database server. Then, it creates a table named customers if it doesn’t already exist. It demonstrates inserting two customer records, followed by reading all customer data using a SELECT statement.\n",
        "\n",
        "## Next, the code updates the email address of a customer with ID 1 and retrieves the updated record. Finally, it deletes the customer with ID 2 and closes the database connections."
      ],
      "metadata": {
        "id": "j8M3TKdRHA6M"
      }
    },
    {
      "cell_type": "code",
      "source": [
        "\"\"\"\n",
        "import mysql.connector\n",
        "\n",
        "# Database connection details (replace with your own)\n",
        "mydb = mysql.connector.connect(\n",
        "    host=\"localhost\",\n",
        "    user=\"yourusername\",\n",
        "    password=\"yourpassword\",\n",
        "    database=\"mydb\"\n",
        ")\n",
        "\n",
        "mycursor = mydb.cursor()\n",
        "\n",
        "# Create a table named `customers` (if it doesn't exist)\n",
        "mycursor.execute(\\\"\\\"\\\"\n",
        "CREATE TABLE IF NOT EXISTS customers (\n",
        "  id INT AUTO_INCREMENT PRIMARY KEY,\n",
        "  name VARCHAR(255) NOT NULL,\n",
        "  email VARCHAR(255) NOT NULL UNIQUE\n",
        ")\n",
        "\\\"\\\"\\\")\n",
        "\n",
        "print(\"Table created successfully!\")\n",
        "\n",
        "# Insert some customer data\n",
        "sql = \"INSERT INTO customers (name, email) VALUES (%s, %s)\"\n",
        "val = (\"John Doe\", \"john.doe@example.com\")\n",
        "mycursor.execute(sql, val)\n",
        "mydb.commit()\n",
        "\n",
        "print(mycursor.rowcount, \"record(s) inserted.\")\n",
        "\n",
        "val = (\"Jane Smith\", \"jane.smith@example.com\")\n",
        "mycursor.execute(sql, val)\n",
        "mydb.commit()\n",
        "\n",
        "print(mycursor.rowcount, \"record(s) inserted.\")\n",
        "\n",
        "# Read all customer data\n",
        "mycursor.execute(\"SELECT * FROM customers\")\n",
        "myresult = mycursor.fetchall()\n",
        "\n",
        "print(\"Customers:\")\n",
        "for row in myresult:\n",
        "  print(row)\n",
        "\n",
        "# Update a customer's email\n",
        "sql = \"UPDATE customers SET email = %s WHERE id = %s\"\n",
        "val = (\"updated.email@example.com\", 1)\n",
        "mycursor.execute(sql, val)\n",
        "mydb.commit()\n",
        "\n",
        "print(mycursor.rowcount, \"record(s) updated.\")\n",
        "\n",
        "# Read the updated customer data\n",
        "mycursor.execute(\"SELECT * FROM customers WHERE id = 1\")\n",
        "myresult = mycursor.fetchone()\n",
        "\n",
        "print(\"Updated customer:\")\n",
        "print(myresult)\n",
        "\n",
        "# Delete a customer\n",
        "sql = \"DELETE FROM customers WHERE id = 2\"\n",
        "mycursor.execute(sql)\n",
        "mydb.commit()\n",
        "\n",
        "print(mycursor.rowcount, \"record(s) deleted.\")\n",
        "\n",
        "# Close connections\n",
        "mycursor.close()\n",
        "mydb.close()\n",
        "\n",
        "print(\"Database connection closed.\")\n",
        "\"\"\"\n"
      ],
      "metadata": {
        "colab": {
          "base_uri": "https://localhost:8080/",
          "height": 87
        },
        "id": "-lpNIJVVHIBI",
        "outputId": "e5d2d045-bc7a-48e1-af4f-c5456203ce33"
      },
      "execution_count": null,
      "outputs": [
        {
          "output_type": "execute_result",
          "data": {
            "text/plain": [
              "'\\nimport mysql.connector\\n\\n# Database connection details (replace with your own)\\nmydb = mysql.connector.connect(\\n    host=\"localhost\",\\n    user=\"yourusername\",\\n    password=\"yourpassword\",\\n    database=\"mydb\"\\n)\\n\\nmycursor = mydb.cursor()\\n\\n# Create a table named `customers` (if it doesn\\'t exist)\\nmycursor.execute(\"\"\"\\nCREATE TABLE IF NOT EXISTS customers (\\n  id INT AUTO_INCREMENT PRIMARY KEY,\\n  name VARCHAR(255) NOT NULL,\\n  email VARCHAR(255) NOT NULL UNIQUE\\n)\\n\"\"\")\\n\\nprint(\"Table created successfully!\")\\n\\n# Insert some customer data\\nsql = \"INSERT INTO customers (name, email) VALUES (%s, %s)\"\\nval = (\"John Doe\", \"john.doe@example.com\")\\nmycursor.execute(sql, val)\\nmydb.commit()\\n\\nprint(mycursor.rowcount, \"record(s) inserted.\")\\n\\nval = (\"Jane Smith\", \"jane.smith@example.com\")\\nmycursor.execute(sql, val)\\nmydb.commit()\\n\\nprint(mycursor.rowcount, \"record(s) inserted.\")\\n\\n# Read all customer data\\nmycursor.execute(\"SELECT * FROM customers\")\\nmyresult = mycursor.fetchall()\\n\\nprint(\"Customers:\")\\nfor row in myresult:\\n  print(row)\\n\\n# Update a customer\\'s email\\nsql = \"UPDATE customers SET email = %s WHERE id = %s\"\\nval = (\"updated.email@example.com\", 1)\\nmycursor.execute(sql, val)\\nmydb.commit()\\n\\nprint(mycursor.rowcount, \"record(s) updated.\")\\n\\n# Read the updated customer data\\nmycursor.execute(\"SELECT * FROM customers WHERE id = 1\")\\nmyresult = mycursor.fetchone()\\n\\nprint(\"Updated customer:\")\\nprint(myresult)\\n\\n# Delete a customer\\nsql = \"DELETE FROM customers WHERE id = 2\"\\nmycursor.execute(sql)\\nmydb.commit()\\n\\nprint(mycursor.rowcount, \"record(s) deleted.\")\\n\\n# Close connections\\nmycursor.close()\\nmydb.close()\\n\\nprint(\"Database connection closed.\")\\n'"
            ],
            "application/vnd.google.colaboratory.intrinsic+json": {
              "type": "string"
            }
          },
          "metadata": {},
          "execution_count": 12
        }
      ]
    }
  ]
}