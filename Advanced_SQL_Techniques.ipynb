{
  "nbformat": 4,
  "nbformat_minor": 0,
  "metadata": {
    "colab": {
      "provenance": []
    },
    "kernelspec": {
      "name": "python3",
      "display_name": "Python 3"
    },
    "language_info": {
      "name": "python"
    }
  },
  "cells": [
    {
      "cell_type": "markdown",
      "source": [
        "# __Advanced SQL Techniques__"
      ],
      "metadata": {
        "id": "bzJGqnxqz73k"
      }
    },
    {
      "cell_type": "markdown",
      "source": [
        "## __Concept Overview__\n",
        "## Topics\n",
        "- ## DQL (Data Query Language)\n",
        "- ## Sorting and Filtering Data\n",
        "- ## Complex Queries and Subqueries\n",
        "- ## Data Control Language (DCL)"
      ],
      "metadata": {
        "id": "Vie-sgee0f0c"
      }
    },
    {
      "cell_type": "markdown",
      "source": [
        "## __DQL (Data Query Language)__\n",
        "## DQL statements are used to retrieve data from database tables, allowing you to query and filter data based on specific conditions. DQL provides a way to select and retrieve data from one or more tables in a database, enabling you to access and analyze the stored information. Here are common commands:\n",
        "\n",
        "- ## __SELECT__: Used to retrieve data from one or more tables. Example: SELECT * FROM Customers; (selects all columns and rows from the Customers table)\n",
        "- ## __WHERE__: Used to filter rows based on specified conditions. Example: SELECT * FROM Customers WHERE City = 'New York';\n",
        "- ## __JOIN__: Used to combine rows from two or more tables based on a related column between them. Example: SELECT Customers.Name, Orders.OrderDate FROM Customers JOIN Orders ON Customers.CustomerID = Orders.CustomerID;"
      ],
      "metadata": {
        "id": "stL9Ivg31UB0"
      }
    },
    {
      "cell_type": "code",
      "source": [
        "\"\"\"\n",
        "SELECT FirstName, LastName, Email\n",
        "FROM Students\n",
        "WHERE EnrollmentDate >= '2022-01-01'\n",
        "ORDER BY LastName ASC;\n",
        "\"\"\""
      ],
      "metadata": {
        "colab": {
          "base_uri": "https://localhost:8080/",
          "height": 35
        },
        "id": "18ad8pip2z3g",
        "outputId": "021a0295-2189-4e7a-a430-5ad103ffac3d"
      },
      "execution_count": null,
      "outputs": [
        {
          "output_type": "execute_result",
          "data": {
            "text/plain": [
              "\"\\nSELECT FirstName, LastName, Email\\nFROM Students\\nWHERE EnrollmentDate >= '2022-01-01'\\nORDER BY LastName ASC;\\n\""
            ],
            "application/vnd.google.colaboratory.intrinsic+json": {
              "type": "string"
            }
          },
          "metadata": {},
          "execution_count": 1
        }
      ]
    },
    {
      "cell_type": "markdown",
      "source": [
        "## This DQL statement selects the FirstName, LastName, and Email columns from the “Students” table, filters the results to include only students who enrolled on or after January 1, 2022, and orders the results by LastName in ascending order."
      ],
      "metadata": {
        "id": "sU5noDXH3W14"
      }
    },
    {
      "cell_type": "markdown",
      "source": [
        "# __Sorting and Filtering Data__\n",
        "# __Sorting__\n",
        "## Sorting allows you to arrange your data set based on a specific column, like organizing books alphabetically by title. In SQL, you achieve this using the ORDER BY clause.\n",
        "\n",
        "## how it works:\n",
        "\n",
        "- ## Specifying the Order: After the SELECT statement, include the ORDER BY clause followed by the column name(s) you want to sort by.\n",
        "- ## Ascending or Descending?: By default, sorting is ascending (A to Z or lowest to highest for numbers). You can use the ASC keyword to explicitly define ascending order or DESC for descending order."
      ],
      "metadata": {
        "id": "3P5wgJat3iiW"
      }
    },
    {
      "cell_type": "code",
      "source": [
        "\"\"\"\n",
        "SELECT * FROM Products ORDER BY Price ASC;\n",
        "\"\"\""
      ],
      "metadata": {
        "colab": {
          "base_uri": "https://localhost:8080/",
          "height": 35
        },
        "id": "oNtpNC0d4qQx",
        "outputId": "b61f9bb9-edc7-4bd8-bbb8-9424429bf63e"
      },
      "execution_count": null,
      "outputs": [
        {
          "output_type": "execute_result",
          "data": {
            "text/plain": [
              "'\\nSELECT * FROM Products ORDER BY Price ASC;\\n'"
            ],
            "application/vnd.google.colaboratory.intrinsic+json": {
              "type": "string"
            }
          },
          "metadata": {},
          "execution_count": 2
        }
      ]
    },
    {
      "cell_type": "markdown",
      "source": [
        "# __Filtering: Focusing on the Relevant__\n",
        "## Filtering allows you to narrow down your data set based on specific criteria. Imagine searching the library catalog for books published after 2020. Filtering achieves a similar function.\n",
        "\n",
        "## The WHERE clause is your key tool for filtering in SQL.\n",
        "## Breakdown:\n",
        "\n",
        "- ## Defining Conditions: The WHERE clause comes after the FROM clause and lets you specify conditions that rows must meet to be included in the results. You use comparison operators (=, >, <, etc.) and logical operators (AND, OR, NOT) to combine these conditions.\n",
        "- ## Filtering Logic: Only rows that satisfy all the conditions (when using AND) or at least one condition (when using OR) are included in the final result set."
      ],
      "metadata": {
        "id": "--cKGOMO4uRA"
      }
    },
    {
      "cell_type": "code",
      "source": [
        "\"\"\"\n",
        "SELECT * FROM Customers WHERE City = 'New York' AND Age > 25;\n",
        "\n",
        "SELECT * FROM Orders WHERE OrderStatus = 'Shipped' AND OrderDate > '2023-01-01';\n",
        "\"\"\""
      ],
      "metadata": {
        "colab": {
          "base_uri": "https://localhost:8080/",
          "height": 35
        },
        "id": "JZumQ1Yb6bId",
        "outputId": "da7884e2-fb98-4885-e30f-73872f1c9be1"
      },
      "execution_count": null,
      "outputs": [
        {
          "output_type": "execute_result",
          "data": {
            "text/plain": [
              "\"\\nSELECT * FROM Customers WHERE City = 'New York' AND Age > 25;\\n\\nSELECT * FROM Orders WHERE OrderStatus = 'Shipped' AND OrderDate > '2023-01-01';\\n\""
            ],
            "application/vnd.google.colaboratory.intrinsic+json": {
              "type": "string"
            }
          },
          "metadata": {},
          "execution_count": 3
        }
      ]
    },
    {
      "cell_type": "markdown",
      "source": [
        "# __Complex Queries and Subqueries__\n",
        "## Complex queries involve the use of multiple SQL clauses and operators to retrieve or manipulate data from one or more tables. They allow for more sophisticated data retrieval and analysis than simple queries. Complex queries are used to perform advanced data analysis, generate reports, and extract valuable insights from databases.\n",
        "\n",
        "## __Components of Complex Queries__\n",
        "\n",
        "- ## __Joins__: Combining data from multiple tables based on related columns using JOIN clauses (e.g., INNER JOIN, LEFT JOIN, RIGHT JOIN).\n",
        "- ## __Aggregation__: Grouping and summarizing data using aggregate functions (e.g., SUM, AVG, COUNT) and GROUP BY clauses.\n",
        "- ## __Subqueries__: Nesting queries within other queries to perform operations or filter data.\n",
        "- ## __Set Operations__: Combining results of multiple queries using set operators (e.g., UNION, INTERSECT, EXCEPT)."
      ],
      "metadata": {
        "id": "rs3IrRMP6vvx"
      }
    },
    {
      "cell_type": "markdown",
      "source": [
        "## __JOIN: Combining data from multiple tables__\n",
        "## JOIN is a powerful concept in SQL that allows you to combine data from two or more tables based on a shared relationship between them. This is essential when you’re working with relational databases where information is often distributed across multiple tables.\n",
        "\n",
        "## There are different types of JOINs, each serving a specific purpose:\n",
        "\n",
        "- ## __INNER JOIN__: This is the most common type of JOIN. It returns only rows where there’s a match in both tables based on the join condition.\n",
        "- ## __LEFT JOIN__: This JOIN includes all rows from the left table (specified before the JOIN keyword) and matching rows from the right table. Rows from the right table with no match will have NULL values in the corresponding columns.\n",
        "- ## __RIGHT JOIN__: Similar to LEFT JOIN, but it includes all rows from the right table and matching rows from the left table. Left table mismatches will result in NULL values.\n",
        "- ## __FULL JOIN__: This JOIN returns all rows from both tables, regardless of whether there’s a match in the other table. Unmatched rows will have NULL values in the corresponding columns."
      ],
      "metadata": {
        "id": "lE1B86Ip7ZA-"
      }
    },
    {
      "cell_type": "markdown",
      "source": [
        "## Example of an INNER JOIN:\n",
        "\n",
        "## Imagine you have two tables: “Customers” and “Orders”. The “Customers” table has a “CustomerID” column, and the “Orders” table has a “CustomerID” foreign key that references the “Customers” table."
      ],
      "metadata": {
        "id": "v7jMSBH08X9J"
      }
    },
    {
      "cell_type": "code",
      "source": [
        "\"\"\"\n",
        "SELECT c.Name, o.OrderID, o.OrderDate\n",
        "FROM Customers c\n",
        "INNER JOIN Orders o ON c.CustomerID = o.CustomerID;\n",
        "\"\"\""
      ],
      "metadata": {
        "colab": {
          "base_uri": "https://localhost:8080/",
          "height": 35
        },
        "id": "UJPBYGcO8hWv",
        "outputId": "2eb7e905-aca6-4686-c184-f61b06165c30"
      },
      "execution_count": null,
      "outputs": [
        {
          "output_type": "execute_result",
          "data": {
            "text/plain": [
              "'\\nSELECT c.Name, o.OrderID, o.OrderDate\\nFROM Customers c\\nINNER JOIN Orders o ON c.CustomerID = o.CustomerID;\\n'"
            ],
            "application/vnd.google.colaboratory.intrinsic+json": {
              "type": "string"
            }
          },
          "metadata": {},
          "execution_count": 4
        }
      ]
    },
    {
      "cell_type": "markdown",
      "source": [
        "## This query retrieves customer names (Name from Customers table) along with their order details (OrderID and OrderDate from Orders table) based on the matching “CustomerID” values."
      ],
      "metadata": {
        "id": "ztdzG_V-8sCz"
      }
    },
    {
      "cell_type": "markdown",
      "source": [
        "## __Aggregation__\n",
        "## Aggregation in SQL involves applying aggregate functions to groups of rows in a table to summarize data and perform calculations. It allows for the analysis of large datasets by condensing information into meaningful insights. Aggregation is used to perform calculations on groups of data, such as calculating sums, averages, counts, minimums, and maximums.\n",
        "\n",
        "## __Aggregate Functions__\n",
        "\n",
        "- ## __SUM__: Calculates the sum of values in a column.\n",
        "- ## __AVG__: Calculates the average of values in a column.\n",
        "- ## __COUNT__: Counts the number of rows in a group.\n",
        "- ## __MIN__: Finds the minimum value in a column.\n",
        "- ## __MAX__: Finds the maximum value in a column.\n",
        "\n",
        "\n",
        "\n",
        "## Examples"
      ],
      "metadata": {
        "id": "2j7zKxgo85Sl"
      }
    },
    {
      "cell_type": "code",
      "source": [
        "\"\"\"\n",
        "SELECT Department, COUNT(*) AS EmployeeCount FROM Employees GROUP BY Department;\n",
        "SELECT ProductCategory, AVG(UnitPrice) AS AvgPrice FROM Products GROUP BY ProductCategory;\n",
        "SELECT OrderDate, SUM(TotalAmount) AS TotalSales FROM Orders GROUP BY OrderDate;\n",
        "\"\"\""
      ],
      "metadata": {
        "colab": {
          "base_uri": "https://localhost:8080/",
          "height": 35
        },
        "id": "5HuG2k229_T2",
        "outputId": "18597c52-7fc9-42fe-a0ce-9b79ef802188"
      },
      "execution_count": null,
      "outputs": [
        {
          "output_type": "execute_result",
          "data": {
            "text/plain": [
              "'\\nSELECT Department, COUNT(*) AS EmployeeCount FROM Employees GROUP BY Department;\\nSELECT ProductCategory, AVG(UnitPrice) AS AvgPrice FROM Products GROUP BY ProductCategory;\\nSELECT OrderDate, SUM(TotalAmount) AS TotalSales FROM Orders GROUP BY OrderDate;\\n'"
            ],
            "application/vnd.google.colaboratory.intrinsic+json": {
              "type": "string"
            }
          },
          "metadata": {},
          "execution_count": 5
        }
      ]
    },
    {
      "cell_type": "markdown",
      "source": [
        "# __Subqueries__\n",
        "## Subqueries, also known as nested queries or inner queries, are SQL queries nested within another query. They are used to perform operations or filter data based on the results of another query. Subqueries allow for more complex and flexible querying by enabling dynamic filtering, calculations, and data manipulations.\n",
        "\n",
        "## __Types of Subqueries__\n",
        "\n",
        "- ## __Single-row Subqueries__: Return a single value or row and are used with single-row operators (e.g., =, >, <).\n",
        "- ## __Multiple-row Subqueries__: Return multiple rows and are used with multiple-row operators (e.g., IN, ANY, ALL).\n",
        "- ## __Correlated Subqueries__: Reference columns from the outer query within the subquery, allowing for correlated operations.\n",
        "\n",
        "## Examples:"
      ],
      "metadata": {
        "id": "9uzAx4AM-QTq"
      }
    },
    {
      "cell_type": "code",
      "source": [
        "\"\"\"\n",
        "SELECT ProductName\n",
        "FROM Products\n",
        "WHERE UnitPrice > (SELECT AVG(UnitPrice) FROM Products);\n",
        "\"\"\""
      ],
      "metadata": {
        "colab": {
          "base_uri": "https://localhost:8080/",
          "height": 35
        },
        "id": "VQ4kpR7l-pSz",
        "outputId": "d7694d6d-a933-4de7-9a4c-f00117e67030"
      },
      "execution_count": null,
      "outputs": [
        {
          "output_type": "execute_result",
          "data": {
            "text/plain": [
              "'\\nSELECT ProductName\\nFROM Products\\nWHERE UnitPrice > (SELECT AVG(UnitPrice) FROM Products);\\n'"
            ],
            "application/vnd.google.colaboratory.intrinsic+json": {
              "type": "string"
            }
          },
          "metadata": {},
          "execution_count": 6
        }
      ]
    },
    {
      "cell_type": "markdown",
      "source": [
        "# __DCL (Data Control Language)__\n",
        "## DCL statements are used to manage user access and permissions within a database, ensuring data security and controlling who can access and modify data. DCL provides a way to grant or revoke privileges to users or roles, allowing you to control access to specific database objects or operations. Here are common commands:\n",
        "\n",
        "- ## __GRANT__: Used to grant specific privileges or roles to users or other roles. Example: GRANT SELECT, INSERT ON Customers TO UserRole;\n",
        "- ## __REVOKE__: Used to revoke or remove previously granted privileges or roles from users or other roles. Example: REVOKE SELECT ON Customers FROM UserRole;"
      ],
      "metadata": {
        "id": "GE3rxmd2-yzO"
      }
    },
    {
      "cell_type": "code",
      "source": [
        "\"\"\"\n",
        "CREATE ROLE StudentAdmin;\n",
        "GRANT SELECT, INSERT, UPDATE, DELETE ON Students TO StudentAdmin;\n",
        "CREATE USER 'admin_user' IDENTIFIED BY 'password123';\n",
        "GRANT StudentAdmin TO 'admin_user';\n",
        "\"\"\""
      ],
      "metadata": {
        "colab": {
          "base_uri": "https://localhost:8080/",
          "height": 35
        },
        "id": "J1Z-_hfK_FwZ",
        "outputId": "e9a1bdcc-da86-4b16-8442-ca84ec7406c0"
      },
      "execution_count": null,
      "outputs": [
        {
          "output_type": "execute_result",
          "data": {
            "text/plain": [
              "\"\\nCREATE ROLE StudentAdmin;\\nGRANT SELECT, INSERT, UPDATE, DELETE ON Students TO StudentAdmin;\\nCREATE USER 'admin_user' IDENTIFIED BY 'password123';\\nGRANT StudentAdmin TO 'admin_user';\\n\""
            ],
            "application/vnd.google.colaboratory.intrinsic+json": {
              "type": "string"
            }
          },
          "metadata": {},
          "execution_count": 7
        }
      ]
    },
    {
      "cell_type": "markdown",
      "source": [
        "##These DCL statements create a new role called “StudentAdmin”, grant privileges (SELECT, INSERT, UPDATE, DELETE) on the “Students” table to that role, create a new user ‘adminuser’ with a password, and grant the “StudentAdmin” role to the ‘adminuser’ user, effectively giving them permissions to manage the “Students” table."
      ],
      "metadata": {
        "id": "-gdsWyfx_Ly0"
      }
    }
  ]
}