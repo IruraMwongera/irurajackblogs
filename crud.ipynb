{
  "nbformat": 4,
  "nbformat_minor": 0,
  "metadata": {
    "colab": {
      "provenance": []
    },
    "kernelspec": {
      "name": "python3",
      "display_name": "Python 3"
    },
    "language_info": {
      "name": "python"
    }
  },
  "cells": [
    {
      "cell_type": "markdown",
      "source": [
        "# __CRUD Operations with SQL.__"
      ],
      "metadata": {
        "id": "8ENdZy8qV1Yo"
      }
    },
    {
      "cell_type": "markdown",
      "source": [
        "## __Concept Overview.__\n",
        "## Topics\n",
        "- ### DDL (Data Definition Language)\n",
        "- ### DML (Data Manipulation Language)\n",
        "- ### CRUD Operations in SQL"
      ],
      "metadata": {
        "id": "szIDkrVcWCpM"
      }
    },
    {
      "cell_type": "markdown",
      "source": [
        "## __DDL (Data Definition Language).__\n",
        "## DDL statements are used to define and manage the structure of a database, including creating, modifying, and dropping database objects like tables, indexes, and views. DDL provides a way to create, alter, and remove database objects, as well as define constraints and relationships between them. Here are common commands:\n",
        "\n",
        "- ### __CREATE TABLE__: Used to create a new table with specified columns and data types. Example: CREATE TABLE Customers (CustomerID INT PRIMARY KEY, Name VARCHAR(50), Email VARCHAR(100));\n",
        "- ### __ALTER TABLE__: Used to modify an existing table, such as adding, modifying, or dropping columns. Example: ALTER TABLE Customers ADD Address VARCHAR(200);\n",
        "- ### __DROP TABLE__: Used to delete an existing table and all its data. Example: DROP TABLE Customers;"
      ],
      "metadata": {
        "id": "zYFQbbCtXrIR"
      }
    },
    {
      "cell_type": "code",
      "source": [
        "\"\"\"\n",
        "CREATE TABLE Students (\n",
        "    StudentID INT PRIMARY KEY,\n",
        "    FirstName VARCHAR(50) NOT NULL,\n",
        "    LastName VARCHAR(50) NOT NULL,\n",
        "    Email VARCHAR(100) UNIQUE,\n",
        "    EnrollmentDate DATE\n",
        ");\n",
        "\"\"\""
      ],
      "metadata": {
        "colab": {
          "base_uri": "https://localhost:8080/",
          "height": 35
        },
        "id": "CmlWoy2HZAHM",
        "outputId": "68bf078e-a50e-4e2e-a5f9-4c8d1c9a616d"
      },
      "execution_count": null,
      "outputs": [
        {
          "output_type": "execute_result",
          "data": {
            "text/plain": [
              "'\\nCREATE TABLE Students (\\n    StudentID INT PRIMARY KEY,\\n    FirstName VARCHAR(50) NOT NULL,\\n    LastName VARCHAR(50) NOT NULL,\\n    Email VARCHAR(100) UNIQUE,\\n    EnrollmentDate DATE\\n);\\n'"
            ],
            "application/vnd.google.colaboratory.intrinsic+json": {
              "type": "string"
            }
          },
          "metadata": {},
          "execution_count": 1
        }
      ]
    },
    {
      "cell_type": "markdown",
      "source": [
        "## This DDL statement creates a new table called “Students” with columns for StudentID (as the primary key), FirstName, LastName, Email (with a unique constraint), and EnrollmentDate. It defines the structure and constraints of the table."
      ],
      "metadata": {
        "id": "9yLl54pcYjLQ"
      }
    },
    {
      "cell_type": "markdown",
      "source": [
        "# DML (Data Manipulation Language)\n",
        "##DML statements are used to manipulate data within database tables, including inserting, updating, and deleting records. DML provides a way to insert, modify, and remove data from database tables, allowing you to manage the content of your database. Here are common commands:\n",
        "\n",
        "- ## __INSERT__: Used to add new records (rows) to a table. Example: INSERT INTO Customers (Name, Email) VALUES ('John Doe', 'john@example.com');\n",
        "- ## __UPDATE__: Used to modify existing records in a table. Example: UPDATE Customers SET Email = 'newemail@example.com' WHERE CustomerID = 1;\n",
        "- ## __DELETE__: Used to remove records from a table. Example: DELETE FROM Customers WHERE CustomerID = 1;"
      ],
      "metadata": {
        "id": "VgjaWTSyZjE2"
      }
    },
    {
      "cell_type": "markdown",
      "source": [
        "# __CRUD (Create, Read, Update and Delete) Operations in SQL.__"
      ],
      "metadata": {
        "id": "3xH-BgL_aSfj"
      }
    },
    {
      "cell_type": "markdown",
      "source": [
        "## __Create (INSERT).__\n",
        "## The INSERT statement is used to create new records (rows) in a database table. It allows you to add new data to the table by specifying values for the columns.\n",
        "\n",
        "- ## The basic syntax for the INSERT statement is:"
      ],
      "metadata": {
        "id": "LSon9692ap8L"
      }
    },
    {
      "cell_type": "code",
      "source": [
        "\"\"\"\n",
        "INSERT INTO table_name (column1, column2, ...)\n",
        "VALUES (value1, value2, ...);\n",
        "\"\"\""
      ],
      "metadata": {
        "colab": {
          "base_uri": "https://localhost:8080/",
          "height": 35
        },
        "id": "mDT77BgGa_89",
        "outputId": "e51a02d4-ad86-4bda-effd-360ab83304a0"
      },
      "execution_count": null,
      "outputs": [
        {
          "output_type": "execute_result",
          "data": {
            "text/plain": [
              "'\\nINSERT INTO table_name (column1, column2, ...)\\nVALUES (value1, value2, ...);\\n'"
            ],
            "application/vnd.google.colaboratory.intrinsic+json": {
              "type": "string"
            }
          },
          "metadata": {},
          "execution_count": 2
        }
      ]
    },
    {
      "cell_type": "markdown",
      "source": [
        "- ## You can specify the columns for which you want to insert values, or you can omit the column list to insert values for all columns in the table.\n",
        "\n",
        "- ## When inserting values, the order of the values must match the order of the columns specified, or the order of the columns in the table if no column list is provided.\n",
        "\n",
        "- ## You can insert multiple rows at once by separating the value sets with commas:"
      ],
      "metadata": {
        "id": "JUhvwHDvbX-C"
      }
    },
    {
      "cell_type": "code",
      "source": [
        "\"\"\"\n",
        "INSERT INTO table_name (column1, column2, ...)\n",
        "VALUES (value1, value2, ...),\n",
        "       (value3, value4, ...),\n",
        "       ...;\n",
        "\"\"\""
      ],
      "metadata": {
        "colab": {
          "base_uri": "https://localhost:8080/",
          "height": 35
        },
        "id": "XKwyLHUUbs6k",
        "outputId": "395a99d8-7087-4100-e4db-ad57888ee5de"
      },
      "execution_count": null,
      "outputs": [
        {
          "output_type": "execute_result",
          "data": {
            "text/plain": [
              "'\\nINSERT INTO table_name (column1, column2, ...)\\nVALUES (value1, value2, ...),\\n       (value3, value4, ...),\\n       ...;\\n'"
            ],
            "application/vnd.google.colaboratory.intrinsic+json": {
              "type": "string"
            }
          },
          "metadata": {},
          "execution_count": 3
        }
      ]
    },
    {
      "cell_type": "markdown",
      "source": [
        "## __Read (SELECT)__\n",
        "## The SELECT statement is used to retrieve data from one or more tables in a database. It is the primary statement for querying and reading data.\n",
        "\n",
        "- ## The basic syntax for the SELECT statement is:"
      ],
      "metadata": {
        "id": "zUn6YbI0cGel"
      }
    },
    {
      "cell_type": "code",
      "source": [
        "\"\"\"\n",
        "SELECT column1, column2, ...\n",
        "FROM table_name;\n",
        "\"\"\""
      ],
      "metadata": {
        "colab": {
          "base_uri": "https://localhost:8080/",
          "height": 35
        },
        "id": "939bCz8Icgvu",
        "outputId": "a07ec397-133a-4fd1-8b6f-c1ee06f7d70e"
      },
      "execution_count": null,
      "outputs": [
        {
          "output_type": "execute_result",
          "data": {
            "text/plain": [
              "'\\nSELECT column1, column2, ...\\nFROM table_name;\\n'"
            ],
            "application/vnd.google.colaboratory.intrinsic+json": {
              "type": "string"
            }
          },
          "metadata": {},
          "execution_count": 4
        }
      ]
    },
    {
      "cell_type": "markdown",
      "source": [
        "- ## You can specify the columns you want to retrieve, or use the *  wildcard to select all columns from the table.\n",
        "\n",
        "- ## The SELECT statement can be combined with various clauses to filter, sort, and manipulate the result set, such as WHERE, ORDER BY, JOIN, GROUP BY, and others.\n",
        "\n",
        "- ## Example:"
      ],
      "metadata": {
        "id": "LsFieS55cr7s"
      }
    },
    {
      "cell_type": "code",
      "source": [
        "\"\"\"\n",
        "SELECT FirstName, LastName, Email\n",
        "FROM Students\n",
        "WHERE EnrollmentDate > '2022-01-01'\n",
        "ORDER BY LastName ASC;\n",
        "\"\"\""
      ],
      "metadata": {
        "colab": {
          "base_uri": "https://localhost:8080/",
          "height": 35
        },
        "id": "86JEl6PEdA6Z",
        "outputId": "9bd7b7ef-43d5-4aed-ec83-4b2cdc16f186"
      },
      "execution_count": null,
      "outputs": [
        {
          "output_type": "execute_result",
          "data": {
            "text/plain": [
              "\"\\nSELECT FirstName, LastName, Email\\nFROM Students\\nWHERE EnrollmentDate > '2022-01-01'\\nORDER BY LastName ASC;\\n\""
            ],
            "application/vnd.google.colaboratory.intrinsic+json": {
              "type": "string"
            }
          },
          "metadata": {},
          "execution_count": 5
        }
      ]
    },
    {
      "cell_type": "markdown",
      "source": [
        "# __Update (UPDATE)__\n",
        "## The UPDATE statement is used to modify existing records in a database table. It allows you to update the values of one or more columns for specific rows that meet certain conditions.\n",
        "\n",
        "- ## The basic syntax for the UPDATE statement is:"
      ],
      "metadata": {
        "id": "0pPlJay4dWAG"
      }
    },
    {
      "cell_type": "code",
      "source": [
        "\"\"\"\n",
        "UPDATE table_name\n",
        "SET column1 = value1, column2 = value2, ...\n",
        "WHERE condition;\n",
        "\"\"\""
      ],
      "metadata": {
        "colab": {
          "base_uri": "https://localhost:8080/",
          "height": 35
        },
        "id": "DcPGCqE9diPX",
        "outputId": "13664086-40a2-4d21-e276-55def5244acd"
      },
      "execution_count": null,
      "outputs": [
        {
          "output_type": "execute_result",
          "data": {
            "text/plain": [
              "'\\nUPDATE table_name\\nSET column1 = value1, column2 = value2, ...\\nWHERE condition;\\n'"
            ],
            "application/vnd.google.colaboratory.intrinsic+json": {
              "type": "string"
            }
          },
          "metadata": {},
          "execution_count": 6
        }
      ]
    },
    {
      "cell_type": "markdown",
      "source": [
        "- ## The SET clause specifies the columns and their new values you want to update.\n",
        "\n",
        "- ## The WHERE clause is optional but recommended to filter the rows you want to update based on specific conditions. If omitted, all rows in the table will be updated.\n",
        "\n",
        "- ## Example:"
      ],
      "metadata": {
        "id": "B_Ecv_iVdg-3"
      }
    },
    {
      "cell_type": "code",
      "source": [
        "\"\"\"\n",
        "UPDATE Students\n",
        "SET Email = 'updated@example.com'\n",
        "WHERE StudentID = 1;\n",
        "\"\"\""
      ],
      "metadata": {
        "colab": {
          "base_uri": "https://localhost:8080/",
          "height": 35
        },
        "id": "bWggw_ded7jf",
        "outputId": "7c4ae40f-fe60-40b8-d1c5-d4dc2cab4319"
      },
      "execution_count": null,
      "outputs": [
        {
          "output_type": "execute_result",
          "data": {
            "text/plain": [
              "\"\\nUPDATE Students\\nSET Email = 'updated@example.com'\\nWHERE StudentID = 1;\\n\""
            ],
            "application/vnd.google.colaboratory.intrinsic+json": {
              "type": "string"
            }
          },
          "metadata": {},
          "execution_count": 7
        }
      ]
    },
    {
      "cell_type": "markdown",
      "source": [
        "# __Delete (DELETE)__\n",
        "## The DELETE statement is used to remove one or more records (rows) from a database table. It allows you to delete data that meets specific conditions.\n",
        "\n",
        "- ## The basic syntax for the DELETE statement is:"
      ],
      "metadata": {
        "id": "FALyUJa_d_CB"
      }
    },
    {
      "cell_type": "code",
      "source": [
        "\"\"\"\n",
        "DELETE FROM table_name\n",
        "WHERE condition;\n",
        "\"\"\""
      ],
      "metadata": {
        "colab": {
          "base_uri": "https://localhost:8080/",
          "height": 35
        },
        "id": "fXvbbp5-eXgy",
        "outputId": "15df4bd8-77d0-4ccc-efc7-bf7e728ee7ef"
      },
      "execution_count": null,
      "outputs": [
        {
          "output_type": "execute_result",
          "data": {
            "text/plain": [
              "'\\nDELETE FROM table_name\\nWHERE condition;\\n'"
            ],
            "application/vnd.google.colaboratory.intrinsic+json": {
              "type": "string"
            }
          },
          "metadata": {},
          "execution_count": 8
        }
      ]
    },
    {
      "cell_type": "markdown",
      "source": [
        "- ## The WHERE clause is optional but recommended to filter the rows you want to delete based on specific conditions. If omitted, all rows in the table will be deleted.\n",
        "\n",
        "- ## Example:"
      ],
      "metadata": {
        "id": "8TrDp88deeiw"
      }
    },
    {
      "cell_type": "code",
      "source": [
        "\"\"\"\n",
        "DELETE FROM Students\n",
        "WHERE EnrollmentDate < '2021-01-01';\n",
        "\"\"\""
      ],
      "metadata": {
        "id": "QCQ8sqjwelAk"
      },
      "execution_count": null,
      "outputs": []
    }
  ]
}