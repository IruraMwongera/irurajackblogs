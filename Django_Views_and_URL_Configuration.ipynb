{
  "nbformat": 4,
  "nbformat_minor": 0,
  "metadata": {
    "colab": {
      "provenance": []
    },
    "kernelspec": {
      "name": "python3",
      "display_name": "Python 3"
    },
    "language_info": {
      "name": "python"
    }
  },
  "cells": [
    {
      "cell_type": "markdown",
      "source": [
        "# __Django Views and URL Configuration.__\n",
        "\n"
      ],
      "metadata": {
        "id": "zAUahEjE_SGV"
      }
    },
    {
      "cell_type": "markdown",
      "source": [
        "### This concept page introduces the concept of views in Django and how they are used to handle HTTP requests and generate responses. It covers both function-based views and class-based views, as well as the URL configuration process for mapping URL patterns to corresponding views.\n",
        "\n",
        "### In a Django web application, views play a crucial role in handling user requests and generating appropriate responses. Views are Python functions or classes that receive HTTP requests, process the data, and return HTTP responses. Django provides two types of views: function-based views and class-based views. Additionally, Django’s URL configuration system allows you to define URL patterns and map them to the corresponding views."
      ],
      "metadata": {
        "id": "t9wLPu38_jii"
      }
    },
    {
      "cell_type": "markdown",
      "source": [
        "## Topics\n",
        "- ### Function-based Views\n",
        "- ### Class-based Views\n",
        "- ### URL Configuration"
      ],
      "metadata": {
        "id": "eSmIQKomLL7H"
      }
    },
    {
      "cell_type": "markdown",
      "source": [
        "## __Objectives__\n",
        "- ### Understand the purpose and structure of function-based views\n",
        "- ### Learn about class-based views and their advantages\n",
        "- ### Configure URL patterns and map them to corresponding views\n",
        "- ### Utilize URL parameters and regular expressions in URL patterns\n",
        "- ### Pass data between views and templates"
      ],
      "metadata": {
        "id": "b6MkCHOxLf_k"
      }
    },
    {
      "cell_type": "markdown",
      "source": [
        "## __Function-based Views.__"
      ],
      "metadata": {
        "id": "LxYzeOIjMCM2"
      }
    },
    {
      "cell_type": "markdown",
      "source": [
        "### Function-based views are the traditional way of defining views in Django. They are Python functions that take an HTTP request as the first argument and return an HTTP response. Function-based views are straightforward and easy to understand, making them a good choice for simple views or when you need fine-grained control over the view logic."
      ],
      "metadata": {
        "id": "qQG4WCeGMK5n"
      }
    },
    {
      "cell_type": "code",
      "source": [
        "\"\"\"\n",
        "from django.http import HttpResponse\n",
        "\n",
        "def hello_view(request):\n",
        "    \"\"\"A basic function view returning a greeting message.\"\"\"\n",
        "    return HttpResponse(\"Hello, World!\")\n",
        "\"\"\""
      ],
      "metadata": {
        "id": "DjL8b-QGMiY4"
      },
      "execution_count": null,
      "outputs": []
    },
    {
      "cell_type": "markdown",
      "source": [
        "### Here, the hello_view function takes an HTTP request (request) as input and returns an HTTP response containing the string “Hello, World!”."
      ],
      "metadata": {
        "id": "AvXcrQkIMlf4"
      }
    },
    {
      "cell_type": "code",
      "source": [
        "\"\"\"\n",
        "from django.shortcuts import render\n",
        "from .models import Book\n",
        "\n",
        "def book_list(request):\n",
        "      \"\"\"Retrieves all books and renders a template displaying the list.\"\"\"\n",
        "      books = Book.objects.all()  # Fetch all book instances from the database\n",
        "      context = {'book_list': books}  # Create a context dictionary with book list\n",
        "      return render(request, 'books/book_list.html', context)\n",
        "\"\"\""
      ],
      "metadata": {
        "id": "aSuEtiXfM1G1"
      },
      "execution_count": null,
      "outputs": []
    },
    {
      "cell_type": "markdown",
      "source": [
        "### In this example, the book_list function retrieves all Book objects using the Book.objects.all() queryset. It then constructs a context dictionary named context that holds the list of books under the key book_list. Finally, it utilizes the render shortcut to render the books/book_list.html template, passing along the context dictionary to make the book list accessible within the template."
      ],
      "metadata": {
        "id": "GjVI-Xl8M37Y"
      }
    },
    {
      "cell_type": "markdown",
      "source": [
        "## __Class-based Views.__"
      ],
      "metadata": {
        "id": "6CEOERq3NErf"
      }
    },
    {
      "cell_type": "markdown",
      "source": [
        "### Class-based views are an alternative approach to defining views in Django. They are Python classes that inherit from Django’s built-in view classes and provide a more structured and reusable way of handling HTTP requests. Class-based views promote code reusability, support mixins for shared behavior, and offer better organization and separation of concerns."
      ],
      "metadata": {
        "id": "dBRsRpusNY2A"
      }
    },
    {
      "cell_type": "code",
      "source": [
        "\"\"\"\n",
        "from django.views.generic import TemplateView\n",
        "\n",
        "class HelloView(TemplateView):\n",
        "    \"\"\"A class-based view rendering a template named 'hello.html'.\"\"\"\n",
        "    template_name = 'hello.html'\n",
        "\"\"\""
      ],
      "metadata": {
        "id": "E3lsW330N3cY"
      },
      "execution_count": null,
      "outputs": []
    },
    {
      "cell_type": "markdown",
      "source": [
        "### Class-based views can inherit from various built-in view classes offered by Django, including ListView, DetailView, CreateView, and more. These classes provide a significant amount of functionality out of the box, minimizing the amount of code you need to write. Here, the HelloView inherits from Django’s TemplateView class and specifies the template to render using the template_name attribute."
      ],
      "metadata": {
        "id": "uFzQQQr2N4lU"
      }
    },
    {
      "cell_type": "markdown",
      "source": [
        "# __Examples on class based views:__"
      ],
      "metadata": {
        "id": "MLtK7ME6OEIf"
      }
    },
    {
      "cell_type": "markdown",
      "source": [
        "## __Example 1__"
      ],
      "metadata": {
        "id": "mfHs36MCOTJM"
      }
    },
    {
      "cell_type": "markdown",
      "source": [
        "### This example shows a BookDetailView that inherits from DetailView and displays details of a specific book. It overrides the get_context_data method to inject additional context data relevant to the book, such as its average rating (assuming a method get_average_rating exists on the Book model)."
      ],
      "metadata": {
        "id": "EkeW8h-9OWgJ"
      }
    },
    {
      "cell_type": "code",
      "source": [
        "\"\"\"\n",
        "from django.views.generic import DetailView\n",
        "from .models import Book\n",
        "\n",
        "class BookDetailView(DetailView):\n",
        "  \"\"\"A class-based view for displaying details of a specific book.\"\"\"\n",
        "  model = Book\n",
        "  template_name = 'books/book_detail.html'\n",
        "\n",
        "  def get_context_data(self, **kwargs):\n",
        "    \"\"\"Injects additional context data specific to the book.\"\"\"\n",
        "    context = super().get_context_data(**kwargs)  # Get default context data\n",
        "    book = self.get_object()  # Retrieve the current book instance\n",
        "    context['average_rating'] = book.get_average_rating()\n",
        "\"\"\""
      ],
      "metadata": {
        "id": "MqhzI4n3OyuE"
      },
      "execution_count": null,
      "outputs": []
    },
    {
      "cell_type": "markdown",
      "source": [
        "## __Example 2__"
      ],
      "metadata": {
        "id": "Nj0g2QFCOz8f"
      }
    },
    {
      "cell_type": "markdown",
      "source": [
        "### This example shows a BookUpdateView that inherits from UpdateView and facilitates updating details of a book. It defines the editable fields (title, author, and description) and the template used for the update form (book_update_form.html). It also sets the success_url to redirect the user to the book list view (book_list) after a successful update. Additionally, it overrides the form_valid method to potentially execute custom logic after the form is validated (e.g., sending notifications)."
      ],
      "metadata": {
        "id": "PGzUrzvjPCMN"
      }
    },
    {
      "cell_type": "code",
      "source": [
        "\"\"\"\n",
        "from django.views.generic import DetailView, UpdateView\n",
        "from django.urls import reverse_lazy\n",
        "from .models import Book\n",
        "\n",
        "class BookUpdateView(UpdateView):\n",
        "  \"\"\"A class-based view for updating details of a specific book.\"\"\"\n",
        "  model = Book\n",
        "  fields = ['title', 'author', 'description']  # Specify fields to be editable\n",
        "  template_name = 'books/book_update_form.html'\n",
        "  success_url = reverse_lazy('book_list')  # URL to redirect after successful update\n",
        "\n",
        "  def form_valid(self, form):\n",
        "    \"\"\"Executes custom logic after form validation.\"\"\"\n",
        "    response = super().form_valid(form)  # Call default form validation\n",
        "    # Perform additional actions after successful update (e.g., send notifications)\n",
        "    return response\n",
        "  \"\"\""
      ],
      "metadata": {
        "id": "yDr0S19YPpyS"
      },
      "execution_count": null,
      "outputs": []
    },
    {
      "cell_type": "markdown",
      "source": [
        "## __URL Configuration.__"
      ],
      "metadata": {
        "id": "sMQfQHO8Pq9d"
      }
    },
    {
      "cell_type": "markdown",
      "source": [
        "### Django’s URL configuration system allows you to define URL patterns and map them to corresponding views. URL patterns can include parameters and regular expressions to match complex URL structures. The urls.pyfile in your Django project and apps is where you define these URL patterns and associate them with the appropriate views."
      ],
      "metadata": {
        "id": "J8B0uyfVPyOM"
      }
    },
    {
      "cell_type": "code",
      "source": [
        "\"\"\"\n",
        "from django.urls import path\n",
        "from . import views\n",
        "\n",
        "urlpatterns = [\n",
        "    path('hello/', views.hello_view, name='hello'),\n",
        "    path('about/', views.AboutView.as_view(), name='about'),\n",
        "]\n",
        "\"\"\""
      ],
      "metadata": {
        "id": "6t-Blr45P_iX"
      },
      "execution_count": null,
      "outputs": []
    },
    {
      "cell_type": "markdown",
      "source": [
        "### In this example, the URL pattern /hello/ is mapped to the hello_view function-based view, and the /about/ pattern is mapped to the AboutView class-based view."
      ],
      "metadata": {
        "id": "5YDMHC_XQI1U"
      }
    },
    {
      "cell_type": "markdown",
      "source": [
        "# __References.__"
      ],
      "metadata": {
        "id": "OUxz09YnQXzk"
      }
    },
    {
      "cell_type": "markdown",
      "source": [
        "Function-based Views\n",
        "https://docs.djangoproject.com/en/5.2/topics/http/views/#writing-views"
      ],
      "metadata": {
        "id": "CirSwYBpQcH2"
      }
    },
    {
      "cell_type": "markdown",
      "source": [
        "Class-based Views\n",
        "https://docs.djangoproject.com/en/5.2/topics/class-based-views/\n",
        "\n",
        "\n"
      ],
      "metadata": {
        "id": "5XeXZadkSYi1"
      }
    },
    {
      "cell_type": "markdown",
      "source": [
        "URL Configuration\n",
        "https://docs.djangoproject.com/en/5.2/topics/http/urls/\n",
        "\n"
      ],
      "metadata": {
        "id": "-eR9XxfDSanX"
      }
    }
  ]
}