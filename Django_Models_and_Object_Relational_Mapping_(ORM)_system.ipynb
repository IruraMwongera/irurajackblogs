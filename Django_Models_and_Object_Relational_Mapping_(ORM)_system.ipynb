{
  "nbformat": 4,
  "nbformat_minor": 0,
  "metadata": {
    "colab": {
      "provenance": []
    },
    "kernelspec": {
      "name": "python3",
      "display_name": "Python 3"
    },
    "language_info": {
      "name": "python"
    }
  },
  "cells": [
    {
      "cell_type": "markdown",
      "source": [
        "# __Models and Django ORM__"
      ],
      "metadata": {
        "id": "0zL5HgDYlUab"
      }
    },
    {
      "cell_type": "markdown",
      "source": [
        "## Topics\n",
        "- ### Models and Their Structure\n",
        "- ### Django ORM: Object-Relational Mapping\n",
        "- ### Database interaction with the Django ORM\n",
        "- ### Configuring the Database"
      ],
      "metadata": {
        "id": "1S8zUP-TlWnn"
      }
    },
    {
      "cell_type": "markdown",
      "source": [
        "## Learning Objectives\n",
        "- ### Understand the purpose and structure of Django models\n",
        "- ### Learn about the Django ORM and its benefits\n",
        "- ### Create and manipulate models using the Django ORM\n",
        "- ### Query the database using the Django ORM\n",
        "- ### Configure a database connection in Django for MySQL and set up the required database driver for the MySQL database engine\n",
        "- ### Apply database migrations to create or update tables based on model definitions"
      ],
      "metadata": {
        "id": "pAzNYPUzltFI"
      }
    },
    {
      "cell_type": "markdown",
      "source": [
        "## __Models and Their Structure__"
      ],
      "metadata": {
        "id": "EGSrcwBel6vo"
      }
    },
    {
      "cell_type": "markdown",
      "source": [
        "## In Django, models are defined as Python classes that inherit from the __django.db.models.Model__ base class. Each attribute of the model represents a database field, and its type is defined using field classes provided by Django (e.g., __CharField__, __IntegerField__, __DateField__, etc.)."
      ],
      "metadata": {
        "id": "Ppo7UcAumFGA"
      }
    },
    {
      "cell_type": "markdown",
      "source": [
        "## In the below example, the __Book__ model has three fields: __title__, __author__, and __published_date__."
      ],
      "metadata": {
        "id": "2Dn7j_nWmew0"
      }
    },
    {
      "cell_type": "code",
      "source": [
        "\"\"\"\n",
        "from django.db import models\n",
        "\n",
        "class Book(models.Model):\n",
        "    title = models.CharField(max_length=200)\n",
        "    author = models.CharField(max_length=100)\n",
        "    published_date = models.DateField()\n",
        "\"\"\""
      ],
      "metadata": {
        "id": "PkPgD9Mimyfh"
      },
      "execution_count": null,
      "outputs": []
    },
    {
      "cell_type": "markdown",
      "source": [
        "# __Some of the most common fields are:__"
      ],
      "metadata": {
        "id": "7HsBFRIYnL0L"
      }
    },
    {
      "cell_type": "markdown",
      "source": [
        "- ### __CharField:__ This field is used to store text-based data with a limited number of characters. It takes a max_length parameter that specifies the maximum length of the string.\n",
        "- ### __TextField:__ This field is used to store large amounts of text data without any length restriction.\n",
        "- ### __IntegerField:__ This field is used to store integer values.\n",
        "- ### __FloatField:__ This field is used to store floating-point numbers.\n",
        "- ### __DecimalField:__ This field is used to store precise decimal values, often used for representing monetary values.\n",
        "- ### __BooleanField:__ This field is used to store boolean (True/False) values.\n",
        "- ### __DateField:__ This field is used to store date values.\n",
        "- __EmailField:__ This field is a subclass of CharField and is used to store email addresses. It provides basic validation for email formats."
      ],
      "metadata": {
        "id": "_99N-hABnPH7"
      }
    },
    {
      "cell_type": "markdown",
      "source": [
        "### These are just a few examples of the many field classes provided by Django. Each field class has its own set of options and validation rules that you can customize based on your requirements. Additionally, Django allows you to create custom field classes by subclassing the existing field classes or creating entirely new field classes to suit your specific needs."
      ],
      "metadata": {
        "id": "5s-E2sCRny2t"
      }
    },
    {
      "cell_type": "markdown",
      "source": [
        "## __Django ORM: Object-Relational Mapping__"
      ],
      "metadata": {
        "id": "b2Tdhfrsn66O"
      }
    },
    {
      "cell_type": "markdown",
      "source": [
        "### The Django ORM (Object-Relational Mapping) provides an abstraction layer that allows developers to interact with the database using Python code instead of writing raw SQL queries. It automatically handles tasks like creating database tables based on model definitions, performing database migrations, and executing CRUD (Create, Read, Update, Delete) operations."
      ],
      "metadata": {
        "id": "Ayhqmv0soBGM"
      }
    },
    {
      "cell_type": "markdown",
      "source": [
        "### __Benefits of using the Django ORM include:__"
      ],
      "metadata": {
        "id": "fQUGvh5GoFrP"
      }
    },
    {
      "cell_type": "markdown",
      "source": [
        "- ### __Database abstraction:__ Developers can work with Python objects instead of writing SQL queries directly.\n",
        "- ### __Portability:__ The ORM supports multiple database engines (e.g., SQLite, PostgreSQL, MySQL, Oracle) with minimal code changes.\n",
        "- ### __Database Schema:__ Automatic handling of database schema changes through migrations.\n",
        "- ### __Powerful Queries:__ Supports powerful querying capabilities with a Pythonic syntax."
      ],
      "metadata": {
        "id": "TAQOBCbtoMlx"
      }
    },
    {
      "cell_type": "markdown",
      "source": [
        "## __Database Interaction with the Django ORM.__"
      ],
      "metadata": {
        "id": "KgegUbNqoe6F"
      }
    },
    {
      "cell_type": "markdown",
      "source": [
        "### The Django ORM provides a rich query API that allows developers to retrieve, filter, and manipulate data in the database using Python code. It supports complex queries, including joins, aggregations, and annotations, making it a powerful tool for working with relational databases."
      ],
      "metadata": {
        "id": "-67m_8riomWN"
      }
    },
    {
      "cell_type": "code",
      "source": [
        "\"\"\"\n",
        "# Retrieving all books\n",
        "books = Book.objects.all()\n",
        "\n",
        "# Filtering books by author\n",
        "books_by_author = Book.objects.filter(author='John Doe')\n",
        "\n",
        "# Ordering books by published date\n",
        "books_ordered = Book.objects.order_by('published_date')\n",
        "\n",
        "# Creating a new book\n",
        "new_book = Book(title='New Book', author='Jane Smith', published_date='2023-01-01')\n",
        "new_book.save()\n",
        "\"\"\""
      ],
      "metadata": {
        "id": "WSsiDFvsow6Y"
      },
      "execution_count": null,
      "outputs": []
    },
    {
      "cell_type": "markdown",
      "source": [
        "## __Configuring the Database.__"
      ],
      "metadata": {
        "id": "gBTRzU6eo8eZ"
      }
    },
    {
      "cell_type": "markdown",
      "source": [
        "### By default, Django uses SQLite, a lightweight file-based database, for development environments. However, for production environments, it’s recommended to use a more robust database engine like PostgreSQL, MySQL, or Oracle. Django supports multiple database engines and provides a straightforward way to configure the database settings."
      ],
      "metadata": {
        "id": "VRiClCVFo-8u"
      }
    },
    {
      "cell_type": "markdown",
      "source": [
        "### Configuring the database settings in Django involves modifying the __DATABASES__ setting in the __settings.py__ file. Here’s an example of how to configure a MySQL database:"
      ],
      "metadata": {
        "id": "jsxwHiX2pEM7"
      }
    },
    {
      "cell_type": "code",
      "source": [
        "\"\"\"\n",
        "DATABASES = {\n",
        "    'default': {\n",
        "        'ENGINE': 'django.db.backends.mysql',\n",
        "        'NAME': 'mydatabase',\n",
        "        'USER': 'mydatabaseuser',\n",
        "        'PASSWORD': 'mypassword',\n",
        "        'HOST': 'localhost',\n",
        "        'PORT': '3306',\n",
        "    }\n",
        "}\n",
        "\"\"\""
      ],
      "metadata": {
        "id": "YPgGQNPGpX01"
      },
      "execution_count": null,
      "outputs": []
    },
    {
      "cell_type": "markdown",
      "source": [
        "### In this example, we’re configuring the __default__ database connection with the following settings:"
      ],
      "metadata": {
        "id": "si2rQYf-pa2T"
      }
    },
    {
      "cell_type": "markdown",
      "source": [
        "- ### __ENGINE:__ The database engine to use (__django.db.backends.mysql__ for MySQL).\n",
        "- ### __NAME:__ The name of the database (__mydatabase__).\n",
        "- ### __USER:__ The username to connect to the database (__mydatabaseuser__).\n",
        "- ### __PASSWORD:__ The password for the database user (__mypassword__).\n",
        "- __HOST:__ The hostname or IP address of the database server (__localhost__ for a local server).\n",
        "- ### __PORT:__ The port number for the database server (__3306__ is the default for MySQL)."
      ],
      "metadata": {
        "id": "ki1D8etApode"
      }
    },
    {
      "cell_type": "markdown",
      "source": [
        "### After configuring the database settings, you’ll need to install the appropriate database driver for MySQL. You can install the MySQL driver using pip:"
      ],
      "metadata": {
        "id": "sdJGBwfVqaQm"
      }
    },
    {
      "cell_type": "code",
      "source": [
        "\"\"\"\n",
        "pip install mysqlclient\n",
        "\"\"\""
      ],
      "metadata": {
        "id": "WNSU3Y57qjfX"
      },
      "execution_count": null,
      "outputs": []
    },
    {
      "cell_type": "markdown",
      "source": [
        "### Once the database is configured, Django will automatically create the necessary tables based on your model definitions when you run the __migrate__ command:"
      ],
      "metadata": {
        "id": "zzOuMqCXqq3b"
      }
    },
    {
      "cell_type": "code",
      "source": [
        "\"\"\"\n",
        "python manage.py migrate\n",
        "\"\"\""
      ],
      "metadata": {
        "id": "V4_yXoJaqz1s"
      },
      "execution_count": null,
      "outputs": []
    },
    {
      "cell_type": "markdown",
      "source": [
        "### This command applies any pending database migrations, creating or updating tables and columns as needed based on your model changes."
      ],
      "metadata": {
        "id": "jK6jTnnzq744"
      }
    },
    {
      "cell_type": "markdown",
      "source": [
        "## __References__"
      ],
      "metadata": {
        "id": "WDn7sKwarMFc"
      }
    },
    {
      "cell_type": "markdown",
      "source": [
        "Django Models https://docs.djangoproject.com/en/5.0/topics/db/models/"
      ],
      "metadata": {
        "id": "kaQNAaZ9rRuS"
      }
    },
    {
      "cell_type": "markdown",
      "source": [
        "Django Making Queries https://docs.djangoproject.com/en/5.0/topics/db/queries/"
      ],
      "metadata": {
        "id": "XXRUNasNrY4z"
      }
    },
    {
      "cell_type": "markdown",
      "source": [
        "Django Writing your first Django app Part 2 https://docs.djangoproject.com/en/5.0/intro/tutorial02/"
      ],
      "metadata": {
        "id": "F-c6W0yArgoY"
      }
    },
    {
      "cell_type": "markdown",
      "source": [
        "Django Databases https://docs.djangoproject.com/en/5.0/ref/databases/#database-drivers"
      ],
      "metadata": {
        "id": "0jRHawnYronv"
      }
    }
  ]
}