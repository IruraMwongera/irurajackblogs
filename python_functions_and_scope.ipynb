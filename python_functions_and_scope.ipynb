{
  "cells": [
    {
      "cell_type": "markdown",
      "metadata": {
        "id": "PmiwYkGqmqto"
      },
      "source": [
        "# Writing Reusable Code using Functions in Python\n",
        "\n",
        "This tutorial is a part of [Data Analysis with Python: Zero to Pandas](https://jovian.ai/learn/data-analysis-with-python-zero-to-pandas) and [Zero to Data Analyst Science Bootcamp](https://jovian.ai/learn/zero-to-data-analyst-bootcamp).\n",
        "\n",
        "![](https://i.imgur.com/TvNf5Jp.png)\n",
        "\n",
        "These tutorials take a practical and coding-focused approach. The best way to learn the material is to execute the code and experiment with it yourself."
      ]
    },
    {
      "cell_type": "markdown",
      "metadata": {
        "id": "Y4TbiX25mqts"
      },
      "source": [
        "This tutorial covers the following topics:\n",
        "\n",
        "- Creating and using functions in Python\n",
        "- Local variables, return values, and optional arguments\n",
        "- Reusing functions and using Python library functions\n",
        "- Exception handling using `try`-`except` blocks\n",
        "- Documenting functions using docstrings"
      ]
    },
    {
      "cell_type": "markdown",
      "metadata": {
        "id": "lrMy5dkYmqtt"
      },
      "source": [
        "## Creating and using functions\n",
        "\n",
        "A function is a reusable set of instructions that takes one or more inputs, performs some operations, and often returns an output. Python contains many in-built functions like `print`, `len`, etc., and provides the ability to define new ones."
      ]
    },
    {
      "cell_type": "code",
      "execution_count": null,
      "metadata": {
        "id": "vDuCFWh3mqtu",
        "outputId": "230e7f22-7c18-479b-e9b3-75c35828249c"
      },
      "outputs": [
        {
          "name": "stdout",
          "output_type": "stream",
          "text": [
            "Today is Saturday\n"
          ]
        }
      ],
      "source": [
        "today = \"Saturday\"\n",
        "print(\"Today is\", today)"
      ]
    },
    {
      "cell_type": "markdown",
      "metadata": {
        "id": "CwpRCVcCmqtw"
      },
      "source": [
        "You can define a new function using the `def` keyword."
      ]
    },
    {
      "cell_type": "code",
      "execution_count": null,
      "metadata": {
        "id": "erNSTK3Amqtw"
      },
      "outputs": [],
      "source": [
        "def say_hello():\n",
        "    print('Hello there!')\n",
        "    print('How are you?')"
      ]
    },
    {
      "cell_type": "markdown",
      "metadata": {
        "id": "eYxno0jEmqtw"
      },
      "source": [
        "Note the round brackets or parentheses `()` and colon `:` after the function's name. Both are essential parts of the syntax. The function's *body* contains an indented block of statements. The statements inside a function's body are not executed when the function is defined. To execute the statements, we need to *call* or *invoke* the function."
      ]
    },
    {
      "cell_type": "code",
      "execution_count": null,
      "metadata": {
        "id": "UayV1wrzmqtx",
        "outputId": "7359e977-6264-4630-bb37-a26f96e314bc"
      },
      "outputs": [
        {
          "name": "stdout",
          "output_type": "stream",
          "text": [
            "Hello there!\n",
            "How are you?\n"
          ]
        }
      ],
      "source": [
        "say_hello()"
      ]
    },
    {
      "cell_type": "markdown",
      "metadata": {
        "id": "9YShEGjdmqtx"
      },
      "source": [
        "### Function arguments\n",
        "\n",
        "Functions can accept zero or more values as *inputs* (also knows as *arguments* or *parameters*). Arguments help us write flexible functions that can perform the same operations on different values. Further, functions can return a result that can be stored in a variable or used in other expressions.\n",
        "\n",
        "Here's a function that filters out the even numbers from a list and returns a new list using the `return` keyword."
      ]
    },
    {
      "cell_type": "code",
      "execution_count": null,
      "metadata": {
        "id": "lFgdnUAgmqtx"
      },
      "outputs": [],
      "source": [
        "def filter_even(number_list):\n",
        "    result_list = []\n",
        "    for number in number_list:\n",
        "        if number % 2 == 0:\n",
        "            result_list.append(number)\n",
        "    return result_list"
      ]
    },
    {
      "cell_type": "markdown",
      "metadata": {
        "id": "g1iVM8Fzmqty"
      },
      "source": [
        "Can you understand what the function does by looking at the code? If not, try executing each line of the function's body separately within a code cell with an actual list of numbers in place of `number_list`."
      ]
    },
    {
      "cell_type": "code",
      "execution_count": null,
      "metadata": {
        "id": "kqSBri3Rmqty"
      },
      "outputs": [],
      "source": [
        "even_list = filter_even([1, 2, 3, 4, 5, 6, 7])"
      ]
    },
    {
      "cell_type": "code",
      "execution_count": null,
      "metadata": {
        "id": "EXWvw2fYmqty",
        "outputId": "96de6c4a-7b81-4a48-f493-83a7d7da95ce"
      },
      "outputs": [
        {
          "data": {
            "text/plain": [
              "[2, 4, 6]"
            ]
          },
          "execution_count": 6,
          "metadata": {},
          "output_type": "execute_result"
        }
      ],
      "source": [
        "even_list"
      ]
    },
    {
      "cell_type": "markdown",
      "metadata": {
        "id": "mR48g9G8mqty"
      },
      "source": [
        "## Writing great functions in Python\n",
        "\n",
        "As a programmer, you will spend most of your time writing and using functions. Python offers many features to make your functions powerful and flexible. Let's explore some of these by solving a problem:\n",
        "\n",
        "> Radha is planning to buy a house that costs `$1,260,000`. She considering two options to finance her purchase:\n",
        ">\n",
        "> * Option 1: Make an immediate down payment of `$300,000`, and take loan 8-year loan with an interest rate of 10% (compounded monthly) for the remaining amount.\n",
        "> * Option 2: Take a 10-year loan with an interest rate of 8% (compounded monthly) for the entire amount.\n",
        ">\n",
        "> Both these loans have to be paid back in equal monthly installments (EMIs). Which loan has a lower EMI among the two?\n",
        "\n",
        "\n",
        "Since we need to compare the EMIs for two loan options, defining a function to calculate the EMI for a loan would be a great idea.  The inputs to the function would be cost of the house, the down payment, duration of the loan, rate of interest etc. We'll build this function step by step.\n",
        "\n",
        "First, let's write a simple function that calculates the EMI on the entire cost of the house, assuming that the loan must be paid back in one year, and there is no interest or down payment."
      ]
    },
    {
      "cell_type": "code",
      "execution_count": null,
      "metadata": {
        "id": "K6wGVvfRmqty"
      },
      "outputs": [],
      "source": [
        "def loan_emi(amount):\n",
        "    emi = amount / 12\n",
        "    print('The EMI is ${}'.format(emi))"
      ]
    },
    {
      "cell_type": "code",
      "execution_count": null,
      "metadata": {
        "id": "N_k2k9l4mqty",
        "outputId": "68e83a72-f22f-4453-f272-12fbde8f2b19"
      },
      "outputs": [
        {
          "name": "stdout",
          "output_type": "stream",
          "text": [
            "The EMI is $105000.0\n"
          ]
        }
      ],
      "source": [
        "loan_emi(1260000)"
      ]
    },
    {
      "cell_type": "markdown",
      "metadata": {
        "id": "dUp2rF6Fmqtz"
      },
      "source": [
        "### Local variables and scope\n",
        "\n",
        "Let's add a second argument to account for the duration of the loan in months."
      ]
    },
    {
      "cell_type": "code",
      "execution_count": null,
      "metadata": {
        "id": "_8ZLkkGcmqtz"
      },
      "outputs": [],
      "source": [
        "def loan_emi(amount, duration):\n",
        "    emi = amount / duration\n",
        "    print('The EMI is ${}'.format(emi))"
      ]
    },
    {
      "cell_type": "markdown",
      "metadata": {
        "id": "-NzT_IgGmqtz"
      },
      "source": [
        "Note that the variable `emi` defined inside the function is not accessible outside. The same is true for the parameters `amount` and `duration`. These are all *local variables* that lie within the *scope* of the function.\n",
        "\n",
        "> **Scope**: Scope refers to the region within the code where a particular variable is visible. Every function (or class definition) defines a scope within Python. Variables defined in this scope are called *local variables*. Variables that are available everywhere are called *global variables*. Scope rules allow you to use the same variable names in different functions without sharing values from one to the other."
      ]
    },
    {
      "cell_type": "code",
      "execution_count": null,
      "metadata": {
        "id": "r38ENw1Amqtz",
        "outputId": "83f5a90e-40b7-426c-96ba-35f746542abc"
      },
      "outputs": [
        {
          "ename": "NameError",
          "evalue": "name 'emi' is not defined",
          "output_type": "error",
          "traceback": [
            "\u001b[0;31m---------------------------------------------------------------------------\u001b[0m",
            "\u001b[0;31mNameError\u001b[0m                                 Traceback (most recent call last)",
            "\u001b[0;32m<ipython-input-10-e5795bfcf3c1>\u001b[0m in \u001b[0;36m<module>\u001b[0;34m\u001b[0m\n\u001b[0;32m----> 1\u001b[0;31m \u001b[0memi\u001b[0m\u001b[0;34m\u001b[0m\u001b[0;34m\u001b[0m\u001b[0m\n\u001b[0m",
            "\u001b[0;31mNameError\u001b[0m: name 'emi' is not defined"
          ]
        }
      ],
      "source": [
        "emi"
      ]
    },
    {
      "cell_type": "code",
      "execution_count": null,
      "metadata": {
        "id": "d7OcE9q9mqtz",
        "outputId": "2280f1a8-320d-448b-ade2-2d805953ff03"
      },
      "outputs": [
        {
          "ename": "NameError",
          "evalue": "name 'amount' is not defined",
          "output_type": "error",
          "traceback": [
            "\u001b[0;31m---------------------------------------------------------------------------\u001b[0m",
            "\u001b[0;31mNameError\u001b[0m                                 Traceback (most recent call last)",
            "\u001b[0;32m<ipython-input-11-9b8f90fabac0>\u001b[0m in \u001b[0;36m<module>\u001b[0;34m\u001b[0m\n\u001b[0;32m----> 1\u001b[0;31m \u001b[0mamount\u001b[0m\u001b[0;34m\u001b[0m\u001b[0;34m\u001b[0m\u001b[0m\n\u001b[0m",
            "\u001b[0;31mNameError\u001b[0m: name 'amount' is not defined"
          ]
        }
      ],
      "source": [
        "amount"
      ]
    },
    {
      "cell_type": "code",
      "execution_count": null,
      "metadata": {
        "id": "Ku8vTRx0mqt0",
        "outputId": "f1f9b766-d09e-49ef-837e-a0fc5d43debc"
      },
      "outputs": [
        {
          "ename": "NameError",
          "evalue": "name 'duration' is not defined",
          "output_type": "error",
          "traceback": [
            "\u001b[0;31m---------------------------------------------------------------------------\u001b[0m",
            "\u001b[0;31mNameError\u001b[0m                                 Traceback (most recent call last)",
            "\u001b[0;32m<ipython-input-12-5b6659652103>\u001b[0m in \u001b[0;36m<module>\u001b[0;34m\u001b[0m\n\u001b[0;32m----> 1\u001b[0;31m \u001b[0mduration\u001b[0m\u001b[0;34m\u001b[0m\u001b[0;34m\u001b[0m\u001b[0m\n\u001b[0m",
            "\u001b[0;31mNameError\u001b[0m: name 'duration' is not defined"
          ]
        }
      ],
      "source": [
        "duration"
      ]
    },
    {
      "cell_type": "markdown",
      "metadata": {
        "id": "WDwZeB6Bmqt0"
      },
      "source": [
        "We can now compare a 8-year loan vs. a 10-year loan (assuming no down payment or interest)."
      ]
    },
    {
      "cell_type": "code",
      "execution_count": null,
      "metadata": {
        "id": "IRUtxv65mqt0",
        "outputId": "6f4a41c1-cf25-459a-fe6b-78630033cfd6"
      },
      "outputs": [
        {
          "name": "stdout",
          "output_type": "stream",
          "text": [
            "The EMI is $13125.0\n"
          ]
        }
      ],
      "source": [
        "loan_emi(1260000, 8*12)"
      ]
    },
    {
      "cell_type": "code",
      "execution_count": null,
      "metadata": {
        "scrolled": true,
        "id": "qp5yCtPqmqt0",
        "outputId": "d70c8f7d-a07c-49e4-c7d5-066553c69536"
      },
      "outputs": [
        {
          "name": "stdout",
          "output_type": "stream",
          "text": [
            "The EMI is $10500.0\n"
          ]
        }
      ],
      "source": [
        "loan_emi(1260000, 10*12)"
      ]
    },
    {
      "cell_type": "markdown",
      "metadata": {
        "id": "sVBMeWXKmqt0"
      },
      "source": [
        "### Return values\n",
        "\n",
        "As you might expect, the EMI for the 6-year loan is higher compared to the 10-year loan. Right now, we're printing out the result. It would be better to return it and store the results in variables for easier comparison. We can do this using the `return` statement"
      ]
    },
    {
      "cell_type": "code",
      "execution_count": null,
      "metadata": {
        "id": "_5OJB3gvmqt0"
      },
      "outputs": [],
      "source": [
        "def loan_emi(amount, duration):\n",
        "    emi = amount / duration\n",
        "    return emi"
      ]
    },
    {
      "cell_type": "code",
      "execution_count": null,
      "metadata": {
        "id": "q-h69FxJmqt1"
      },
      "outputs": [],
      "source": [
        "emi1 = loan_emi(1260000, 8*12)"
      ]
    },
    {
      "cell_type": "code",
      "execution_count": null,
      "metadata": {
        "id": "GXVPRDF4mqt1"
      },
      "outputs": [],
      "source": [
        "emi2 = loan_emi(1260000, 10*12)"
      ]
    },
    {
      "cell_type": "code",
      "execution_count": null,
      "metadata": {
        "scrolled": true,
        "id": "RP4ECMT8mqt1",
        "outputId": "9c9103e0-20e4-4608-84d6-2b225f1da793"
      },
      "outputs": [
        {
          "data": {
            "text/plain": [
              "13125.0"
            ]
          },
          "execution_count": 18,
          "metadata": {},
          "output_type": "execute_result"
        }
      ],
      "source": [
        "emi1"
      ]
    },
    {
      "cell_type": "code",
      "execution_count": null,
      "metadata": {
        "id": "aZpAURgjmqt1",
        "outputId": "39ca0684-5099-457f-8f75-dfac7c099eb6"
      },
      "outputs": [
        {
          "data": {
            "text/plain": [
              "10500.0"
            ]
          },
          "execution_count": 19,
          "metadata": {},
          "output_type": "execute_result"
        }
      ],
      "source": [
        "emi2"
      ]
    },
    {
      "cell_type": "markdown",
      "metadata": {
        "id": "TpR-dxX8mqt1"
      },
      "source": [
        "### Optional arguments\n",
        "\n",
        "Next, let's add another argument to account for the immediate down payment. We'll make this an *optional argument* with a default value of 0."
      ]
    },
    {
      "cell_type": "code",
      "execution_count": null,
      "metadata": {
        "id": "rIaaWSVimqt1"
      },
      "outputs": [],
      "source": [
        "def loan_emi(amount, duration, down_payment=0):\n",
        "    loan_amount = amount - down_payment\n",
        "    emi = loan_amount / duration\n",
        "    return emi"
      ]
    },
    {
      "cell_type": "code",
      "execution_count": null,
      "metadata": {
        "id": "C0RgHDIWmqt1"
      },
      "outputs": [],
      "source": [
        "emi1 = loan_emi(1260000, 8*12, 3e5)"
      ]
    },
    {
      "cell_type": "code",
      "execution_count": null,
      "metadata": {
        "id": "9CvIBBbXmqt1",
        "outputId": "bcb9dfcc-5b44-4d59-9e59-d7174a74bb6e"
      },
      "outputs": [
        {
          "data": {
            "text/plain": [
              "10000.0"
            ]
          },
          "execution_count": 22,
          "metadata": {},
          "output_type": "execute_result"
        }
      ],
      "source": [
        "emi1"
      ]
    },
    {
      "cell_type": "code",
      "execution_count": null,
      "metadata": {
        "id": "nsltw2bJmqt2"
      },
      "outputs": [],
      "source": [
        "emi2 = loan_emi(1260000, 10*12)"
      ]
    },
    {
      "cell_type": "code",
      "execution_count": null,
      "metadata": {
        "id": "jpPg5UkNmqt2",
        "outputId": "378a6dc5-3adc-4ca1-ff9d-62dde48c98ab"
      },
      "outputs": [
        {
          "data": {
            "text/plain": [
              "10500.0"
            ]
          },
          "execution_count": 24,
          "metadata": {},
          "output_type": "execute_result"
        }
      ],
      "source": [
        "emi2"
      ]
    },
    {
      "cell_type": "markdown",
      "metadata": {
        "id": "tAAf3HBamqt2"
      },
      "source": [
        "Next, let's add the interest calculation into the function. Here's the formula used to calculate the EMI for a loan:\n",
        "\n",
        "<img src=\"https://i.imgur.com/iKujHGK.png\" style=\"width:240px\">\n",
        "\n",
        "where:\n",
        "\n",
        "* `P` is the loan amount (principal)\n",
        "* `n` is the no. of months\n",
        "* `r` is the rate of interest per month\n",
        "\n",
        "The derivation of this formula is beyond the scope of this tutorial. See this video for an explanation: https://youtu.be/Coxza9ugW4E ."
      ]
    },
    {
      "cell_type": "code",
      "execution_count": null,
      "metadata": {
        "id": "VfciKIjAmqt6"
      },
      "outputs": [],
      "source": [
        "def loan_emi(amount, duration, rate, down_payment=0):\n",
        "    loan_amount = amount - down_payment\n",
        "    emi = loan_amount * rate * ((1+rate)**duration) / (((1+rate)**duration)-1)\n",
        "    return emi"
      ]
    },
    {
      "cell_type": "markdown",
      "metadata": {
        "id": "uaLuWebSmqt6"
      },
      "source": [
        "Note that while defining the function, required arguments like `cost`, `duration` and `rate` must appear before optional arguments like `down_payment`.\n",
        "\n",
        "Let's calculate the EMI for Option 1"
      ]
    },
    {
      "cell_type": "code",
      "execution_count": null,
      "metadata": {
        "scrolled": true,
        "id": "aZ9UXnuamqt6",
        "outputId": "a2ba2f3f-30c6-45ee-c69a-49087558135c"
      },
      "outputs": [
        {
          "data": {
            "text/plain": [
              "14567.19753389219"
            ]
          },
          "execution_count": 26,
          "metadata": {},
          "output_type": "execute_result"
        }
      ],
      "source": [
        "loan_emi(1260000, 8*12, 0.1/12, 3e5)"
      ]
    },
    {
      "cell_type": "markdown",
      "metadata": {
        "id": "ySdHvraImqt6"
      },
      "source": [
        "While calculating the EMI for Option 2, we need not include the `down_payment` argument."
      ]
    },
    {
      "cell_type": "code",
      "execution_count": null,
      "metadata": {
        "id": "Dj8okvQvmqt6",
        "outputId": "c8314b4f-5f13-401e-fced-a40fe936fbc1"
      },
      "outputs": [
        {
          "data": {
            "text/plain": [
              "15287.276888775077"
            ]
          },
          "execution_count": 27,
          "metadata": {},
          "output_type": "execute_result"
        }
      ],
      "source": [
        "loan_emi(1260000, 10*12, 0.08/12)"
      ]
    },
    {
      "cell_type": "markdown",
      "metadata": {
        "id": "Jxtcu9I9mqt6"
      },
      "source": [
        "### Named arguments\n",
        "\n",
        "Invoking a function with many arguments can often get confusing and is prone to human errors. Python provides the option of invoking functions with *named* arguments for better clarity. You can also split function invocation into multiple lines."
      ]
    },
    {
      "cell_type": "code",
      "execution_count": null,
      "metadata": {
        "id": "0PMY0PLWmqt6"
      },
      "outputs": [],
      "source": [
        "emi1 = loan_emi(\n",
        "    amount=1260000,\n",
        "    duration=8*12,\n",
        "    rate=0.1/12,\n",
        "    down_payment=3e5\n",
        ")"
      ]
    },
    {
      "cell_type": "code",
      "execution_count": null,
      "metadata": {
        "id": "yGU3DtDWmqt7",
        "outputId": "58882a9d-7703-48f9-8c54-dffc0569dd7f"
      },
      "outputs": [
        {
          "data": {
            "text/plain": [
              "14567.19753389219"
            ]
          },
          "execution_count": 29,
          "metadata": {},
          "output_type": "execute_result"
        }
      ],
      "source": [
        "emi1"
      ]
    },
    {
      "cell_type": "code",
      "execution_count": null,
      "metadata": {
        "id": "lZ9ff41xmqt7"
      },
      "outputs": [],
      "source": [
        "emi2 = loan_emi(amount=1260000, duration=10*12, rate=0.08/12)"
      ]
    },
    {
      "cell_type": "code",
      "execution_count": null,
      "metadata": {
        "id": "WnO_RROmmqt7",
        "outputId": "50007054-8505-42e2-830c-f2c58e2d8b3f"
      },
      "outputs": [
        {
          "data": {
            "text/plain": [
              "15287.276888775077"
            ]
          },
          "execution_count": 31,
          "metadata": {},
          "output_type": "execute_result"
        }
      ],
      "source": [
        "emi2"
      ]
    },
    {
      "cell_type": "markdown",
      "metadata": {
        "id": "Uy1YR2Gzmqt7"
      },
      "source": [
        "### Modules and library functions\n",
        "\n",
        "We can already see that the EMI for Option 1 is lower than the EMI for Option 2. However, it would be nice to round up the amount to full dollars, rather than showing digits after the decimal. To achieve this, we might want to write a function that can take a number and round it up to the next integer (e.g., 1.2 is rounded up to 2). That would be a great exercise to try out!\n",
        "\n",
        "However, since rounding numbers is a fairly common operation, Python provides a function for it (along with thousands of other functions) as part of the [Python Standard Library](https://docs.python.org/3/library/). Functions are organized into *modules* that need to be imported to use the functions they contain.\n",
        "\n",
        "> **Modules**: Modules are files containing Python code (variables, functions, classes, etc.). They provide a way of organizing the code for large Python projects into files and folders. The key benefit of using modules is _namespaces_: you must import the module to use its functions within a Python script or notebook. Namespaces provide encapsulation and avoid naming conflicts between your code and a module or across modules.\n",
        "\n",
        "We can use the `ceil` function (short for *ceiling*) from the `math` module to round up numbers. Let's import the module and use it to round up the number `1.2`."
      ]
    },
    {
      "cell_type": "code",
      "execution_count": null,
      "metadata": {
        "id": "sXuAjB0Imqt7"
      },
      "outputs": [],
      "source": [
        "import math"
      ]
    },
    {
      "cell_type": "code",
      "execution_count": null,
      "metadata": {
        "id": "E3bQ5vBcmqt7",
        "outputId": "069fa323-0bbf-4b3e-8733-067a31dfad94"
      },
      "outputs": [
        {
          "name": "stdout",
          "output_type": "stream",
          "text": [
            "Help on built-in function ceil in module math:\n",
            "\n",
            "ceil(x, /)\n",
            "    Return the ceiling of x as an Integral.\n",
            "    \n",
            "    This is the smallest integer >= x.\n",
            "\n"
          ]
        }
      ],
      "source": [
        "help(math.ceil)"
      ]
    },
    {
      "cell_type": "code",
      "execution_count": null,
      "metadata": {
        "id": "y80ErKZEmqt7",
        "outputId": "9c37ee91-6786-4065-da55-8c53208c15ec"
      },
      "outputs": [
        {
          "data": {
            "text/plain": [
              "2"
            ]
          },
          "execution_count": 34,
          "metadata": {},
          "output_type": "execute_result"
        }
      ],
      "source": [
        "math.ceil(1.2)"
      ]
    },
    {
      "cell_type": "markdown",
      "metadata": {
        "id": "g8txZrH9mqt8"
      },
      "source": [
        "Let's now use the `math.ceil` function within the `home_loan_emi` function to round up the EMI amount.\n",
        "\n",
        "> Using functions to build other functions is a great way to reuse code and implement complex business logic while still keeping the code small, understandable, and manageable. Ideally, a function should do one thing and one thing only. If you find yourself writing a function that does too many things, consider splitting it into multiple smaller, independent functions. As a rule of thumb, try to limit your functions to 10 lines of code or less. Good programmers always write short, simple, and readable functions.\n",
        "\n"
      ]
    },
    {
      "cell_type": "code",
      "execution_count": null,
      "metadata": {
        "id": "CO78wKxLmqt8"
      },
      "outputs": [],
      "source": [
        "def loan_emi(amount, duration, rate, down_payment=0):\n",
        "    loan_amount = amount - down_payment\n",
        "    emi = loan_amount * rate * ((1+rate)**duration) / (((1+rate)**duration)-1)\n",
        "    emi = math.ceil(emi)\n",
        "    return emi"
      ]
    },
    {
      "cell_type": "code",
      "execution_count": null,
      "metadata": {
        "id": "NYWLPSlimqt8"
      },
      "outputs": [],
      "source": [
        "emi1 = loan_emi(\n",
        "    amount=1260000,\n",
        "    duration=8*12,\n",
        "    rate=0.1/12,\n",
        "    down_payment=3e5\n",
        ")"
      ]
    },
    {
      "cell_type": "code",
      "execution_count": null,
      "metadata": {
        "id": "C6BUG1mpmqt8",
        "outputId": "3f9c6701-bb9d-4700-c1a6-989ce81801a2"
      },
      "outputs": [
        {
          "data": {
            "text/plain": [
              "14568"
            ]
          },
          "execution_count": 37,
          "metadata": {},
          "output_type": "execute_result"
        }
      ],
      "source": [
        "emi1"
      ]
    },
    {
      "cell_type": "code",
      "execution_count": null,
      "metadata": {
        "id": "SUg7nO_kmqt8"
      },
      "outputs": [],
      "source": [
        "emi2 = loan_emi(amount=1260000, duration=10*12, rate=0.08/12)"
      ]
    },
    {
      "cell_type": "code",
      "execution_count": null,
      "metadata": {
        "id": "AZ1yOZHRmqt8",
        "outputId": "1865a180-bdd8-4722-aee8-14d1017314de"
      },
      "outputs": [
        {
          "data": {
            "text/plain": [
              "15288"
            ]
          },
          "execution_count": 39,
          "metadata": {},
          "output_type": "execute_result"
        }
      ],
      "source": [
        "emi2"
      ]
    },
    {
      "cell_type": "markdown",
      "metadata": {
        "id": "9MEB9Oesmqt9"
      },
      "source": [
        "Let's compare the EMIs and display a message for the option with the lower EMI."
      ]
    },
    {
      "cell_type": "code",
      "execution_count": null,
      "metadata": {
        "id": "Pz3AA8Jemqt9",
        "outputId": "9cf6fc99-5990-4b7f-92ac-4e81b8a04ecd"
      },
      "outputs": [
        {
          "name": "stdout",
          "output_type": "stream",
          "text": [
            "Option 1 has the lower EMI: $14568\n"
          ]
        }
      ],
      "source": [
        "if emi1 < emi2:\n",
        "    print(\"Option 1 has the lower EMI: ${}\".format(emi1))\n",
        "else:\n",
        "    print(\"Option 2 has the lower EMI: ${}\".format(emi2))"
      ]
    },
    {
      "cell_type": "markdown",
      "metadata": {
        "id": "FugbmhiZmqt9"
      },
      "source": [
        "### Reusing and improving functions\n",
        "\n",
        "Now we know for sure that \"Option 1\" has the lower EMI among the two options. But what's even better is that we now have a handy function `loan_emi` that we can use to solve many other similar problems with just a few lines of code. Let's try it with a couple more questions."
      ]
    },
    {
      "cell_type": "markdown",
      "metadata": {
        "id": "nd3cqzXMmqt9"
      },
      "source": [
        "> **Q**: Shaun is currently paying back a home loan for a house he bought a few years ago. The cost of the house was `$800,000`. Shaun made a down payment of `25%` of the price. He financed the remaining amount using a 6-year loan with an interest rate of `7%` per annum (compounded monthly). Shaun is now buying a car worth `$60,000`, which he is planning to finance using a 1-year loan with an interest rate of `12%` per annum. Both loans are paid back in EMIs. What is the total monthly payment Shaun makes towards loan repayment?\n",
        "\n",
        "This question is now straightforward to solve, using the `loan_emi` function we've already defined."
      ]
    },
    {
      "cell_type": "code",
      "execution_count": null,
      "metadata": {
        "id": "rPw0c6I3mqt9",
        "outputId": "258af827-4211-4169-ed79-cf26b4b95ca2"
      },
      "outputs": [
        {
          "data": {
            "text/plain": [
              "10230"
            ]
          },
          "execution_count": 41,
          "metadata": {},
          "output_type": "execute_result"
        }
      ],
      "source": [
        "cost_of_house = 800000\n",
        "home_loan_duration = 6*12 # months\n",
        "home_loan_rate = 0.07/12 # monthly\n",
        "home_down_payment = .25 * 800000\n",
        "\n",
        "emi_house = loan_emi(amount=cost_of_house,\n",
        "                     duration=home_loan_duration,\n",
        "                     rate=home_loan_rate,\n",
        "                     down_payment=home_down_payment)\n",
        "\n",
        "emi_house"
      ]
    },
    {
      "cell_type": "code",
      "execution_count": null,
      "metadata": {
        "id": "H3-uvv3Kmqt9",
        "outputId": "f1e5b01b-7a6d-44bb-c685-8192973cdc28"
      },
      "outputs": [
        {
          "data": {
            "text/plain": [
              "5331"
            ]
          },
          "execution_count": 42,
          "metadata": {},
          "output_type": "execute_result"
        }
      ],
      "source": [
        "cost_of_car = 60000\n",
        "car_loan_duration = 1*12 # months\n",
        "car_loan_rate = .12/12 # monthly\n",
        "\n",
        "emi_car = loan_emi(amount=cost_of_car,\n",
        "                   duration=car_loan_duration,\n",
        "                   rate=car_loan_rate)\n",
        "\n",
        "emi_car"
      ]
    },
    {
      "cell_type": "code",
      "execution_count": null,
      "metadata": {
        "id": "xn2QPziUmqt-",
        "outputId": "668463b6-fc30-4314-e096-0e96d0b7dcd2"
      },
      "outputs": [
        {
          "name": "stdout",
          "output_type": "stream",
          "text": [
            "Shaun makes a total monthly payment of $15561 towards loan repayments.\n"
          ]
        }
      ],
      "source": [
        "print(\"Shaun makes a total monthly payment of ${} towards loan repayments.\".format(emi_house+emi_car))"
      ]
    },
    {
      "cell_type": "markdown",
      "metadata": {
        "id": "z28Hj-9Fmqt-"
      },
      "source": [
        "### Exceptions and `try`-`except`\n",
        "\n",
        "> Q: If you borrow `$100,000` using a 10-year loan with an interest rate of 9% per annum, what is the total amount you end up paying as interest?\n",
        "\n",
        "One way to solve this problem is to compare the EMIs for two loans: one with the given rate of interest and another with a 0% rate of interest. The total interest paid is then simply the sum of monthly differences over the duration of the loan."
      ]
    },
    {
      "cell_type": "code",
      "execution_count": null,
      "metadata": {
        "id": "DxhcS9QSmqt-",
        "outputId": "45850fa6-b2ee-482c-e78a-9bdb6b892fc7"
      },
      "outputs": [
        {
          "data": {
            "text/plain": [
              "1267"
            ]
          },
          "execution_count": 44,
          "metadata": {},
          "output_type": "execute_result"
        }
      ],
      "source": [
        "emi_with_interest = loan_emi(amount=100000, duration=10*12, rate=0.09/12)\n",
        "emi_with_interest"
      ]
    },
    {
      "cell_type": "code",
      "execution_count": null,
      "metadata": {
        "id": "sFinFS8Amqt-",
        "outputId": "71784756-9055-4175-ff75-17a23de73721"
      },
      "outputs": [
        {
          "ename": "ZeroDivisionError",
          "evalue": "float division by zero",
          "output_type": "error",
          "traceback": [
            "\u001b[0;31m---------------------------------------------------------------------------\u001b[0m",
            "\u001b[0;31mZeroDivisionError\u001b[0m                         Traceback (most recent call last)",
            "\u001b[0;32m<ipython-input-45-b684ffbee02d>\u001b[0m in \u001b[0;36m<module>\u001b[0;34m\u001b[0m\n\u001b[0;32m----> 1\u001b[0;31m \u001b[0memi_without_interest\u001b[0m \u001b[0;34m=\u001b[0m \u001b[0mloan_emi\u001b[0m\u001b[0;34m(\u001b[0m\u001b[0mamount\u001b[0m\u001b[0;34m=\u001b[0m\u001b[0;36m100000\u001b[0m\u001b[0;34m,\u001b[0m \u001b[0mduration\u001b[0m\u001b[0;34m=\u001b[0m\u001b[0;36m10\u001b[0m\u001b[0;34m*\u001b[0m\u001b[0;36m12\u001b[0m\u001b[0;34m,\u001b[0m \u001b[0mrate\u001b[0m\u001b[0;34m=\u001b[0m\u001b[0;36m0.\u001b[0m\u001b[0;34m/\u001b[0m\u001b[0;36m12\u001b[0m\u001b[0;34m)\u001b[0m\u001b[0;34m\u001b[0m\u001b[0;34m\u001b[0m\u001b[0m\n\u001b[0m\u001b[1;32m      2\u001b[0m \u001b[0memi_without_interest\u001b[0m\u001b[0;34m\u001b[0m\u001b[0;34m\u001b[0m\u001b[0m\n",
            "\u001b[0;32m<ipython-input-35-ad16168becb0>\u001b[0m in \u001b[0;36mloan_emi\u001b[0;34m(amount, duration, rate, down_payment)\u001b[0m\n\u001b[1;32m      1\u001b[0m \u001b[0;32mdef\u001b[0m \u001b[0mloan_emi\u001b[0m\u001b[0;34m(\u001b[0m\u001b[0mamount\u001b[0m\u001b[0;34m,\u001b[0m \u001b[0mduration\u001b[0m\u001b[0;34m,\u001b[0m \u001b[0mrate\u001b[0m\u001b[0;34m,\u001b[0m \u001b[0mdown_payment\u001b[0m\u001b[0;34m=\u001b[0m\u001b[0;36m0\u001b[0m\u001b[0;34m)\u001b[0m\u001b[0;34m:\u001b[0m\u001b[0;34m\u001b[0m\u001b[0;34m\u001b[0m\u001b[0m\n\u001b[1;32m      2\u001b[0m     \u001b[0mloan_amount\u001b[0m \u001b[0;34m=\u001b[0m \u001b[0mamount\u001b[0m \u001b[0;34m-\u001b[0m \u001b[0mdown_payment\u001b[0m\u001b[0;34m\u001b[0m\u001b[0;34m\u001b[0m\u001b[0m\n\u001b[0;32m----> 3\u001b[0;31m     \u001b[0memi\u001b[0m \u001b[0;34m=\u001b[0m \u001b[0mloan_amount\u001b[0m \u001b[0;34m*\u001b[0m \u001b[0mrate\u001b[0m \u001b[0;34m*\u001b[0m \u001b[0;34m(\u001b[0m\u001b[0;34m(\u001b[0m\u001b[0;36m1\u001b[0m\u001b[0;34m+\u001b[0m\u001b[0mrate\u001b[0m\u001b[0;34m)\u001b[0m\u001b[0;34m**\u001b[0m\u001b[0mduration\u001b[0m\u001b[0;34m)\u001b[0m \u001b[0;34m/\u001b[0m \u001b[0;34m(\u001b[0m\u001b[0;34m(\u001b[0m\u001b[0;34m(\u001b[0m\u001b[0;36m1\u001b[0m\u001b[0;34m+\u001b[0m\u001b[0mrate\u001b[0m\u001b[0;34m)\u001b[0m\u001b[0;34m**\u001b[0m\u001b[0mduration\u001b[0m\u001b[0;34m)\u001b[0m\u001b[0;34m-\u001b[0m\u001b[0;36m1\u001b[0m\u001b[0;34m)\u001b[0m\u001b[0;34m\u001b[0m\u001b[0;34m\u001b[0m\u001b[0m\n\u001b[0m\u001b[1;32m      4\u001b[0m     \u001b[0memi\u001b[0m \u001b[0;34m=\u001b[0m \u001b[0mmath\u001b[0m\u001b[0;34m.\u001b[0m\u001b[0mceil\u001b[0m\u001b[0;34m(\u001b[0m\u001b[0memi\u001b[0m\u001b[0;34m)\u001b[0m\u001b[0;34m\u001b[0m\u001b[0;34m\u001b[0m\u001b[0m\n\u001b[1;32m      5\u001b[0m     \u001b[0;32mreturn\u001b[0m \u001b[0memi\u001b[0m\u001b[0;34m\u001b[0m\u001b[0;34m\u001b[0m\u001b[0m\n",
            "\u001b[0;31mZeroDivisionError\u001b[0m: float division by zero"
          ]
        }
      ],
      "source": [
        "emi_without_interest = loan_emi(amount=100000, duration=10*12, rate=0./12)\n",
        "emi_without_interest"
      ]
    },
    {
      "cell_type": "markdown",
      "metadata": {
        "id": "44usFok-mqt_"
      },
      "source": [
        "Something seems to have gone wrong! If you look at the error message above carefully, Python tells us precisely what is wrong. Python *throws* a `ZeroDivisionError` with a message indicating that we're trying to divide a number by zero. `ZeroDivisonError` is an *exception* that stops further execution of the program.\n",
        "\n",
        "> **Exception**: Even if a statement or expression is syntactically correct, it may cause an error when the Python interpreter tries to execute it. Errors detected during execution are called exceptions. Exceptions typically stop further execution of the program unless handled within the program using `try`-`except` statements.\n",
        "\n",
        "Python provides many built-in exceptions *thrown* when built-in operators, functions, or methods are used incorrectly: https://docs.python.org/3/library/exceptions.html#built-in-exceptions. You can also define your custom exception by extending the `Exception` class (more on that later).\n",
        "\n",
        "You can use the `try` and `except` statements to *handle* an exception. Here's an example:"
      ]
    },
    {
      "cell_type": "code",
      "execution_count": null,
      "metadata": {
        "id": "GkIODCcWmqt_",
        "outputId": "a6e73529-c19c-4a27-9d9b-fec6365885a9"
      },
      "outputs": [
        {
          "name": "stdout",
          "output_type": "stream",
          "text": [
            "Now computing the result..\n",
            "Failed to compute result because you were trying to divide by zero\n",
            "None\n"
          ]
        }
      ],
      "source": [
        "try:\n",
        "    print(\"Now computing the result..\")\n",
        "    result = 5 / 0\n",
        "    print(\"Computation was completed successfully\")\n",
        "except ZeroDivisionError:\n",
        "    print(\"Failed to compute result because you were trying to divide by zero\")\n",
        "    result = None\n",
        "\n",
        "print(result)"
      ]
    },
    {
      "cell_type": "markdown",
      "metadata": {
        "id": "5Byf6Wnumqt_"
      },
      "source": [
        "When an exception occurs inside a `try` block, the block's remaining statements are skipped. The `except` block is executed if the type of exception thrown matches that of the exception being handled. After executing the `except` block, the program execution returns to the normal flow.\n",
        "\n",
        "You can also handle more than one type of exception using multiple `except` statements. Learn more about exceptions here: https://www.w3schools.com/python/python_try_except.asp .\n",
        "\n",
        "Let's enhance the `loan_emi` function to use `try`-`except` to handle the scenario where the interest rate is 0%. It's common practice to make changes/enhancements to functions over time as new scenarios and use cases come up. It makes functions more robust & versatile."
      ]
    },
    {
      "cell_type": "code",
      "execution_count": null,
      "metadata": {
        "id": "i7sYWjedmqt_"
      },
      "outputs": [],
      "source": [
        "def loan_emi(amount, duration, rate, down_payment=0):\n",
        "    loan_amount = amount - down_payment\n",
        "    try:\n",
        "        emi = loan_amount * rate * ((1+rate)**duration) / (((1+rate)**duration)-1)\n",
        "    except ZeroDivisionError:\n",
        "        emi = loan_amount / duration\n",
        "    emi = math.ceil(emi)\n",
        "    return emi"
      ]
    },
    {
      "cell_type": "markdown",
      "metadata": {
        "id": "B52Vsgx_mqt_"
      },
      "source": [
        "We can use the updated `loan_emi` function to solve our problem.\n",
        "\n",
        "> **Q**: If you borrow `$100,000` using a 10-year loan with an interest rate of 9% per annum, what is the total amount you end up paying as interest?\n",
        "\n"
      ]
    },
    {
      "cell_type": "code",
      "execution_count": null,
      "metadata": {
        "id": "BEr9XGNhmquA",
        "outputId": "386c407a-75a1-4936-8ee8-5be85e0841f0"
      },
      "outputs": [
        {
          "data": {
            "text/plain": [
              "1267"
            ]
          },
          "execution_count": 48,
          "metadata": {},
          "output_type": "execute_result"
        }
      ],
      "source": [
        "emi_with_interest = loan_emi(amount=100000, duration=10*12, rate=0.09/12)\n",
        "emi_with_interest"
      ]
    },
    {
      "cell_type": "code",
      "execution_count": null,
      "metadata": {
        "id": "c_K_tZKhmquA",
        "outputId": "f1206c48-5a1f-4bdb-d686-69fc9c33e719"
      },
      "outputs": [
        {
          "data": {
            "text/plain": [
              "834"
            ]
          },
          "execution_count": 49,
          "metadata": {},
          "output_type": "execute_result"
        }
      ],
      "source": [
        "emi_without_interest = loan_emi(amount=100000, duration=10*12, rate=0)\n",
        "emi_without_interest"
      ]
    },
    {
      "cell_type": "code",
      "execution_count": null,
      "metadata": {
        "id": "M2OD8BhjmquA"
      },
      "outputs": [],
      "source": [
        "total_interest = (emi_with_interest - emi_without_interest) * 10*12"
      ]
    },
    {
      "cell_type": "code",
      "execution_count": null,
      "metadata": {
        "id": "tWXuOGAtmquA",
        "outputId": "0b726216-0f8c-40cc-9ae9-8bab0f63c05f"
      },
      "outputs": [
        {
          "name": "stdout",
          "output_type": "stream",
          "text": [
            "The total interest paid is $51960.\n"
          ]
        }
      ],
      "source": [
        "print(\"The total interest paid is ${}.\".format(total_interest))"
      ]
    },
    {
      "cell_type": "markdown",
      "metadata": {
        "id": "8k3F75nemquA"
      },
      "source": [
        "### Documenting functions using Docstrings\n",
        "\n",
        "We can add some documentation within our function using a *docstring*. A docstring is simply a string that appears as the first statement within the function body, and is used by the `help` function. A good docstring describes what the function does, and provides some explanation about the arguments."
      ]
    },
    {
      "cell_type": "code",
      "execution_count": null,
      "metadata": {
        "id": "0l7sS_jnmquA"
      },
      "outputs": [],
      "source": [
        "def loan_emi(amount, duration, rate, down_payment=0):\n",
        "    \"\"\"Calculates the equal montly installment (EMI) for a loan.\n",
        "\n",
        "    Arguments:\n",
        "        amount - Total amount to be spent (loan + down payment)\n",
        "        duration - Duration of the loan (in months)\n",
        "        rate - Rate of interest (monthly)\n",
        "        down_payment (optional) - Optional intial payment (deducted from amount)\n",
        "    \"\"\"\n",
        "    loan_amount = amount - down_payment\n",
        "    try:\n",
        "        emi = loan_amount * rate * ((1+rate)**duration) / (((1+rate)**duration)-1)\n",
        "    except ZeroDivisionError:\n",
        "        emi = loan_amount / duration\n",
        "    emi = math.ceil(emi)\n",
        "    return emi"
      ]
    },
    {
      "cell_type": "markdown",
      "metadata": {
        "id": "N02lO2rnmquA"
      },
      "source": [
        "In the docstring above, we've provided some additional information that the `duration` and `rate` are measured in months. You might even consider naming the arguments `duration_months` and `rate_monthly`, to avoid any confusion whatsoever. Can you think of some other ways to improve the function?"
      ]
    },
    {
      "cell_type": "code",
      "execution_count": null,
      "metadata": {
        "id": "59ErWWoAmquB",
        "outputId": "b855adc5-566b-44fb-a099-166bcba98753"
      },
      "outputs": [
        {
          "name": "stdout",
          "output_type": "stream",
          "text": [
            "Help on function loan_emi in module __main__:\n",
            "\n",
            "loan_emi(amount, duration, rate, down_payment=0)\n",
            "    Calculates the equal montly installment (EMI) for a loan.\n",
            "    \n",
            "    Arguments:\n",
            "        amount - Total amount to be spent (loan + down payment)\n",
            "        duration - Duration of the loan (in months)\n",
            "        rate - Rate of interest (monthly)\n",
            "        down_payment (optional) - Optional intial payment (deducted from amount)\n",
            "\n"
          ]
        }
      ],
      "source": [
        "help(loan_emi)"
      ]
    },
    {
      "cell_type": "markdown",
      "metadata": {
        "id": "kbj8ZmG-mquB"
      },
      "source": [
        "### Save and upload your notebook\n",
        "\n",
        "Whether you're running this Jupyter notebook online or on your computer, it's essential to save your work from time to time. You can continue working on a saved notebook later or share it with friends and colleagues to let them execute your code. [Jovian](https://www.jovian.ai) offers an easy way of saving and sharing your Jupyter notebooks online."
      ]
    },
    {
      "cell_type": "code",
      "execution_count": null,
      "metadata": {
        "id": "9T3OgAbEmquB"
      },
      "outputs": [],
      "source": [
        "# Instal the library\n",
        "!pip install jovian --upgrade --quiet"
      ]
    },
    {
      "cell_type": "code",
      "execution_count": null,
      "metadata": {
        "id": "L5gNnVOPmquB"
      },
      "outputs": [],
      "source": [
        "# Import the jovian module\n",
        "import jovian"
      ]
    },
    {
      "cell_type": "code",
      "execution_count": null,
      "metadata": {
        "id": "qttCbIkrmquB",
        "outputId": "ef6cf034-42a5-44ae-a98f-bf9a9c60d4a5"
      },
      "outputs": [
        {
          "data": {
            "application/javascript": [
              "window.require && require([\"base/js/namespace\"],function(Jupyter){Jupyter.notebook.save_checkpoint()})"
            ],
            "text/plain": [
              "<IPython.core.display.Javascript object>"
            ]
          },
          "metadata": {},
          "output_type": "display_data"
        },
        {
          "name": "stdout",
          "output_type": "stream",
          "text": [
            "[jovian] Attempting to save notebook..\u001b[0m\n",
            "[jovian] Updating notebook \"aakashns/python-functions-and-scope\" on https://jovian.ai/\u001b[0m\n",
            "[jovian] Uploading notebook..\u001b[0m\n",
            "[jovian] Committed successfully! https://jovian.ai/aakashns/python-functions-and-scope\u001b[0m\n"
          ]
        },
        {
          "data": {
            "text/plain": [
              "'https://jovian.ai/aakashns/python-functions-and-scope'"
            ]
          },
          "execution_count": 59,
          "metadata": {},
          "output_type": "execute_result"
        }
      ],
      "source": [
        "jovian.commit(project='python-functions-and-scope', environment=None)"
      ]
    },
    {
      "cell_type": "markdown",
      "metadata": {
        "id": "o7NVYbTZmquB"
      },
      "source": [
        "The first time you run `jovian.commit`, you'll be asked to provide an API Key to securely upload the notebook to your Jovian account. You can get the API key from your [Jovian profile page](https://jovian.ai) after logging in / signing up.\n",
        "\n",
        "\n",
        "`jovian.commit` uploads the notebook to your Jovian account, captures the Python environment, and creates a shareable link for your notebook, as shown above. You can use this link to share your work and let anyone (including you) run your notebooks and reproduce your work."
      ]
    },
    {
      "cell_type": "markdown",
      "metadata": {
        "id": "1Bi5-mQjmquB"
      },
      "source": [
        "## Exercise - Data Analysis for Vacation Planning\n",
        "\n",
        "You're planning a vacation, and you need to decide which city you want to visit. You have shortlisted four cities and identified the return flight cost, daily hotel cost, and weekly car rental cost. While renting a car, you need to pay for entire weeks, even if you return the car sooner.\n",
        "\n",
        "\n",
        "| City | Return Flight (`$`) | Hotel per day (`$`) | Weekly Car Rental  (`$`) |\n",
        "|------|--------------------------|------------------|------------------------|\n",
        "| Paris|       200                |       20         |          200           |\n",
        "| London|      250                |       30         |          120           |\n",
        "| Dubai|       370                |       15         |          80           |\n",
        "| Mumbai|      450                |       10         |          70           |         \n",
        "\n",
        "\n",
        "Answer the following questions using the data above:\n",
        "\n",
        "1. If you're planning a 1-week long trip, which city should you visit to spend the least amount of money?\n",
        "2. How does the answer to the previous question change if you change the trip's duration to four days, ten days or two weeks?\n",
        "3. If your total budget for the trip is `$1000`, which city should you visit to maximize the duration of your trip? Which city should you visit if you want to minimize the duration?\n",
        "4. How does the answer to the previous question change if your budget is `$600`, `$2000`, or `$1500`?\n",
        "\n",
        "*Hint: To answer these questions, it will help to define a function `cost_of_trip` with relevant inputs like flight cost, hotel rate, car rental rate, and duration of the trip. You may find the `math.ceil` function useful for calculating the total cost of car rental.*"
      ]
    },
    {
      "cell_type": "code",
      "execution_count": null,
      "metadata": {
        "id": "pvrl4KUymquC"
      },
      "outputs": [],
      "source": [
        "# Use these cells to answer the question - build the function step-by-step"
      ]
    },
    {
      "cell_type": "code",
      "execution_count": null,
      "metadata": {
        "id": "LKBBv1PgmquC"
      },
      "outputs": [],
      "source": []
    },
    {
      "cell_type": "code",
      "execution_count": null,
      "metadata": {
        "id": "2JnGXU-AmquC"
      },
      "outputs": [],
      "source": []
    },
    {
      "cell_type": "code",
      "execution_count": null,
      "metadata": {
        "id": "AOrgJk-FmquC"
      },
      "outputs": [],
      "source": []
    },
    {
      "cell_type": "markdown",
      "metadata": {
        "id": "0mLRZFQYmquC"
      },
      "source": [
        "## Summary and Further Reading\n",
        "\n",
        "With this, we complete our discussion of functions in Python. We've covered the following topics in this tutorial:\n",
        "\n",
        "* Creating and using functions\n",
        "* Functions with one or more arguments\n",
        "* Local variables and scope\n",
        "* Returning values using `return`\n",
        "* Using default arguments to make a function flexible\n",
        "* Using named arguments while invoking a function\n",
        "* Importing modules and using library functions\n",
        "* Reusing and improving functions to handle new use cases\n",
        "* Handling exceptions with `try`-`except`\n",
        "* Documenting functions using docstrings\n",
        "\n",
        "This tutorial on functions in Python is by no means exhaustive. Here are a few more topics to learn about:\n",
        "\n",
        "* Functions with an arbitrary number of arguments using (`*args` and `**kwargs`)\n",
        "* Defining functions inside functions (and closures)\n",
        "* A function that invokes itself (recursion)\n",
        "* Functions that accept other functions as arguments or return other functions\n",
        "* Functions that enhance other functions (decorators)\n",
        "\n",
        "Following are some resources to learn about more functions in Python:\n",
        "\n",
        "* Python Tutorial at W3Schools: https://www.w3schools.com/python/\n",
        "* Practical Python Programming: https://dabeaz-course.github.io/practical-python/Notes/Contents.html\n",
        "* Python official documentation: https://docs.python.org/3/tutorial/index.html\n",
        "\n",
        "You are ready to move on to the next tutorial: [\"Reading from and writing to files using Python\"](https://jovian.ml/aakashns/python-os-and-filesystem)."
      ]
    },
    {
      "cell_type": "markdown",
      "metadata": {
        "id": "UOo5yOK7mquC"
      },
      "source": [
        "## Questions for Revision\n",
        "\n",
        "Try answering the following questions to test your understanding of the topics covered in this notebook:\n",
        "\n",
        "1. What is a function?\n",
        "2. What are the benefits of using functions?\n",
        "3. What are some built-in functions in Python?\n",
        "4. How do you define a function in Python? Give an example.\n",
        "5. What is the body of a function?\n",
        "6. When are the statements in the body of a function executed?\n",
        "7. What is meant by calling or invoking a function? Give an example.\n",
        "8. What are function arguments? How are they useful?\n",
        "9. How do you store the result of a function in a variable?\n",
        "10. What is the purpose of the `return` keyword in Python?\n",
        "11. Can you return multiple values from a function?\n",
        "12. Can a `return` statement be used inside an `if` block or a `for` loop?\n",
        "13. Can the `return` keyword be used outside a function?\n",
        "14. What is scope in a programming region?\n",
        "15. How do you define a variable inside a function?\n",
        "16. What are local & global variables?\n",
        "17. Can you access the variables defined inside a function outside its body? Why or why not?\n",
        "18. What do you mean by the statement \"a function defines a scope within Python\"?\n",
        "19. Do for and while loops define a scope, like functions?\n",
        "20. Do if-else blocks define a scope, like functions?\n",
        "21. What are optional function arguments & default values? Give an example.\n",
        "22. Why should the required arguments appear before the optional arguments in a function definition?\n",
        "23. How do you invoke a function with named arguments? Illustrate with an example.\n",
        "24. Can you split a function invocation into multiple lines?\n",
        "25. Write a function that takes a number and rounds it up to the nearest integer.\n",
        "26. What are modules in Python?\n",
        "27. What is a Python library?\n",
        "28. What is the Python Standard Library?\n",
        "29. Where can you learn about the modules and functions available in the Python standard library?\n",
        "30. How do you install a third-party library?\n",
        "31. What is a module namespace? How is it useful?\n",
        "32. What problems would you run into if Python modules did not provide namespaces?\n",
        "33. How do you import a module?\n",
        "34. How do you use a function from an imported module? Illustrate with an example.\n",
        "35. Can you invoke a function inside the body of another function? Give an example.\n",
        "36. What is the single responsibility principle, and how does it apply while writing functions?\n",
        "37. What some characteristics of well-written functions?\n",
        "38. Can you use if statements or while loops within a function? Illustrate with an example.\n",
        "39. What are exceptions in Python? When do they occur?\n",
        "40. How are exceptions different from syntax errors?\n",
        "41. What are the different types of in-built exceptions in Python? Where can you learn about them?\n",
        "42. How do you prevent the termination of a program due to an exception?\n",
        "43. What is the purpose of the `try`-`except` statements in Python?\n",
        "44. What is the syntax of the `try`-`except` statements? Give an example.\n",
        "45. What happens if an exception occurs inside a `try` block?\n",
        "46. How do you handle two different types of exceptions using `except`? Can you have multiple `except` blocks under a single `try` block?\n",
        "47. How do you create an `except` block to handle any type of exception?\n",
        "48. Illustrate the usage of `try`-`except` inside a function with an example.\n",
        "49. What is a docstring? Why is it useful?\n",
        "50. How do you display the docstring for a function?\n",
        "51. What are *args and **kwargs? How are they useful? Give an example.\n",
        "52. Can you define functions inside functions?\n",
        "53. What is function closure in Python? How is it useful? Give an example.\n",
        "54. What is recursion? Illustrate with an example.\n",
        "55. Can functions accept other functions as arguments? Illustrate with an example.\n",
        "56. Can functions return other functions as results? Illustrate with an example.\n",
        "57. What are decorators? How are they useful?\n",
        "58. Implement a function decorator which prints the arguments and result of wrapped functions.\n",
        "59. What are some in-built decorators in Python?\n",
        "60. What are some popular Python libraries?"
      ]
    },
    {
      "cell_type": "markdown",
      "metadata": {
        "id": "JWpn8yLUmquC"
      },
      "source": [
        "## Solution for Exercise"
      ]
    },
    {
      "cell_type": "markdown",
      "metadata": {
        "id": "HmpcO4oqmquC"
      },
      "source": [
        "### Exercise - Data Analysis for Vacation Planning\n",
        "\n",
        "You're planning a vacation, and you need to decide which city you want to visit. You have shortlisted four cities and identified the return flight cost, daily hotel cost, and weekly car rental cost. While renting a car, you need to pay for entire weeks, even if you return the car sooner.\n",
        "\n",
        "\n",
        "| City | Return Flight (`$`) | Hotel per day (`$`) | Weekly Car Rental  (`$`) |\n",
        "|------|--------------------------|------------------|------------------------|\n",
        "| Paris|       200                |       20         |          200           |\n",
        "| London|      250                |       30         |          120           |\n",
        "| Dubai|       370                |       15         |          80           |\n",
        "| Mumbai|      450                |       10         |          70           |         \n",
        "\n",
        "\n",
        "Answer the following questions using the data above:\n",
        "\n",
        "1. If you're planning a 1-week long trip, which city should you visit to spend the least amount of money?\n",
        "2. How does the answer to the previous question change if you change the trip's duration to four days, ten days or two weeks?\n",
        "3. If your total budget for the trip is `$600`, which city should you visit to maximize the duration of your trip? Which city should you visit if you want to minimize the duration?\n",
        "4. How does the answer to the previous question change if your budget is `$1000`, `$2000`, or `$1500`?\n",
        "\n",
        "*Hint: To answer these questions, it will help to define a function `cost_of_trip` with relevant inputs like flight cost, hotel rate, car rental rate, and duration of the trip. You may find the `math.ceil` function useful for calculating the total cost of car rental.*"
      ]
    },
    {
      "cell_type": "code",
      "execution_count": null,
      "metadata": {
        "id": "1YdMoHLlmquC"
      },
      "outputs": [],
      "source": [
        "import math"
      ]
    },
    {
      "cell_type": "code",
      "execution_count": null,
      "metadata": {
        "id": "h-5EbLl-mquD"
      },
      "outputs": [],
      "source": [
        "Paris=[200,20,200,'Paris']\n",
        "London = [250,30,120,'London']\n",
        "Dubai = [370,15,80,'Dubai']\n",
        "Mumbai = [450,10,70,'Mumbai']\n",
        "Cities = [Paris,London,Dubai,Mumbai]"
      ]
    },
    {
      "cell_type": "code",
      "execution_count": null,
      "metadata": {
        "id": "eMs57BbYmquD"
      },
      "outputs": [],
      "source": [
        "def cost_of_trip(flight,hotel_cost,car_rent,num_of_days=0):\n",
        "    return flight+(hotel_cost*num_of_days)+(car_rent*math.ceil(num_of_days/7))"
      ]
    },
    {
      "cell_type": "code",
      "execution_count": null,
      "metadata": {
        "id": "E84X0XATmquD"
      },
      "outputs": [],
      "source": [
        "def days_to_visit(days):\n",
        "    costs=[]\n",
        "    for city in Cities:\n",
        "        cost=cost_of_trip(city[0],city[1],city[2],days)\n",
        "        costs.append((cost,city[3]))\n",
        "    min_cost = min(costs)\n",
        "    return min_cost"
      ]
    },
    {
      "cell_type": "markdown",
      "metadata": {
        "id": "76wOjWLRmquD"
      },
      "source": [
        "> 1. If you're planning a 1-week long trip, which city should you visit to spend the least amount of money?"
      ]
    },
    {
      "cell_type": "code",
      "execution_count": null,
      "metadata": {
        "id": "EURJ3WfjmquD",
        "outputId": "15f0fe4e-b594-467f-abf6-15d745212da4"
      },
      "outputs": [
        {
          "data": {
            "text/plain": [
              "(540, 'Paris')"
            ]
          },
          "execution_count": 270,
          "metadata": {},
          "output_type": "execute_result"
        }
      ],
      "source": [
        "days_to_visit(7)"
      ]
    },
    {
      "cell_type": "markdown",
      "metadata": {
        "id": "__ySIVFAmquD"
      },
      "source": [
        "> 2. How does the answer to the previous question change if you change the trip's duration to four days, ten days or two weeks?"
      ]
    },
    {
      "cell_type": "code",
      "execution_count": null,
      "metadata": {
        "id": "iC0McTyemquE",
        "outputId": "5bcc82c2-b80a-412a-b914-c8dd322248db"
      },
      "outputs": [
        {
          "data": {
            "text/plain": [
              "(480, 'Paris')"
            ]
          },
          "execution_count": 271,
          "metadata": {},
          "output_type": "execute_result"
        }
      ],
      "source": [
        "days_to_visit(4)"
      ]
    },
    {
      "cell_type": "code",
      "execution_count": null,
      "metadata": {
        "id": "RgVHj-J7mquE",
        "outputId": "ec213217-608b-46fb-df64-22e26a2579f8"
      },
      "outputs": [
        {
          "data": {
            "text/plain": [
              "(680, 'Dubai')"
            ]
          },
          "execution_count": 272,
          "metadata": {},
          "output_type": "execute_result"
        }
      ],
      "source": [
        "days_to_visit(10)"
      ]
    },
    {
      "cell_type": "code",
      "execution_count": null,
      "metadata": {
        "id": "GTURU853mquE",
        "outputId": "a92bfd71-73ad-4ece-eb18-63679542af30"
      },
      "outputs": [
        {
          "data": {
            "text/plain": [
              "(730, 'Mumbai')"
            ]
          },
          "execution_count": 273,
          "metadata": {},
          "output_type": "execute_result"
        }
      ],
      "source": [
        "days_to_visit(14)"
      ]
    },
    {
      "cell_type": "markdown",
      "metadata": {
        "id": "_iLrqAiymquE"
      },
      "source": [
        "> 3. If your total budget for the trip is `$600`, which city should you visit to maximize the duration of your trip? Which city should you visit if you want to minimize the duration?"
      ]
    },
    {
      "cell_type": "code",
      "execution_count": null,
      "metadata": {
        "id": "xKYvZW4BmquE"
      },
      "outputs": [],
      "source": [
        "def given_budget(budget,less_days=False):\n",
        "    days=1\n",
        "    cost=0\n",
        "    while cost<budget:\n",
        "        #copy of city cost\n",
        "        cost_before=cost\n",
        "        try:\n",
        "            #copy of costs dictionary, if exists\n",
        "            costs_before=costs.copy()\n",
        "        except:\n",
        "            #if costs dictionary doesn't exist, create an empty dictionary\n",
        "            costs_before={}\n",
        "        costs={}\n",
        "        for city in Cities:\n",
        "            cost = cost_of_trip(city[0],city[1],city[2],days)\n",
        "            costs[cost] = city[3]\n",
        "        if less_days:\n",
        "            cost=max(list(costs.keys()))\n",
        "            ''' The while loop breaks only after cost>600 condition is met.\n",
        "            when the condition is met, the costs dictionary updates to values that are greater than 600\n",
        "            so we check if it is exceeding, if it does, we return the values from the previous dictionary cost_before. '''\n",
        "            if cost>=budget:\n",
        "                return costs_before[cost_before],days-1\n",
        "        else:\n",
        "            cost=min(list(costs.keys()))\n",
        "            if cost>=budget:\n",
        "                return costs_before[cost_before],days-1\n",
        "        days+=1"
      ]
    },
    {
      "cell_type": "code",
      "execution_count": null,
      "metadata": {
        "id": "SzXcwp0LmquF"
      },
      "outputs": [],
      "source": [
        "city_to_stay_maximum_days=given_budget(600)"
      ]
    },
    {
      "cell_type": "code",
      "execution_count": null,
      "metadata": {
        "id": "cPu-Rt9hmquF",
        "outputId": "d405d66c-4d19-4669-fbb1-1f8f74908c9a"
      },
      "outputs": [
        {
          "name": "stdout",
          "output_type": "stream",
          "text": [
            "('Paris', 7)\n"
          ]
        }
      ],
      "source": [
        "print(city_to_stay_maximum_days)"
      ]
    },
    {
      "cell_type": "code",
      "execution_count": null,
      "metadata": {
        "id": "RjXmRILWmquF"
      },
      "outputs": [],
      "source": [
        "city_to_stay_minimum_days=given_budget(600,less_days=True)"
      ]
    },
    {
      "cell_type": "code",
      "execution_count": null,
      "metadata": {
        "id": "6fR5MhksmquF",
        "outputId": "e7cbb4eb-6dd2-498e-e689-0d7556f25e50"
      },
      "outputs": [
        {
          "name": "stdout",
          "output_type": "stream",
          "text": [
            "('Mumbai', 7)\n"
          ]
        }
      ],
      "source": [
        "print(city_to_stay_minimum_days)"
      ]
    },
    {
      "cell_type": "markdown",
      "metadata": {
        "id": "6_5yBJbFmquF"
      },
      "source": [
        "> 4. How does the answer to the previous question change if your budget is `$1000`, `$2000`, or `$1500`?"
      ]
    },
    {
      "cell_type": "markdown",
      "metadata": {
        "id": "ws3wu3kFmquF"
      },
      "source": [
        "- For 1000 dollars"
      ]
    },
    {
      "cell_type": "code",
      "execution_count": null,
      "metadata": {
        "id": "nFwILUoAmquF",
        "outputId": "83e2fd3c-327c-4f40-a857-354422ac10fa"
      },
      "outputs": [
        {
          "name": "stdout",
          "output_type": "stream",
          "text": [
            "('Mumbai', 26)\n"
          ]
        }
      ],
      "source": [
        "city_to_stay_maximum_days=given_budget(1000)\n",
        "print(city_to_stay_maximum_days)"
      ]
    },
    {
      "cell_type": "code",
      "execution_count": null,
      "metadata": {
        "id": "hyGPC32omquG",
        "outputId": "7ba11769-51f2-4e36-ddd8-33095f2a5535"
      },
      "outputs": [
        {
          "name": "stdout",
          "output_type": "stream",
          "text": [
            "('London', 14)\n"
          ]
        }
      ],
      "source": [
        "city_to_stay_minimum_days=given_budget(1000,less_days=True)\n",
        "print(city_to_stay_minimum_days)"
      ]
    },
    {
      "cell_type": "markdown",
      "metadata": {
        "id": "UHTDHetZmquG"
      },
      "source": [
        "- For 2000 dollars"
      ]
    },
    {
      "cell_type": "code",
      "execution_count": null,
      "metadata": {
        "id": "Zyrxq4_lmquG",
        "outputId": "1e68bce6-d8f0-4d4f-8ee6-13e88a2f2585"
      },
      "outputs": [
        {
          "name": "stdout",
          "output_type": "stream",
          "text": [
            "('Mumbai', 77)\n"
          ]
        }
      ],
      "source": [
        "city_to_stay_maximum_days=given_budget(2000)\n",
        "print(city_to_stay_maximum_days)"
      ]
    },
    {
      "cell_type": "code",
      "execution_count": null,
      "metadata": {
        "id": "EVLAeNwYmquG",
        "outputId": "34aeaba2-b681-4a20-e2d2-9ff059223f72"
      },
      "outputs": [
        {
          "name": "stdout",
          "output_type": "stream",
          "text": [
            "('London', 35)\n"
          ]
        }
      ],
      "source": [
        "city_to_stay_minimum=given_budget(2000,less_days=True)\n",
        "print(city_to_stay_minimum)"
      ]
    },
    {
      "cell_type": "markdown",
      "metadata": {
        "id": "6X1Ih4shmquG"
      },
      "source": [
        "- For 1500 dollars"
      ]
    },
    {
      "cell_type": "code",
      "execution_count": null,
      "metadata": {
        "id": "ob3EWlNimquG",
        "outputId": "edcff129-62a8-429e-d41a-61d41b43d9ea"
      },
      "outputs": [
        {
          "name": "stdout",
          "output_type": "stream",
          "text": [
            "('Mumbai', 49)\n"
          ]
        }
      ],
      "source": [
        "city_to_stay_maximum_days=given_budget(1500)\n",
        "print(city_to_stay_maximum_days)"
      ]
    },
    {
      "cell_type": "code",
      "execution_count": null,
      "metadata": {
        "id": "S14C_opymquH",
        "outputId": "03e8fb5b-176a-429d-d717-94e27dbd72c8"
      },
      "outputs": [
        {
          "name": "stdout",
          "output_type": "stream",
          "text": [
            "('Paris', 24)\n"
          ]
        }
      ],
      "source": [
        "city_to_stay_minimum_days=given_budget(1500,less_days=True)\n",
        "print(city_to_stay_minimum_days)"
      ]
    }
  ],
  "metadata": {
    "kernelspec": {
      "display_name": "Python 3 (ipykernel)",
      "language": "python",
      "name": "python3"
    },
    "language_info": {
      "codemirror_mode": {
        "name": "ipython",
        "version": 3
      },
      "file_extension": ".py",
      "mimetype": "text/x-python",
      "name": "python",
      "nbconvert_exporter": "python",
      "pygments_lexer": "ipython3",
      "version": "3.9.6"
    },
    "colab": {
      "provenance": []
    }
  },
  "nbformat": 4,
  "nbformat_minor": 0
}