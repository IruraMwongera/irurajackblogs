{
  "nbformat": 4,
  "nbformat_minor": 0,
  "metadata": {
    "colab": {
      "provenance": []
    },
    "kernelspec": {
      "name": "python3",
      "display_name": "Python 3"
    },
    "language_info": {
      "name": "python"
    }
  },
  "cells": [
    {
      "cell_type": "markdown",
      "source": [
        "### __Advanced Model Relationships>__"
      ],
      "metadata": {
        "id": "dQMqjg_5_aXm"
      }
    },
    {
      "cell_type": "markdown",
      "source": [
        "### This concept page explores the usage of Django’s ForeignKey, ManyToManyField, and OneToOneField to model complex data relationships in your applications. It covers various scenarios, options, and best practices for working with these field types, enabling developers to effectively represent and manage intricate data structures."
      ],
      "metadata": {
        "id": "gEiVEsf3_gst"
      }
    },
    {
      "cell_type": "markdown",
      "source": [
        "## Topics\n",
        "- ### ForeignKey Relationships\n",
        "- ### OneToOneField Relationships\n",
        "- ### ManyToManyField Relationships\n",
        "-###  Handling Related Object Deletion\n",
        "- ### Performance Considerations"
      ],
      "metadata": {
        "id": "FSU9mqR4_wH3"
      }
    },
    {
      "cell_type": "markdown",
      "source": [
        "## Objectives\n",
        "- ### Understand the usage and purpose of ForeignKey fields\n",
        "- ### Explore the use cases and implementation of OneToOneFields\n",
        "- ### Learn about ManyToManyFields and their applications\n",
        "- ### Manage related object deletion behavior with appropriate options\n",
        "- ### Optimize performance when working with complex relationships"
      ],
      "metadata": {
        "id": "ENA1l5X_AM4m"
      }
    },
    {
      "cell_type": "markdown",
      "source": [
        "## __ForeignKey Relationships.__"
      ],
      "metadata": {
        "id": "x-0J0R0tAiVa"
      }
    },
    {
      "cell_type": "markdown",
      "source": [
        "### A ForeignKey field represents a one-to-many relationship between two models. It allows you to associate a record from one model with a single record from another model. This is useful for modeling hierarchical data structures, such as categories and products, or blog posts and comments."
      ],
      "metadata": {
        "id": "XzJK6xIhAv3s"
      }
    },
    {
      "cell_type": "markdown",
      "source": [],
      "metadata": {
        "id": "EK0pWhjrArbt"
      }
    },
    {
      "cell_type": "code",
      "source": [
        "\"\"\"\n",
        "from django.db import models\n",
        "\n",
        "class Category(models.Model):\n",
        "    name = models.CharField(max_length=100)\n",
        "\n",
        "class Product(models.Model):\n",
        "    name = models.CharField(max_length=100)\n",
        "    category = models.ForeignKey(Category, on_delete=models.CASCADE, related_name='products')\n",
        "\"\"\""
      ],
      "metadata": {
        "id": "TXnI4Skk_enU"
      },
      "execution_count": null,
      "outputs": []
    },
    {
      "cell_type": "markdown",
      "source": [
        "### In this example, each Product instance is associated with a single Category instance, while each Category can have multiple Product instances.\n",
        "\n",
        "### Behind the Scenes: When you define a ForeignKey field in a model, Django creates a separate column in the database table for that model to store the primary key value of the related record. For example, if you have a Product model with a ForeignKey to a Category model, Django will create a category_id column in the Product table to store the primary key of the associated Category instance.\n",
        "\n",
        "### NOTE: A one-to-many relationship is a special case of the ForeignKey relationship, where one record from the “one” side can be associated with multiple records from the “many” side. This type of relationship is very common in database design and is used to represent hierarchical or parent-child relationships between entities."
      ],
      "metadata": {
        "id": "i9_1PiFoDtF5"
      }
    },
    {
      "cell_type": "markdown",
      "source": [
        "## __OneToOneField Relationships.__"
      ],
      "metadata": {
        "id": "ivOgVZmEEBim"
      }
    },
    {
      "cell_type": "markdown",
      "source": [
        "### A OneToOneField represents a one-to-one relationship between two models. It ensures that a record from one model is associated with at most one record from another model, and vice versa. This is useful for modeling relationships like a user and a profile, or a product and its detailed description."
      ],
      "metadata": {
        "id": "REgTFBzkEecy"
      }
    },
    {
      "cell_type": "code",
      "source": [
        "\"\"\"\n",
        "from django.db import models\n",
        "\n",
        "class User(models.Model):\n",
        "    username = models.CharField(max_length=100)\n",
        "\n",
        "class Profile(models.Model):\n",
        "    user = models.OneToOneField(User, on_delete=models.CASCADE)\n",
        "    bio = models.TextField()\n",
        "  \"\"\""
      ],
      "metadata": {
        "id": "LLu0J64FE_L1"
      },
      "execution_count": null,
      "outputs": []
    },
    {
      "cell_type": "markdown",
      "source": [],
      "metadata": {
        "id": "48VQTzoSGs9f"
      }
    },
    {
      "cell_type": "markdown",
      "source": [
        "### In this example, each User instance can have at most one Profile instance associated with it, and each Profile instance is associated with a single User instance.\n",
        "\n",
        "### Behind the Scenes: When you define a OneToOneField in a model, Django creates a unique constraint on the column in the database table for that model. This constraint ensures that the value in that column (which stores the primary key of the related record) can only appear once, enforcing the one-to-one relationship."
      ],
      "metadata": {
        "id": "5wmarpEjFiRU"
      }
    },
    {
      "cell_type": "markdown",
      "source": [
        "## __ManyToManyField Relationships.__"
      ],
      "metadata": {
        "id": "P8XrN1wTFloq"
      }
    },
    {
      "cell_type": "markdown",
      "source": [
        "### A ManyToManyField represents a many-to-many relationship between two models. It allows you to associate multiple records from one model with multiple records from another model. This is useful for modeling relationships like students and courses, or books and authors."
      ],
      "metadata": {
        "id": "6ViwLsAVGvnv"
      }
    },
    {
      "cell_type": "markdown",
      "source": [],
      "metadata": {
        "id": "lNxwzzz2G5fV"
      }
    },
    {
      "cell_type": "code",
      "source": [
        "\"\"\"\n",
        "from django.db import models\n",
        "\n",
        "class Student(models.Model):\n",
        "    name = models.CharField(max_length=100)\n",
        "\n",
        "class Course(models.Model):\n",
        "    name = models.CharField(max_length=100)\n",
        "    students = models.ManyToManyField(Student, related_name='courses')\n",
        "    \"\"\""
      ],
      "metadata": {
        "id": "eGdbpijZFCAT"
      },
      "execution_count": null,
      "outputs": []
    },
    {
      "cell_type": "markdown",
      "source": [
        "### In this example, each Student instance can be associated with multiple Course instances, and each Course instance can have multiple Student instances.\n",
        "\n",
        "### Behind the Scenes: When you define a ManyToManyField in a model, Django creates a separate junction table in the database to store the relationships between the two models. This junction table typically has two columns, one for the primary key of the first model and another for the primary key of the second model. For example, if you have a Student model with a ManyToManyField to a Course model, Django will create a junction table (e.g., student_course) with columns for the student’s primary key and the course’s primary key."
      ],
      "metadata": {
        "id": "WW6tKyTIHU6N"
      }
    },
    {
      "cell_type": "markdown",
      "source": [
        "## __Handling Related Object Deletion.__"
      ],
      "metadata": {
        "id": "NQV_KTHwHjIC"
      }
    },
    {
      "cell_type": "markdown",
      "source": [
        "### When working with related objects, it’s important to manage their deletion behavior. Django provides several options for handling related object deletion, such as CASCADE (deleting related objects automatically), PROTECT (preventing deletion if related objects exist), SET_NULL (setting the related field to NULL), and SET_DEFAULT (setting the related field to a default value)."
      ],
      "metadata": {
        "id": "R55fcTd-H-Ig"
      }
    },
    {
      "cell_type": "code",
      "source": [
        "\"\"\"\n",
        "from django.db import models\n",
        "\n",
        "class Author(models.Model):\n",
        "    name = models.CharField(max_length=100)\n",
        "\n",
        "class Book(models.Model):\n",
        "    title = models.CharField(max_length=100)\n",
        "    author = models.ForeignKey(Author, on_delete=models.CASCADE, related_name='books')\n",
        "    \"\"\""
      ],
      "metadata": {
        "id": "dnT593uiEuVM"
      },
      "execution_count": null,
      "outputs": []
    },
    {
      "cell_type": "markdown",
      "source": [
        "### In this example, if an Author instance is deleted, all associated Book instances will also be automatically deleted due to the on_delete=models.CASCADE option."
      ],
      "metadata": {
        "id": "QvY7m6bYIjH3"
      }
    },
    {
      "cell_type": "markdown",
      "source": [
        "## __Performance Considerations.__"
      ],
      "metadata": {
        "id": "DomtQCkTIubK"
      }
    },
    {
      "cell_type": "markdown",
      "source": [
        "### As your data models become more complex, with multiple relationships and nested queries, performance can become a concern. Django provides several tools and techniques to optimize queries involving related objects, such as prefetching and select_related. Additionally, proper indexing and database optimizations can significantly improve query performance."
      ],
      "metadata": {
        "id": "DVYNKyhaIyeh"
      }
    },
    {
      "cell_type": "code",
      "source": [
        "\"\"\"\n",
        "from django.db import models\n",
        "\n",
        "class Category(models.Model):\n",
        "    name = models.CharField(max_length=100)\n",
        "\n",
        "class Product(models.Model):\n",
        "    name = models.CharField(max_length=100)\n",
        "    category = models.ForeignKey(Category, on_delete=models.CASCADE, related_name='products')\n",
        "\n",
        "# Optimizing queries with prefetching\n",
        "products = Product.objects.prefetch_related('category')\n",
        "\"\"\""
      ],
      "metadata": {
        "id": "QL2vUMrGI3YX"
      },
      "execution_count": null,
      "outputs": []
    },
    {
      "cell_type": "markdown",
      "source": [
        "### In this example, by using prefetch_related('category'), Django will perform a separate query to fetch all related Category instances, reducing the number of database queries and improving performance."
      ],
      "metadata": {
        "id": "yJucKZ6tJDRT"
      }
    },
    {
      "cell_type": "markdown",
      "source": [
        "## Refertences"
      ],
      "metadata": {
        "id": "Gg-_jcoIRR5z"
      }
    },
    {
      "cell_type": "markdown",
      "source": [
        "\n",
        "Django Model Relationships\n",
        "https://docs.djangoproject.com/en/5.1/topics/db/models/#relationships"
      ],
      "metadata": {
        "id": "CM74QZ1hRVDl"
      }
    },
    {
      "cell_type": "markdown",
      "source": [
        "Django ManyToManyField\n",
        "https://docs.djangoproject.com/en/5.2/topics/db/examples/one_to_one/\n"
      ],
      "metadata": {
        "id": "hspoKBYARjGo"
      }
    },
    {
      "cell_type": "markdown",
      "source": [
        "Related Object Deletion\n",
        "https://docs.djangoproject.com/en/5.2/ref/models/fields/#django.db.models.ForeignKey.on_delete\n"
      ],
      "metadata": {
        "id": "uYacYkysRsNj"
      }
    },
    {
      "cell_type": "markdown",
      "source": [
        "Query Perfomance\n",
        "https://docs.djangoproject.com/en/5.2/topics/db/optimization/\n"
      ],
      "metadata": {
        "id": "affMHy-8R30L"
      }
    }
  ]
}