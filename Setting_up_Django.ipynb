{
  "nbformat": 4,
  "nbformat_minor": 0,
  "metadata": {
    "colab": {
      "provenance": []
    },
    "kernelspec": {
      "name": "python3",
      "display_name": "Python 3"
    },
    "language_info": {
      "name": "python"
    }
  },
  "cells": [
    {
      "cell_type": "markdown",
      "source": [
        "# __CREATING DJANGO PROJCET__"
      ],
      "metadata": {
        "id": "vCvfnghlQ45r"
      }
    },
    {
      "cell_type": "markdown",
      "source": [
        "## To create a Django Project start by Create a folder for your project"
      ],
      "metadata": {
        "id": "ufyRqfbuVwpF"
      }
    },
    {
      "cell_type": "markdown",
      "source": [
        " ## __1. Set Up Your Environment__"
      ],
      "metadata": {
        "id": "aQZJTT3egeH2"
      }
    },
    {
      "cell_type": "markdown",
      "source": [
        "## Let assume the folder I have created is __myproject__"
      ],
      "metadata": {
        "id": "grKQUneNYz5P"
      }
    },
    {
      "cell_type": "markdown",
      "source": [
        "1. Copy folder location\n",
        "__How to copy folder location.__\n",
        "- Navigate to the folder using File Explorer.\n",
        "- Open the folder\n",
        "- On top inside that folder, you will see your folder name.\n",
        "- Click the name, and your folder location will appear.\n",
        "- Highlight right click then copy the location."
      ],
      "metadata": {
        "id": "Ky-vJTPeZAPL"
      }
    },
    {
      "cell_type": "markdown",
      "source": [
        "__It will look like this.__"
      ],
      "metadata": {
        "id": "KvFXk9jBbpxN"
      }
    },
    {
      "cell_type": "code",
      "source": [
        "\"\"\"\n",
        "C:\\Users\\ADMIN\\Desktop\\myproject\n",
        "\"\"\""
      ],
      "metadata": {
        "id": "MsyKkbdYcCTV"
      },
      "execution_count": null,
      "outputs": []
    },
    {
      "cell_type": "markdown",
      "source": [
        "### __After that navigate to the command prompt.__"
      ],
      "metadata": {
        "id": "BCrPBMN-cyDJ"
      }
    },
    {
      "cell_type": "markdown",
      "source": [
        "How to navigate to the command Prompt"
      ],
      "metadata": {
        "id": "NorPe5shc5Yz"
      }
    },
    {
      "cell_type": "markdown",
      "source": [
        "✅ Method 1: Search via Start Menu\n",
        "1. Press the Windows key on your keyboard (or click the Start menu).\n",
        "\n",
        "2. Type cmd.\n",
        "\n",
        "3. Click on Command Prompt from the search results."
      ],
      "metadata": {
        "id": "J8beppjzdDpD"
      }
    },
    {
      "cell_type": "markdown",
      "source": [
        "✅ Method 2: Use Run Dialog\n",
        "1. Press Windows Key + R on your keyboard.\n",
        "\n",
        "2. Type cmd and hit Enter."
      ],
      "metadata": {
        "id": "tplsD3UWd7Tu"
      }
    },
    {
      "cell_type": "markdown",
      "source": [],
      "metadata": {
        "id": "YXRbBka4qMW1"
      }
    },
    {
      "cell_type": "markdown",
      "source": [
        "### Once the Command Prompt is open type __cd__ plus your folder location __C:\\Users\\ADMIN\\Desktop\\myproject__"
      ],
      "metadata": {
        "id": "wSjpvSreeDvj"
      }
    },
    {
      "cell_type": "markdown",
      "source": [
        "__C:\\Users\\ADMIN\\Desktop\\myproject__"
      ],
      "metadata": {
        "id": "q92Hzuoab4hy"
      }
    },
    {
      "cell_type": "markdown",
      "source": [
        "![My Screenshot](https://github.com/IruraMwongera/irurajackblogs/blob/main/Screenshot%202025-07-17%20112400.png?raw=true)"
      ],
      "metadata": {
        "id": "WgOucQSLfyf-"
      }
    },
    {
      "cell_type": "markdown",
      "source": [
        "### This is changing the working folder, where you want to create your django project on your desktop."
      ],
      "metadata": {
        "id": "8lkBhZiif08-"
      }
    },
    {
      "cell_type": "markdown",
      "source": [
        "## __On your command prompt,Create and activate virtual environment (optional but recommended)__"
      ],
      "metadata": {
        "id": "94N_udbGg4mn"
      }
    },
    {
      "cell_type": "markdown",
      "source": [
        "## A virtual environment in Python is a self-contained directory that contains a specific Python interpreter and its own set of installed packages, isolated from your system-wide Python installation."
      ],
      "metadata": {
        "id": "kPNYbwbjhBAC"
      }
    },
    {
      "cell_type": "markdown",
      "source": [
        "## Why Use a Virtual Environment?\n",
        "### 1. Avoid Conflicts: Different projects might need different versions of Django or other libraries. A virtual environment keeps dependencies isolated.\n",
        "\n",
        "### 2. Cleaner Projects: You install only the packages your project needs.\n",
        "\n",
        "### 3. Safe Testing: You can test packages or Python versions without affecting your system or other projects."
      ],
      "metadata": {
        "id": "S-dR-ejGhjX7"
      }
    },
    {
      "cell_type": "markdown",
      "source": [
        "## What Happens Inside a Virtual Environment?\n",
        " - ### It creates a folder (e.g., venv/) with:\n",
        "\n",
        "- ### A local Python interpreter\n",
        "- ### A local pip (package manager)\n",
        "- ### Site-packages directory (where installed libraries live)"
      ],
      "metadata": {
        "id": "PpVjn1iah5Un"
      }
    },
    {
      "cell_type": "markdown",
      "source": [
        "## __Create and activate virtual environment.__"
      ],
      "metadata": {
        "id": "uv72RbNUi-dW"
      }
    },
    {
      "cell_type": "code",
      "source": [
        "\"\"\"\n",
        "python -m venv venv\n",
        "source venv/bin/activate  # On Windows: venv\\Scripts\\activate\n",
        "\"\"\""
      ],
      "metadata": {
        "id": "SEqXEv62iz7T"
      },
      "execution_count": null,
      "outputs": []
    },
    {
      "cell_type": "markdown",
      "source": [
        "## __Install Django__"
      ],
      "metadata": {
        "id": "_GZ_ZOlgjHnB"
      }
    },
    {
      "cell_type": "code",
      "source": [
        "\"\"\"\n",
        "pip install django\n",
        "\"\"\""
      ],
      "metadata": {
        "id": "kasZLFKHjVaQ"
      },
      "execution_count": null,
      "outputs": []
    },
    {
      "cell_type": "markdown",
      "source": [
        "# __2. Create the Django Project__"
      ],
      "metadata": {
        "id": "da5p3_OYjm2j"
      }
    },
    {
      "cell_type": "markdown",
      "source": [
        "## __Creating a New Project>__"
      ],
      "metadata": {
        "id": "6twn0LuRV2Cg"
      }
    },
    {
      "cell_type": "markdown",
      "source": [
        "### Django provides a command-line utility called django-admin to create a new project.\n",
        "### To create a new project navigate to the directory where you want to create your project and execute the below command by replacing project_name with the desired name for your project."
      ],
      "metadata": {
        "id": "gJ2MJOeYV6sf"
      }
    },
    {
      "cell_type": "markdown",
      "source": [
        "### Let assume the project is called __LibraryProject__"
      ],
      "metadata": {
        "id": "DcnPfbwCWQAl"
      }
    },
    {
      "cell_type": "code",
      "source": [
        "\"\"\"\n",
        "django-admin startproject LibraryProject\n",
        "\"\"\""
      ],
      "metadata": {
        "id": "PiOqEPZ0WMcK"
      },
      "execution_count": null,
      "outputs": []
    },
    {
      "cell_type": "markdown",
      "source": [
        "### This command will create a new directory with the project name and several files and directories inside it."
      ],
      "metadata": {
        "id": "b_PSPyTeXBSh"
      }
    },
    {
      "cell_type": "markdown",
      "source": [
        "# __Project Structure__"
      ],
      "metadata": {
        "id": "OZ1xedsDXDtr"
      }
    },
    {
      "cell_type": "markdown",
      "source": [
        "## After creating a new Django project, you’ll find the following essential files and directories:"
      ],
      "metadata": {
        "id": "Lnz90SEVXcv0"
      }
    },
    {
      "cell_type": "code",
      "source": [
        "\"\"\"\n",
        "LibraryProject/\n",
        "    manage.py\n",
        "    LibraryProject/\n",
        "        __init__.py\n",
        "        settings.py\n",
        "        urls.py\n",
        "        asgi.py\n",
        "        wsgi.py\n",
        "\"\"\""
      ],
      "metadata": {
        "id": "27YYXnq1XyLI"
      },
      "execution_count": null,
      "outputs": []
    },
    {
      "cell_type": "markdown",
      "source": [
        "- ### __LibraryProject/__: The root directory of your project.\n",
        "- ### __manage.py__: A command-line utility for managing your Django project.\n",
        "- ### __LinraryProject/__: A Python package directory with project-specific settings and configurations.\n",
        "- ### __init__.py: An empty file that tells Python that this directory should be considered a Python package.\n",
        "- ### __settings.py__: This file contains the project’s settings and configurations, such as database settings, installed apps, and static file settings.\n",
        "- ### __urls.py__: This file defines the URL patterns for the project and maps them to the appropriate views.\n",
        "- ### __asgi.py__: An entry point for ASGI-compatible web servers to serve the project.\n",
        "- ### __wsgi.py__: An entry point for WSGI-compatible web servers to serve the project."
      ],
      "metadata": {
        "id": "Pac6HN4KYOvX"
      }
    },
    {
      "cell_type": "markdown",
      "source": [
        "# __3. Run Initial Server to Verify Setup__"
      ],
      "metadata": {
        "id": "qG-gOzzKkm2-"
      }
    },
    {
      "cell_type": "code",
      "source": [
        "\"\"\"\n",
        "python manage.py runserver\n",
        "\"\"\""
      ],
      "metadata": {
        "id": "UI1Pss5elAuC"
      },
      "execution_count": null,
      "outputs": []
    },
    {
      "cell_type": "markdown",
      "source": [
        "## __Open http://127.0.0.1:8000/ to check that Django is running.__"
      ],
      "metadata": {
        "id": "faKo45W_lL5B"
      }
    },
    {
      "cell_type": "markdown",
      "source": [
        "# __NOW YOU ARE READY TO CREATE YOUR FIRST DJANGO APP__"
      ],
      "metadata": {
        "id": "bq1skxpOll7U"
      }
    },
    {
      "cell_type": "markdown",
      "source": [
        "## __Django Apps__"
      ],
      "metadata": {
        "id": "ya9VC_XkZjQD"
      }
    },
    {
      "cell_type": "markdown",
      "source": [
        "### In the Django web framework, a project and an app are related but distinct concepts. A Django project is a collection of settings and configurations for a particular Django web application. It acts as a container for one or more Django apps. It defines the database settings, installed apps, middleware, templates, and other project-level configurations.\n",
        "\n",
        "### On the hand, an app in Django is a self-contained, reusable module that represents a specific functionality or feature of your web application. A Django project can have multiple apps, each responsible for a specific aspect of the application. Apps contain models (database schemas), views (handling HTTP requests and responses), templates (HTML files), and other app-specific files. Examples of apps might include a blog app, a user authentication app, an e-commerce app, etc."
      ],
      "metadata": {
        "id": "gymwJGxhZr2s"
      }
    },
    {
      "cell_type": "markdown",
      "source": [
        "## __How to Create django app.__"
      ],
      "metadata": {
        "id": "HL235dmhlwyA"
      }
    },
    {
      "cell_type": "markdown",
      "source": [
        "## Apps handle specific functionalities (e.g., blog, accounts, store)."
      ],
      "metadata": {
        "id": "rDsVGjKVl2e8"
      }
    },
    {
      "cell_type": "code",
      "source": [
        "\"\"\"\n",
        "python manage.py startapp myapp\n",
        "\"\"\""
      ],
      "metadata": {
        "id": "4N0eCr5umyem"
      },
      "execution_count": null,
      "outputs": []
    },
    {
      "cell_type": "markdown",
      "source": [
        "### When you create a new Django app using the above command, Django generates several files within the app directory."
      ],
      "metadata": {
        "id": "EbvdVXEzaDb2"
      }
    },
    {
      "cell_type": "code",
      "source": [
        "\"\"\"\n",
        "myapp/\n",
        "    __init__.py\n",
        "    admin.py\n",
        "    apps.py\n",
        "    migrations/\n",
        "        __init__.py\n",
        "    models.py\n",
        "    tests.py\n",
        "    views.py\n",
        "\"\"\""
      ],
      "metadata": {
        "id": "gxGWlTaQaU5Q"
      },
      "execution_count": null,
      "outputs": []
    },
    {
      "cell_type": "markdown",
      "source": [
        "### 1. __admin.py__ : This file is used to register your models with the Django admin interface, which provides a user-friendly way to manage your application’s data through a web interface.\n",
        "### 2. __apps.py__: This file is used to define the configuration and metadata for your app. It contains a Config class that inherits from django.apps.AppConfig and includes metadata such as the app name and label.\n",
        "### 3. __migrations/__: This directory is created the first time you run migrations for your app. It stores migration files that keep track of changes to your models, allowing you to evolve your database schema over time.\n",
        "### 4. __models.py__: This file is where you define your data models, which represent the database tables for your application. Models are defined as Python classes that inherit from django.db.models.Model\n",
        "### 5. __tests.py__: This file is used to write unit tests for your app’s models, views, and other components. Django provides a built-in testing framework to help you write and run tests.\n",
        "### 6. __views.py__: This file contains the view functions that handle HTTP requests and return HTTP responses. Views are responsible for processing user input, interacting with models, and rendering templates."
      ],
      "metadata": {
        "id": "X0otRXWraZnM"
      }
    },
    {
      "cell_type": "markdown",
      "source": [
        "## __Setting Up Your Django App__"
      ],
      "metadata": {
        "id": "4MZeEaz-bg14"
      }
    },
    {
      "cell_type": "markdown",
      "source": [
        "### Adding A simple view : Open the file myapp/views.py and add the following lines “` from django.http import HttpResponse\n",
        "\n",
        "### def index(request): return HttpResponse(\"Welcome to my app.”) “`\n",
        "\n",
        "### This is the simplest view possible in Django. To call the view, we need to map it to a URL - and for this we need a URLconf. Hence, to create a URLconf in the book_store directory, create a file called urls.py and update it to contain the following code."
      ],
      "metadata": {
        "id": "xdxqRlBIbkfC"
      }
    },
    {
      "cell_type": "code",
      "source": [
        "\"\"\"\n",
        "from django.urls import path\n",
        "from . import views\n",
        "\n",
        "urlpatterns = [\n",
        "    path(\"\", views.index, name=\"index\"),\n",
        "]\n",
        "\"\"\""
      ],
      "metadata": {
        "id": "n0Bd2JTFcGHi"
      },
      "execution_count": null,
      "outputs": []
    },
    {
      "cell_type": "markdown",
      "source": [
        "## Next, lets update the root URLconf to include our updated route. Open the LibraryProject/urls.py and update it according to the below code"
      ],
      "metadata": {
        "id": "trMIK2FxcSGa"
      }
    },
    {
      "cell_type": "code",
      "source": [
        "\"\"\"\n",
        "from django.contrib import admin\n",
        "from django.urls import include, path\n",
        "\n",
        "urlpatterns = [\n",
        "    path(\"books/\", include(\"myapp.urls\")),\n",
        "    path(\"admin/\", admin.site.urls),\n",
        "]\n",
        "\"\"\""
      ],
      "metadata": {
        "id": "a1zX2YKkcd56"
      },
      "execution_count": null,
      "outputs": []
    },
    {
      "cell_type": "markdown",
      "source": [
        "## The next step is to register it to our project so that it will be included when any tools are run. We do this by adding them to the INSTALLED_APPS list found in settings.py file"
      ],
      "metadata": {
        "id": "AyLSY_9pcq2k"
      }
    },
    {
      "cell_type": "code",
      "source": [
        "\"\"\"\n",
        "INSTALLED_APPS = [\n",
        "    'django.contrib.admin',\n",
        "    'django.contrib.auth',\n",
        "    'django.contrib.contenttypes',\n",
        "    'django.contrib.sessions',\n",
        "    'django.contrib.messages',\n",
        "    'django.contrib.staticfiles',\n",
        "    'myapp',\n",
        "]\n",
        "\"\"\""
      ],
      "metadata": {
        "id": "34MTPZIhctf8"
      },
      "execution_count": null,
      "outputs": []
    },
    {
      "cell_type": "markdown",
      "source": [
        "# __Start Building Models, Views, URLs, Templates.__"
      ],
      "metadata": {
        "id": "Hlg1SddJnK-l"
      }
    },
    {
      "cell_type": "markdown",
      "source": [
        "### - Create models in __myapp/models.py__\n",
        "\n",
        "### - Register them in __admin.py__\n",
        "\n",
        "### - Create views in __views.py__\n",
        "\n",
        "### - Set up routing in __myapp/urls.py__\n",
        "\n",
        "### - Connect myapp.urls in the __config/urls.py__"
      ],
      "metadata": {
        "id": "L9OjwNOxnYp6"
      }
    },
    {
      "cell_type": "markdown",
      "source": [
        "# __AN EXAMPLE__"
      ],
      "metadata": {
        "id": "_UMh3LyJpHG_"
      }
    },
    {
      "cell_type": "markdown",
      "source": [
        "![My Screenshot](https://github.com/IruraMwongera/irurajackblogs/blob/main/Screenshot%202025-07-17%20121040.png?raw=true)"
      ],
      "metadata": {
        "id": "gfOsQuk0qQiv"
      }
    },
    {
      "cell_type": "markdown",
      "source": [
        "## 0. __First I navigate to my folder.__"
      ],
      "metadata": {
        "id": "vGYL6as1rMEj"
      }
    },
    {
      "cell_type": "code",
      "source": [
        "\"\"\"\n",
        " C:\\Users\\ADMIN\\Desktop\\Alx_DjangoLearnLab\\django-models\\LibraryProject\n",
        "\"\"\""
      ],
      "metadata": {
        "id": "VYKlzpWsrUqr"
      },
      "execution_count": null,
      "outputs": []
    },
    {
      "cell_type": "markdown",
      "source": [
        " ### __1. Create the relationship_app__"
      ],
      "metadata": {
        "id": "_wmXOw4jrrju"
      }
    },
    {
      "cell_type": "code",
      "source": [
        "\"\"\"\n",
        "python manage.py startapp relationship_app\n",
        "\"\"\""
      ],
      "metadata": {
        "id": "V8QJheKwr6BY"
      },
      "execution_count": null,
      "outputs": []
    },
    {
      "cell_type": "markdown",
      "source": [
        "### Then, add __relationship_app__ to INSTALLED_APPS in __settings.py__:"
      ],
      "metadata": {
        "id": "SCu11nfksALZ"
      }
    },
    {
      "cell_type": "code",
      "source": [
        "\"\"\"\n",
        "# django-models/settings.py\n",
        "INSTALLED_APPS = [\n",
        "    ...,\n",
        "    'relationship_app',\n",
        "]\n",
        "\"\"\""
      ],
      "metadata": {
        "id": "echHXKEZsO4g"
      },
      "execution_count": null,
      "outputs": []
    },
    {
      "cell_type": "markdown",
      "source": [
        "## __2. Define Models in relationship_app/models.py__"
      ],
      "metadata": {
        "id": "hkr_stia1-jr"
      }
    },
    {
      "cell_type": "code",
      "source": [
        "\"\"\"\n",
        "from django.db import models\n",
        "\n",
        "class Author(models.Model):\n",
        "    name = models.CharField(max_length=100)\n",
        "\n",
        "    def __str__(self):\n",
        "        return self.name\n",
        "\n",
        "class Book(models.Model):\n",
        "    title = models.CharField(max_length=200)\n",
        "    author = models.ForeignKey(Author, on_delete=models.CASCADE)\n",
        "\n",
        "    def __str__(self):\n",
        "        return self.title\n",
        "\n",
        "class Library(models.Model):\n",
        "    name = models.CharField(max_length=100, unique=True)  # Prevent duplicates\n",
        "    books = models.ManyToManyField(Book)\n",
        "\n",
        "    def __str__(self):\n",
        "        return self.name\n",
        "\n",
        "class Librarian(models.Model):\n",
        "    name = models.CharField(max_length=100)\n",
        "    library = models.OneToOneField(Library, on_delete=models.CASCADE)\n",
        "\n",
        "    def __str__(self):\n",
        "        return self.name\n",
        "\n",
        "\"\"\""
      ],
      "metadata": {
        "id": "F9gJqsFE1_CE"
      },
      "execution_count": null,
      "outputs": []
    },
    {
      "cell_type": "markdown",
      "source": [
        "## __3. Apply Database Migrations:__"
      ],
      "metadata": {
        "id": "3qysjHos4fiS"
      }
    },
    {
      "cell_type": "code",
      "source": [
        "\"\"\"\n",
        "python manage.py makemigrations relationship_app\n",
        "python manage.py migrate\n",
        "\"\"\""
      ],
      "metadata": {
        "id": "IW3e-Jf84r5H"
      },
      "execution_count": null,
      "outputs": []
    },
    {
      "cell_type": "markdown",
      "source": [
        "![My Screenshot](https://github.com/IruraMwongera/irurajackblogs/blob/main/Screenshot%202025-07-17%20131011.png?raw=true)"
      ],
      "metadata": {
        "id": "Gi3Hk3PV36Qe"
      }
    },
    {
      "cell_type": "markdown",
      "source": [
        "## __4. Implement Sample Queries:__"
      ],
      "metadata": {
        "id": "-tUJkCAr5y05"
      }
    },
    {
      "cell_type": "markdown",
      "source": [
        "- ### Prepare a Python script query_samples.py in the relationship_app directory. This script should contain the query for each of the following of relationship:\n",
        "1. Query all books by a specific author.\n",
        "2. List all books in a library.\n",
        "3. Retrieve the librarian for a library."
      ],
      "metadata": {
        "id": "rtvviY3Q59zQ"
      }
    },
    {
      "cell_type": "markdown",
      "source": [
        "## __Create query_samples.py in relationship_app/:__"
      ],
      "metadata": {
        "id": "zzfFAegf6Qt9"
      }
    },
    {
      "cell_type": "code",
      "source": [
        "\"\"\"\n",
        "C:\\Users\\ADMIN\\Desktop\\Alx_DjangoLearnLab\\django-models\\LibraryProject\\relationship_app>notepad query_samples.py\n",
        "\"\"\""
      ],
      "metadata": {
        "id": "QL7guKFw7LJK"
      },
      "execution_count": null,
      "outputs": []
    },
    {
      "cell_type": "code",
      "source": [
        "\"\"\"\n",
        "# relationship_app/query_samples.py\n",
        "\n",
        "import os\n",
        "import django\n",
        "\n",
        "# Setup Django environment\n",
        "os.environ.setdefault(\"DJANGO_SETTINGS_MODULE\", \"django_models.settings\")  # adjust if your project name is different\n",
        "django.setup()\n",
        "\n",
        "from relationship_app.models import Author, Book, Library, Librarian\n",
        "\n",
        "def run_queries():\n",
        "    # Query 1: All books by a specific author\n",
        "    author_name = \"John Doe\"\n",
        "    author = Author.objects.get(name=author_name)\n",
        "    books_by_author = Book.objects.filter(author=author)\n",
        "    print(f\"Books by {author_name}: {[book.title for book in books_by_author]}\")\n",
        "\n",
        "    # Query 2: List all books in a library\n",
        "    library_name = \"Central Library\"\n",
        "    library = Library.objects.get(name=library_name)\n",
        "    library_books = library.books.all()\n",
        "    print(f\"Books in {library_name}: {[book.title for book in library_books]}\")\n",
        "\n",
        "    # Query 3: Retrieve the librarian for a library\n",
        "    librarian = Librarian.objects.get(library=library)\n",
        "    print(f\"Librarian at {library_name}: {librarian.name}\")\n",
        "\n",
        "if __name__ == \"__main__\":\n",
        "    run_queries()\n",
        "\"\"\""
      ],
      "metadata": {
        "id": "Gbt1Dpho8HgV"
      },
      "execution_count": null,
      "outputs": []
    },
    {
      "cell_type": "markdown",
      "source": [
        " ## __5. Test with Sample Data__"
      ],
      "metadata": {
        "id": "43y7RGLl8OxT"
      }
    },
    {
      "cell_type": "code",
      "source": [
        "\"\"\"\n",
        "C:\\Users\\ADMIN\\Desktop\\Alx_DjangoLearnLab\\django-models\\LibraryProject>python manage.py shell\n",
        "\"\"\""
      ],
      "metadata": {
        "id": "Xi1yX68v9X_O"
      },
      "execution_count": null,
      "outputs": []
    },
    {
      "cell_type": "markdown",
      "source": [
        "### __Once your python shell opens, add your data.__"
      ],
      "metadata": {
        "id": "kEUGXfaD9ikj"
      }
    },
    {
      "cell_type": "markdown",
      "source": [
        "### Example:"
      ],
      "metadata": {
        "id": "NbIL6P_yEGjK"
      }
    },
    {
      "cell_type": "code",
      "source": [
        "\"\"\"\n",
        "from relationship_app.models import Author, Book, Library, Librarian\n",
        "\n",
        "# Create an author\n",
        "author = Author.objects.create(name=\"John Doe\")\n",
        "\n",
        "# Create books\n",
        "book1 = Book.objects.create(title=\"Django for Pros\", author=author)\n",
        "book2 = Book.objects.create(title=\"Advanced Django\", author=author)\n",
        "\n",
        "# Create library\n",
        "library = Library.objects.create(name=\"Central Library\")\n",
        "library.books.set([book1, book2])\n",
        "\n",
        "# Create librarian\n",
        "librarian = Librarian.objects.create(name=\"Jane Smith\", library=library)\n",
        "\"\"\""
      ],
      "metadata": {
        "id": "NAxlCVVGEM3e"
      },
      "execution_count": null,
      "outputs": []
    },
    {
      "cell_type": "markdown",
      "source": [
        "# References"
      ],
      "metadata": {
        "id": "yJ0_Cl-SeW02"
      }
    },
    {
      "cell_type": "markdown",
      "source": [
        "Django Installation Guide https://docs.djangoproject.com/en/5.2/topics/install/"
      ],
      "metadata": {
        "id": "h_HgdRsCeZ2y"
      }
    },
    {
      "cell_type": "markdown",
      "source": [
        "Writing your first Django app https://docs.djangoproject.com/en/5.2/intro/tutorial01/\n"
      ],
      "metadata": {
        "id": "Xe80OXVfegoH"
      }
    }
  ]
}